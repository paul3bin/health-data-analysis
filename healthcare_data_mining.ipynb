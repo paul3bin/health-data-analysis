{
 "cells": [
  {
   "cell_type": "code",
   "execution_count": 1,
   "metadata": {},
   "outputs": [],
   "source": [
    "# setting up imports\n",
    "import numpy as np\n",
    "import pandas as pd\n",
    "import matplotlib.pyplot as plt\n",
    "import seaborn as sns"
   ]
  },
  {
   "attachments": {},
   "cell_type": "markdown",
   "metadata": {},
   "source": [
    "## Data Exploration\n",
    "\n",
    "Loading the data as a DataFrame, and viewing the first 5 rows of data"
   ]
  },
  {
   "cell_type": "code",
   "execution_count": 2,
   "metadata": {},
   "outputs": [
    {
     "data": {
      "text/html": [
       "<div>\n",
       "<style scoped>\n",
       "    .dataframe tbody tr th:only-of-type {\n",
       "        vertical-align: middle;\n",
       "    }\n",
       "\n",
       "    .dataframe tbody tr th {\n",
       "        vertical-align: top;\n",
       "    }\n",
       "\n",
       "    .dataframe thead th {\n",
       "        text-align: right;\n",
       "    }\n",
       "</style>\n",
       "<table border=\"1\" class=\"dataframe\">\n",
       "  <thead>\n",
       "    <tr style=\"text-align: right;\">\n",
       "      <th></th>\n",
       "      <th>id</th>\n",
       "      <th>x1</th>\n",
       "      <th>x2</th>\n",
       "      <th>x3</th>\n",
       "      <th>x4</th>\n",
       "      <th>x5</th>\n",
       "      <th>x6</th>\n",
       "      <th>x7</th>\n",
       "      <th>x8</th>\n",
       "      <th>x9</th>\n",
       "      <th>...</th>\n",
       "      <th>x16</th>\n",
       "      <th>x17</th>\n",
       "      <th>x18</th>\n",
       "      <th>x19</th>\n",
       "      <th>x20</th>\n",
       "      <th>x21</th>\n",
       "      <th>x22</th>\n",
       "      <th>x23</th>\n",
       "      <th>x24</th>\n",
       "      <th>target</th>\n",
       "    </tr>\n",
       "  </thead>\n",
       "  <tbody>\n",
       "    <tr>\n",
       "      <th>0</th>\n",
       "      <td>PA1001</td>\n",
       "      <td>1406</td>\n",
       "      <td>145.0</td>\n",
       "      <td>F</td>\n",
       "      <td>0.005</td>\n",
       "      <td>0.000</td>\n",
       "      <td>0.002</td>\n",
       "      <td>0.000</td>\n",
       "      <td>0.0</td>\n",
       "      <td>0.0</td>\n",
       "      <td>...</td>\n",
       "      <td>104.0</td>\n",
       "      <td>171.0</td>\n",
       "      <td>4.0</td>\n",
       "      <td>0.0</td>\n",
       "      <td>155.0</td>\n",
       "      <td>153.0</td>\n",
       "      <td>154.0</td>\n",
       "      <td>4.0</td>\n",
       "      <td>1.0</td>\n",
       "      <td>Low risk</td>\n",
       "    </tr>\n",
       "    <tr>\n",
       "      <th>1</th>\n",
       "      <td>PA1002</td>\n",
       "      <td>258</td>\n",
       "      <td>127.0</td>\n",
       "      <td>M</td>\n",
       "      <td>0.012</td>\n",
       "      <td>0.000</td>\n",
       "      <td>0.008</td>\n",
       "      <td>0.004</td>\n",
       "      <td>0.0</td>\n",
       "      <td>0.0</td>\n",
       "      <td>...</td>\n",
       "      <td>53.0</td>\n",
       "      <td>191.0</td>\n",
       "      <td>12.0</td>\n",
       "      <td>1.0</td>\n",
       "      <td>133.0</td>\n",
       "      <td>126.0</td>\n",
       "      <td>131.0</td>\n",
       "      <td>41.0</td>\n",
       "      <td>0.0</td>\n",
       "      <td>Low risk</td>\n",
       "    </tr>\n",
       "    <tr>\n",
       "      <th>2</th>\n",
       "      <td>PA1003</td>\n",
       "      <td>479</td>\n",
       "      <td>145.0</td>\n",
       "      <td>F</td>\n",
       "      <td>0.000</td>\n",
       "      <td>0.000</td>\n",
       "      <td>0.000</td>\n",
       "      <td>0.002</td>\n",
       "      <td>0.0</td>\n",
       "      <td>0.0</td>\n",
       "      <td>...</td>\n",
       "      <td>111.0</td>\n",
       "      <td>157.0</td>\n",
       "      <td>1.0</td>\n",
       "      <td>1.0</td>\n",
       "      <td>150.0</td>\n",
       "      <td>146.0</td>\n",
       "      <td>149.0</td>\n",
       "      <td>6.0</td>\n",
       "      <td>1.0</td>\n",
       "      <td>Low risk</td>\n",
       "    </tr>\n",
       "    <tr>\n",
       "      <th>3</th>\n",
       "      <td>PA1004</td>\n",
       "      <td>906</td>\n",
       "      <td>146.0</td>\n",
       "      <td>F</td>\n",
       "      <td>0.004</td>\n",
       "      <td>0.000</td>\n",
       "      <td>0.005</td>\n",
       "      <td>0.003</td>\n",
       "      <td>0.0</td>\n",
       "      <td>0.0</td>\n",
       "      <td>...</td>\n",
       "      <td>107.0</td>\n",
       "      <td>169.0</td>\n",
       "      <td>2.0</td>\n",
       "      <td>2.0</td>\n",
       "      <td>150.0</td>\n",
       "      <td>147.0</td>\n",
       "      <td>149.0</td>\n",
       "      <td>7.0</td>\n",
       "      <td>0.0</td>\n",
       "      <td>Low risk</td>\n",
       "    </tr>\n",
       "    <tr>\n",
       "      <th>4</th>\n",
       "      <td>PA1005</td>\n",
       "      <td>1921</td>\n",
       "      <td>140.0</td>\n",
       "      <td>F</td>\n",
       "      <td>0.002</td>\n",
       "      <td>0.003</td>\n",
       "      <td>0.006</td>\n",
       "      <td>0.006</td>\n",
       "      <td>0.0</td>\n",
       "      <td>0.0</td>\n",
       "      <td>...</td>\n",
       "      <td>75.0</td>\n",
       "      <td>228.0</td>\n",
       "      <td>9.0</td>\n",
       "      <td>0.0</td>\n",
       "      <td>142.0</td>\n",
       "      <td>118.0</td>\n",
       "      <td>142.0</td>\n",
       "      <td>20.0</td>\n",
       "      <td>0.0</td>\n",
       "      <td>Low risk</td>\n",
       "    </tr>\n",
       "  </tbody>\n",
       "</table>\n",
       "<p>5 rows × 26 columns</p>\n",
       "</div>"
      ],
      "text/plain": [
       "       id    x1     x2 x3     x4     x5     x6     x7   x8   x9  ...    x16  \\\n",
       "0  PA1001  1406  145.0  F  0.005  0.000  0.002  0.000  0.0  0.0  ...  104.0   \n",
       "1  PA1002   258  127.0  M  0.012  0.000  0.008  0.004  0.0  0.0  ...   53.0   \n",
       "2  PA1003   479  145.0  F  0.000  0.000  0.000  0.002  0.0  0.0  ...  111.0   \n",
       "3  PA1004   906  146.0  F  0.004  0.000  0.005  0.003  0.0  0.0  ...  107.0   \n",
       "4  PA1005  1921  140.0  F  0.002  0.003  0.006  0.006  0.0  0.0  ...   75.0   \n",
       "\n",
       "     x17   x18  x19    x20    x21    x22   x23  x24    target  \n",
       "0  171.0   4.0  0.0  155.0  153.0  154.0   4.0  1.0  Low risk  \n",
       "1  191.0  12.0  1.0  133.0  126.0  131.0  41.0  0.0  Low risk  \n",
       "2  157.0   1.0  1.0  150.0  146.0  149.0   6.0  1.0  Low risk  \n",
       "3  169.0   2.0  2.0  150.0  147.0  149.0   7.0  0.0  Low risk  \n",
       "4  228.0   9.0  0.0  142.0  118.0  142.0  20.0  0.0  Low risk  \n",
       "\n",
       "[5 rows x 26 columns]"
      ]
     },
     "execution_count": 2,
     "metadata": {},
     "output_type": "execute_result"
    }
   ],
   "source": [
    "health_train_data = pd.read_csv(\"health_train.csv\")\n",
    "health_train_data.head()"
   ]
  },
  {
   "cell_type": "code",
   "execution_count": 3,
   "metadata": {},
   "outputs": [
    {
     "data": {
      "text/html": [
       "<div>\n",
       "<style scoped>\n",
       "    .dataframe tbody tr th:only-of-type {\n",
       "        vertical-align: middle;\n",
       "    }\n",
       "\n",
       "    .dataframe tbody tr th {\n",
       "        vertical-align: top;\n",
       "    }\n",
       "\n",
       "    .dataframe thead th {\n",
       "        text-align: right;\n",
       "    }\n",
       "</style>\n",
       "<table border=\"1\" class=\"dataframe\">\n",
       "  <thead>\n",
       "    <tr style=\"text-align: right;\">\n",
       "      <th></th>\n",
       "      <th>id</th>\n",
       "      <th>x1</th>\n",
       "      <th>x2</th>\n",
       "      <th>x3</th>\n",
       "      <th>x4</th>\n",
       "      <th>x5</th>\n",
       "      <th>x6</th>\n",
       "      <th>x7</th>\n",
       "      <th>x8</th>\n",
       "      <th>x9</th>\n",
       "      <th>...</th>\n",
       "      <th>x16</th>\n",
       "      <th>x17</th>\n",
       "      <th>x18</th>\n",
       "      <th>x19</th>\n",
       "      <th>x20</th>\n",
       "      <th>x21</th>\n",
       "      <th>x22</th>\n",
       "      <th>x23</th>\n",
       "      <th>x24</th>\n",
       "      <th>target</th>\n",
       "    </tr>\n",
       "  </thead>\n",
       "  <tbody>\n",
       "  </tbody>\n",
       "</table>\n",
       "<p>0 rows × 26 columns</p>\n",
       "</div>"
      ],
      "text/plain": [
       "Empty DataFrame\n",
       "Columns: [id, x1, x2, x3, x4, x5, x6, x7, x8, x9, x10, x11, x12, x13, x14, x15, x16, x17, x18, x19, x20, x21, x22, x23, x24, target]\n",
       "Index: []\n",
       "\n",
       "[0 rows x 26 columns]"
      ]
     },
     "execution_count": 3,
     "metadata": {},
     "output_type": "execute_result"
    }
   ],
   "source": [
    "health_train_data[health_train_data.duplicated()]"
   ]
  },
  {
   "cell_type": "code",
   "execution_count": 4,
   "metadata": {},
   "outputs": [
    {
     "data": {
      "text/html": [
       "<div>\n",
       "<style scoped>\n",
       "    .dataframe tbody tr th:only-of-type {\n",
       "        vertical-align: middle;\n",
       "    }\n",
       "\n",
       "    .dataframe tbody tr th {\n",
       "        vertical-align: top;\n",
       "    }\n",
       "\n",
       "    .dataframe thead th {\n",
       "        text-align: right;\n",
       "    }\n",
       "</style>\n",
       "<table border=\"1\" class=\"dataframe\">\n",
       "  <thead>\n",
       "    <tr style=\"text-align: right;\">\n",
       "      <th></th>\n",
       "      <th>id</th>\n",
       "      <th>x1</th>\n",
       "      <th>x2</th>\n",
       "      <th>x3</th>\n",
       "      <th>x4</th>\n",
       "      <th>x5</th>\n",
       "      <th>x6</th>\n",
       "      <th>x7</th>\n",
       "      <th>x8</th>\n",
       "      <th>x9</th>\n",
       "      <th>...</th>\n",
       "      <th>x16</th>\n",
       "      <th>x17</th>\n",
       "      <th>x18</th>\n",
       "      <th>x19</th>\n",
       "      <th>x20</th>\n",
       "      <th>x21</th>\n",
       "      <th>x22</th>\n",
       "      <th>x23</th>\n",
       "      <th>x24</th>\n",
       "      <th>target</th>\n",
       "    </tr>\n",
       "  </thead>\n",
       "  <tbody>\n",
       "    <tr>\n",
       "      <th>1579</th>\n",
       "      <td>PA2580</td>\n",
       "      <td>2077</td>\n",
       "      <td>130.0</td>\n",
       "      <td>M</td>\n",
       "      <td>0.005</td>\n",
       "      <td>0.001</td>\n",
       "      <td>0.001</td>\n",
       "      <td>0.000</td>\n",
       "      <td>0.0</td>\n",
       "      <td>0.000</td>\n",
       "      <td>...</td>\n",
       "      <td>127.0</td>\n",
       "      <td>158.0</td>\n",
       "      <td>2.0</td>\n",
       "      <td>0.0</td>\n",
       "      <td>139.0</td>\n",
       "      <td>139.0</td>\n",
       "      <td>140.0</td>\n",
       "      <td>3.0</td>\n",
       "      <td>0.0</td>\n",
       "      <td>Low risk</td>\n",
       "    </tr>\n",
       "    <tr>\n",
       "      <th>1580</th>\n",
       "      <td>PA2581</td>\n",
       "      <td>664</td>\n",
       "      <td>138.0</td>\n",
       "      <td>F</td>\n",
       "      <td>0.000</td>\n",
       "      <td>0.003</td>\n",
       "      <td>0.003</td>\n",
       "      <td>0.000</td>\n",
       "      <td>0.0</td>\n",
       "      <td>0.002</td>\n",
       "      <td>...</td>\n",
       "      <td>69.0</td>\n",
       "      <td>187.0</td>\n",
       "      <td>10.0</td>\n",
       "      <td>1.0</td>\n",
       "      <td>142.0</td>\n",
       "      <td>130.0</td>\n",
       "      <td>140.0</td>\n",
       "      <td>61.0</td>\n",
       "      <td>0.0</td>\n",
       "      <td>Moderate risk</td>\n",
       "    </tr>\n",
       "    <tr>\n",
       "      <th>1581</th>\n",
       "      <td>PA2582</td>\n",
       "      <td>1431</td>\n",
       "      <td>144.0</td>\n",
       "      <td>F</td>\n",
       "      <td>0.000</td>\n",
       "      <td>0.000</td>\n",
       "      <td>0.006</td>\n",
       "      <td>0.000</td>\n",
       "      <td>0.0</td>\n",
       "      <td>0.000</td>\n",
       "      <td>...</td>\n",
       "      <td>139.0</td>\n",
       "      <td>169.0</td>\n",
       "      <td>2.0</td>\n",
       "      <td>0.0</td>\n",
       "      <td>157.0</td>\n",
       "      <td>155.0</td>\n",
       "      <td>157.0</td>\n",
       "      <td>2.0</td>\n",
       "      <td>0.0</td>\n",
       "      <td>Moderate risk</td>\n",
       "    </tr>\n",
       "    <tr>\n",
       "      <th>1582</th>\n",
       "      <td>PA2583</td>\n",
       "      <td>630</td>\n",
       "      <td>134.0</td>\n",
       "      <td>F</td>\n",
       "      <td>0.017</td>\n",
       "      <td>0.002</td>\n",
       "      <td>0.004</td>\n",
       "      <td>0.000</td>\n",
       "      <td>0.0</td>\n",
       "      <td>0.000</td>\n",
       "      <td>...</td>\n",
       "      <td>50.0</td>\n",
       "      <td>170.0</td>\n",
       "      <td>5.0</td>\n",
       "      <td>0.0</td>\n",
       "      <td>160.0</td>\n",
       "      <td>150.0</td>\n",
       "      <td>155.0</td>\n",
       "      <td>28.0</td>\n",
       "      <td>1.0</td>\n",
       "      <td>Low risk</td>\n",
       "    </tr>\n",
       "    <tr>\n",
       "      <th>1583</th>\n",
       "      <td>PA2584</td>\n",
       "      <td>436</td>\n",
       "      <td>151.0</td>\n",
       "      <td>F</td>\n",
       "      <td>0.000</td>\n",
       "      <td>0.000</td>\n",
       "      <td>0.006</td>\n",
       "      <td>0.006</td>\n",
       "      <td>0.0</td>\n",
       "      <td>0.000</td>\n",
       "      <td>...</td>\n",
       "      <td>50.0</td>\n",
       "      <td>200.0</td>\n",
       "      <td>11.0</td>\n",
       "      <td>2.0</td>\n",
       "      <td>156.0</td>\n",
       "      <td>150.0</td>\n",
       "      <td>156.0</td>\n",
       "      <td>38.0</td>\n",
       "      <td>1.0</td>\n",
       "      <td>Moderate risk</td>\n",
       "    </tr>\n",
       "  </tbody>\n",
       "</table>\n",
       "<p>5 rows × 26 columns</p>\n",
       "</div>"
      ],
      "text/plain": [
       "          id    x1     x2 x3     x4     x5     x6     x7   x8     x9  ...  \\\n",
       "1579  PA2580  2077  130.0  M  0.005  0.001  0.001  0.000  0.0  0.000  ...   \n",
       "1580  PA2581   664  138.0  F  0.000  0.003  0.003  0.000  0.0  0.002  ...   \n",
       "1581  PA2582  1431  144.0  F  0.000  0.000  0.006  0.000  0.0  0.000  ...   \n",
       "1582  PA2583   630  134.0  F  0.017  0.002  0.004  0.000  0.0  0.000  ...   \n",
       "1583  PA2584   436  151.0  F  0.000  0.000  0.006  0.006  0.0  0.000  ...   \n",
       "\n",
       "        x16    x17   x18  x19    x20    x21    x22   x23  x24         target  \n",
       "1579  127.0  158.0   2.0  0.0  139.0  139.0  140.0   3.0  0.0       Low risk  \n",
       "1580   69.0  187.0  10.0  1.0  142.0  130.0  140.0  61.0  0.0  Moderate risk  \n",
       "1581  139.0  169.0   2.0  0.0  157.0  155.0  157.0   2.0  0.0  Moderate risk  \n",
       "1582   50.0  170.0   5.0  0.0  160.0  150.0  155.0  28.0  1.0       Low risk  \n",
       "1583   50.0  200.0  11.0  2.0  156.0  150.0  156.0  38.0  1.0  Moderate risk  \n",
       "\n",
       "[5 rows x 26 columns]"
      ]
     },
     "execution_count": 4,
     "metadata": {},
     "output_type": "execute_result"
    }
   ],
   "source": [
    "health_train_data.tail()"
   ]
  },
  {
   "cell_type": "code",
   "execution_count": 5,
   "metadata": {},
   "outputs": [
    {
     "data": {
      "text/html": [
       "<div>\n",
       "<style scoped>\n",
       "    .dataframe tbody tr th:only-of-type {\n",
       "        vertical-align: middle;\n",
       "    }\n",
       "\n",
       "    .dataframe tbody tr th {\n",
       "        vertical-align: top;\n",
       "    }\n",
       "\n",
       "    .dataframe thead th {\n",
       "        text-align: right;\n",
       "    }\n",
       "</style>\n",
       "<table border=\"1\" class=\"dataframe\">\n",
       "  <thead>\n",
       "    <tr style=\"text-align: right;\">\n",
       "      <th></th>\n",
       "      <th>x1</th>\n",
       "      <th>x2</th>\n",
       "      <th>x4</th>\n",
       "      <th>x5</th>\n",
       "      <th>x6</th>\n",
       "      <th>x7</th>\n",
       "      <th>x8</th>\n",
       "      <th>x9</th>\n",
       "      <th>x10</th>\n",
       "      <th>x11</th>\n",
       "      <th>...</th>\n",
       "      <th>x15</th>\n",
       "      <th>x16</th>\n",
       "      <th>x17</th>\n",
       "      <th>x18</th>\n",
       "      <th>x19</th>\n",
       "      <th>x20</th>\n",
       "      <th>x21</th>\n",
       "      <th>x22</th>\n",
       "      <th>x23</th>\n",
       "      <th>x24</th>\n",
       "    </tr>\n",
       "  </thead>\n",
       "  <tbody>\n",
       "    <tr>\n",
       "      <th>count</th>\n",
       "      <td>1584.000000</td>\n",
       "      <td>1584.000000</td>\n",
       "      <td>1584.000000</td>\n",
       "      <td>1540.000000</td>\n",
       "      <td>1584.000000</td>\n",
       "      <td>1584.000000</td>\n",
       "      <td>1567.000000</td>\n",
       "      <td>1584.000000</td>\n",
       "      <td>1557.000000</td>\n",
       "      <td>1584.000000</td>\n",
       "      <td>...</td>\n",
       "      <td>1584.000000</td>\n",
       "      <td>1584.000000</td>\n",
       "      <td>1584.000000</td>\n",
       "      <td>1584.000000</td>\n",
       "      <td>1584.000000</td>\n",
       "      <td>1584.000000</td>\n",
       "      <td>1584.000000</td>\n",
       "      <td>1584.000000</td>\n",
       "      <td>1584.000000</td>\n",
       "      <td>1584.000000</td>\n",
       "    </tr>\n",
       "    <tr>\n",
       "      <th>mean</th>\n",
       "      <td>1053.188131</td>\n",
       "      <td>133.297980</td>\n",
       "      <td>0.003169</td>\n",
       "      <td>0.009906</td>\n",
       "      <td>0.004347</td>\n",
       "      <td>0.001854</td>\n",
       "      <td>0.000003</td>\n",
       "      <td>0.000157</td>\n",
       "      <td>47.094412</td>\n",
       "      <td>1.337816</td>\n",
       "      <td>...</td>\n",
       "      <td>70.409091</td>\n",
       "      <td>93.496843</td>\n",
       "      <td>163.905934</td>\n",
       "      <td>4.063763</td>\n",
       "      <td>0.324495</td>\n",
       "      <td>137.333965</td>\n",
       "      <td>134.542929</td>\n",
       "      <td>137.935606</td>\n",
       "      <td>18.448232</td>\n",
       "      <td>0.309343</td>\n",
       "    </tr>\n",
       "    <tr>\n",
       "      <th>std</th>\n",
       "      <td>615.996716</td>\n",
       "      <td>10.002632</td>\n",
       "      <td>0.003821</td>\n",
       "      <td>0.048627</td>\n",
       "      <td>0.002948</td>\n",
       "      <td>0.002940</td>\n",
       "      <td>0.000050</td>\n",
       "      <td>0.000593</td>\n",
       "      <td>17.269621</td>\n",
       "      <td>0.899092</td>\n",
       "      <td>...</td>\n",
       "      <td>38.993892</td>\n",
       "      <td>29.593370</td>\n",
       "      <td>17.908749</td>\n",
       "      <td>2.950268</td>\n",
       "      <td>0.718499</td>\n",
       "      <td>16.461643</td>\n",
       "      <td>15.729735</td>\n",
       "      <td>14.622680</td>\n",
       "      <td>28.375002</td>\n",
       "      <td>0.615868</td>\n",
       "    </tr>\n",
       "    <tr>\n",
       "      <th>min</th>\n",
       "      <td>0.000000</td>\n",
       "      <td>106.000000</td>\n",
       "      <td>0.000000</td>\n",
       "      <td>0.000000</td>\n",
       "      <td>0.000000</td>\n",
       "      <td>0.000000</td>\n",
       "      <td>0.000000</td>\n",
       "      <td>0.000000</td>\n",
       "      <td>13.000000</td>\n",
       "      <td>0.200000</td>\n",
       "      <td>...</td>\n",
       "      <td>3.000000</td>\n",
       "      <td>50.000000</td>\n",
       "      <td>122.000000</td>\n",
       "      <td>0.000000</td>\n",
       "      <td>0.000000</td>\n",
       "      <td>60.000000</td>\n",
       "      <td>73.000000</td>\n",
       "      <td>77.000000</td>\n",
       "      <td>0.000000</td>\n",
       "      <td>-1.000000</td>\n",
       "    </tr>\n",
       "    <tr>\n",
       "      <th>25%</th>\n",
       "      <td>523.750000</td>\n",
       "      <td>126.000000</td>\n",
       "      <td>0.000000</td>\n",
       "      <td>0.000000</td>\n",
       "      <td>0.002000</td>\n",
       "      <td>0.000000</td>\n",
       "      <td>0.000000</td>\n",
       "      <td>0.000000</td>\n",
       "      <td>32.000000</td>\n",
       "      <td>0.700000</td>\n",
       "      <td>...</td>\n",
       "      <td>36.000000</td>\n",
       "      <td>67.000000</td>\n",
       "      <td>152.000000</td>\n",
       "      <td>2.000000</td>\n",
       "      <td>0.000000</td>\n",
       "      <td>128.000000</td>\n",
       "      <td>125.000000</td>\n",
       "      <td>128.000000</td>\n",
       "      <td>2.000000</td>\n",
       "      <td>0.000000</td>\n",
       "    </tr>\n",
       "    <tr>\n",
       "      <th>50%</th>\n",
       "      <td>1049.500000</td>\n",
       "      <td>133.000000</td>\n",
       "      <td>0.002000</td>\n",
       "      <td>0.000000</td>\n",
       "      <td>0.004000</td>\n",
       "      <td>0.000000</td>\n",
       "      <td>0.000000</td>\n",
       "      <td>0.000000</td>\n",
       "      <td>49.000000</td>\n",
       "      <td>1.200000</td>\n",
       "      <td>...</td>\n",
       "      <td>68.000000</td>\n",
       "      <td>93.000000</td>\n",
       "      <td>162.000000</td>\n",
       "      <td>3.000000</td>\n",
       "      <td>0.000000</td>\n",
       "      <td>139.000000</td>\n",
       "      <td>136.000000</td>\n",
       "      <td>139.000000</td>\n",
       "      <td>7.000000</td>\n",
       "      <td>0.000000</td>\n",
       "    </tr>\n",
       "    <tr>\n",
       "      <th>75%</th>\n",
       "      <td>1583.250000</td>\n",
       "      <td>141.000000</td>\n",
       "      <td>0.006000</td>\n",
       "      <td>0.003000</td>\n",
       "      <td>0.007000</td>\n",
       "      <td>0.003000</td>\n",
       "      <td>0.000000</td>\n",
       "      <td>0.000000</td>\n",
       "      <td>61.000000</td>\n",
       "      <td>1.700000</td>\n",
       "      <td>...</td>\n",
       "      <td>100.000000</td>\n",
       "      <td>120.000000</td>\n",
       "      <td>174.000000</td>\n",
       "      <td>6.000000</td>\n",
       "      <td>0.000000</td>\n",
       "      <td>148.000000</td>\n",
       "      <td>145.250000</td>\n",
       "      <td>148.000000</td>\n",
       "      <td>23.000000</td>\n",
       "      <td>1.000000</td>\n",
       "    </tr>\n",
       "    <tr>\n",
       "      <th>max</th>\n",
       "      <td>2125.000000</td>\n",
       "      <td>160.000000</td>\n",
       "      <td>0.019000</td>\n",
       "      <td>0.477000</td>\n",
       "      <td>0.014000</td>\n",
       "      <td>0.015000</td>\n",
       "      <td>0.001000</td>\n",
       "      <td>0.005000</td>\n",
       "      <td>86.000000</td>\n",
       "      <td>7.000000</td>\n",
       "      <td>...</td>\n",
       "      <td>176.000000</td>\n",
       "      <td>158.000000</td>\n",
       "      <td>238.000000</td>\n",
       "      <td>18.000000</td>\n",
       "      <td>10.000000</td>\n",
       "      <td>187.000000</td>\n",
       "      <td>182.000000</td>\n",
       "      <td>186.000000</td>\n",
       "      <td>269.000000</td>\n",
       "      <td>1.000000</td>\n",
       "    </tr>\n",
       "  </tbody>\n",
       "</table>\n",
       "<p>8 rows × 22 columns</p>\n",
       "</div>"
      ],
      "text/plain": [
       "                x1           x2           x4           x5           x6  \\\n",
       "count  1584.000000  1584.000000  1584.000000  1540.000000  1584.000000   \n",
       "mean   1053.188131   133.297980     0.003169     0.009906     0.004347   \n",
       "std     615.996716    10.002632     0.003821     0.048627     0.002948   \n",
       "min       0.000000   106.000000     0.000000     0.000000     0.000000   \n",
       "25%     523.750000   126.000000     0.000000     0.000000     0.002000   \n",
       "50%    1049.500000   133.000000     0.002000     0.000000     0.004000   \n",
       "75%    1583.250000   141.000000     0.006000     0.003000     0.007000   \n",
       "max    2125.000000   160.000000     0.019000     0.477000     0.014000   \n",
       "\n",
       "                x7           x8           x9          x10          x11  ...  \\\n",
       "count  1584.000000  1567.000000  1584.000000  1557.000000  1584.000000  ...   \n",
       "mean      0.001854     0.000003     0.000157    47.094412     1.337816  ...   \n",
       "std       0.002940     0.000050     0.000593    17.269621     0.899092  ...   \n",
       "min       0.000000     0.000000     0.000000    13.000000     0.200000  ...   \n",
       "25%       0.000000     0.000000     0.000000    32.000000     0.700000  ...   \n",
       "50%       0.000000     0.000000     0.000000    49.000000     1.200000  ...   \n",
       "75%       0.003000     0.000000     0.000000    61.000000     1.700000  ...   \n",
       "max       0.015000     0.001000     0.005000    86.000000     7.000000  ...   \n",
       "\n",
       "               x15          x16          x17          x18          x19  \\\n",
       "count  1584.000000  1584.000000  1584.000000  1584.000000  1584.000000   \n",
       "mean     70.409091    93.496843   163.905934     4.063763     0.324495   \n",
       "std      38.993892    29.593370    17.908749     2.950268     0.718499   \n",
       "min       3.000000    50.000000   122.000000     0.000000     0.000000   \n",
       "25%      36.000000    67.000000   152.000000     2.000000     0.000000   \n",
       "50%      68.000000    93.000000   162.000000     3.000000     0.000000   \n",
       "75%     100.000000   120.000000   174.000000     6.000000     0.000000   \n",
       "max     176.000000   158.000000   238.000000    18.000000    10.000000   \n",
       "\n",
       "               x20          x21          x22          x23          x24  \n",
       "count  1584.000000  1584.000000  1584.000000  1584.000000  1584.000000  \n",
       "mean    137.333965   134.542929   137.935606    18.448232     0.309343  \n",
       "std      16.461643    15.729735    14.622680    28.375002     0.615868  \n",
       "min      60.000000    73.000000    77.000000     0.000000    -1.000000  \n",
       "25%     128.000000   125.000000   128.000000     2.000000     0.000000  \n",
       "50%     139.000000   136.000000   139.000000     7.000000     0.000000  \n",
       "75%     148.000000   145.250000   148.000000    23.000000     1.000000  \n",
       "max     187.000000   182.000000   186.000000   269.000000     1.000000  \n",
       "\n",
       "[8 rows x 22 columns]"
      ]
     },
     "execution_count": 5,
     "metadata": {},
     "output_type": "execute_result"
    }
   ],
   "source": [
    "health_train_data.describe()"
   ]
  },
  {
   "attachments": {},
   "cell_type": "markdown",
   "metadata": {},
   "source": [
    "Getting the types of data present each of the column"
   ]
  },
  {
   "cell_type": "code",
   "execution_count": 6,
   "metadata": {},
   "outputs": [
    {
     "name": "stdout",
     "output_type": "stream",
     "text": [
      "<class 'pandas.core.frame.DataFrame'>\n",
      "RangeIndex: 1584 entries, 0 to 1583\n",
      "Data columns (total 26 columns):\n",
      " #   Column  Non-Null Count  Dtype  \n",
      "---  ------  --------------  -----  \n",
      " 0   id      1584 non-null   object \n",
      " 1   x1      1584 non-null   int64  \n",
      " 2   x2      1584 non-null   float64\n",
      " 3   x3      1584 non-null   object \n",
      " 4   x4      1584 non-null   float64\n",
      " 5   x5      1540 non-null   float64\n",
      " 6   x6      1584 non-null   float64\n",
      " 7   x7      1584 non-null   float64\n",
      " 8   x8      1567 non-null   float64\n",
      " 9   x9      1584 non-null   float64\n",
      " 10  x10     1557 non-null   float64\n",
      " 11  x11     1584 non-null   float64\n",
      " 12  x12     1584 non-null   float64\n",
      " 13  x13     1584 non-null   float64\n",
      " 14  x14     1584 non-null   object \n",
      " 15  x15     1584 non-null   float64\n",
      " 16  x16     1584 non-null   float64\n",
      " 17  x17     1584 non-null   float64\n",
      " 18  x18     1584 non-null   float64\n",
      " 19  x19     1584 non-null   float64\n",
      " 20  x20     1584 non-null   float64\n",
      " 21  x21     1584 non-null   float64\n",
      " 22  x22     1584 non-null   float64\n",
      " 23  x23     1584 non-null   float64\n",
      " 24  x24     1584 non-null   float64\n",
      " 25  target  1584 non-null   object \n",
      "dtypes: float64(21), int64(1), object(4)\n",
      "memory usage: 321.9+ KB\n"
     ]
    }
   ],
   "source": [
    "health_train_data.info()"
   ]
  },
  {
   "attachments": {},
   "cell_type": "markdown",
   "metadata": {},
   "source": [
    "Segregating into numerical and categorical columns"
   ]
  },
  {
   "cell_type": "code",
   "execution_count": 7,
   "metadata": {},
   "outputs": [
    {
     "name": "stdout",
     "output_type": "stream",
     "text": [
      "numerical_columns = ['x1', 'x2', 'x4', 'x5', 'x6', 'x7', 'x8', 'x9', 'x10', 'x11', 'x12', 'x13', 'x15', 'x16', 'x17', 'x18', 'x19', 'x20', 'x21', 'x22', 'x23', 'x24']\n",
      "X =         x1     x2 x3     x4     x5     x6     x7   x8     x9   x10  ...  \\\n",
      "0     1406  145.0  F  0.005  0.000  0.002  0.000  0.0  0.000  46.0  ...   \n",
      "1      258  127.0  M  0.012  0.000  0.008  0.004  0.0  0.000  13.0  ...   \n",
      "2      479  145.0  F  0.000  0.000  0.000  0.002  0.0  0.000  57.0  ...   \n",
      "3      906  146.0  F  0.004  0.000  0.005  0.003  0.0  0.000  29.0  ...   \n",
      "4     1921  140.0  F  0.002  0.003  0.006  0.006  0.0  0.000  62.0  ...   \n",
      "...    ...    ... ..    ...    ...    ...    ...  ...    ...   ...  ...   \n",
      "1579  2077  130.0  M  0.005  0.001  0.001  0.000  0.0  0.000  72.0  ...   \n",
      "1580   664  138.0  F  0.000  0.003  0.003  0.000  0.0  0.002  60.0  ...   \n",
      "1581  1431  144.0  F  0.000  0.000  0.006  0.000  0.0  0.000  45.0  ...   \n",
      "1582   630  134.0  F  0.017  0.002  0.004  0.000  0.0  0.000  48.0  ...   \n",
      "1583   436  151.0  F  0.000  0.000  0.006  0.006  0.0  0.000  64.0  ...   \n",
      "\n",
      "        x15    x16    x17   x18  x19    x20    x21    x22   x23  x24  \n",
      "0      67.0  104.0  171.0   4.0  0.0  155.0  153.0  154.0   4.0  1.0  \n",
      "1     138.0   53.0  191.0  12.0  1.0  133.0  126.0  131.0  41.0  0.0  \n",
      "2      46.0  111.0  157.0   1.0  1.0  150.0  146.0  149.0   6.0  1.0  \n",
      "3      62.0  107.0  169.0   2.0  2.0  150.0  147.0  149.0   7.0  0.0  \n",
      "4     153.0   75.0  228.0   9.0  0.0  142.0  118.0  142.0  20.0  0.0  \n",
      "...     ...    ...    ...   ...  ...    ...    ...    ...   ...  ...  \n",
      "1579   31.0  127.0  158.0   2.0  0.0  139.0  139.0  140.0   3.0  0.0  \n",
      "1580  118.0   69.0  187.0  10.0  1.0  142.0  130.0  140.0  61.0  0.0  \n",
      "1581   30.0  139.0  169.0   2.0  0.0  157.0  155.0  157.0   2.0  0.0  \n",
      "1582  120.0   50.0  170.0   5.0  0.0  160.0  150.0  155.0  28.0  1.0  \n",
      "1583  150.0   50.0  200.0  11.0  2.0  156.0  150.0  156.0  38.0  1.0  \n",
      "\n",
      "[1584 rows x 24 columns]\n"
     ]
    }
   ],
   "source": [
    "columns = [column for column in health_train_data.columns if column != 'target']\n",
    "\n",
    "# Identifying numerical and categorical columns\n",
    "categorical_columns = ['id', 'x3', 'x14']\n",
    "numerical_columns = [column for column in columns if column not in categorical_columns]\n",
    "\n",
    "X = health_train_data[[column for column in health_train_data.columns if column not in ('target', 'id')]]\n",
    "y=health_train_data['target']\n",
    "print(f\"{numerical_columns = }\")\n",
    "print(f\"{X = }\")\n"
   ]
  },
  {
   "cell_type": "code",
   "execution_count": 8,
   "metadata": {},
   "outputs": [
    {
     "data": {
      "text/plain": [
       "M    842\n",
       "F    742\n",
       "Name: x3, dtype: int64"
      ]
     },
     "execution_count": 8,
     "metadata": {},
     "output_type": "execute_result"
    }
   ],
   "source": [
    "health_train_data['x3'].value_counts()"
   ]
  },
  {
   "cell_type": "code",
   "execution_count": 9,
   "metadata": {},
   "outputs": [
    {
     "data": {
      "text/plain": [
       "O+     410\n",
       "A+     328\n",
       "B+     307\n",
       "A-     165\n",
       "B-     154\n",
       "O-     146\n",
       "AB+     57\n",
       "AB-     17\n",
       "Name: x14, dtype: int64"
      ]
     },
     "execution_count": 9,
     "metadata": {},
     "output_type": "execute_result"
    }
   ],
   "source": [
    "health_train_data['x14'].value_counts()"
   ]
  },
  {
   "cell_type": "code",
   "execution_count": 10,
   "metadata": {},
   "outputs": [
    {
     "data": {
      "text/plain": [
       "Low risk         1235\n",
       "Moderate risk     219\n",
       "High risk         130\n",
       "Name: target, dtype: int64"
      ]
     },
     "execution_count": 10,
     "metadata": {},
     "output_type": "execute_result"
    }
   ],
   "source": [
    "health_train_data['target'].value_counts()"
   ]
  },
  {
   "attachments": {},
   "cell_type": "markdown",
   "metadata": {},
   "source": [
    "### Countplot"
   ]
  },
  {
   "cell_type": "code",
   "execution_count": 11,
   "metadata": {},
   "outputs": [
    {
     "data": {
      "text/plain": [
       "Text(0.5, 1.0, 'Gender(x3) vs Health risk(target)')"
      ]
     },
     "execution_count": 11,
     "metadata": {},
     "output_type": "execute_result"
    },
    {
     "data": {
      "image/png": "[encoded data removed]",
      "text/plain": [
       "<Figure size 640x480 with 1 Axes>"
      ]
     },
     "metadata": {},
     "output_type": "display_data"
    }
   ],
   "source": [
    "sns.countplot(data=health_train_data, x='x3', hue='target')\n",
    "plt.title(\"Gender(x3) vs Health risk(target)\")"
   ]
  },
  {
   "cell_type": "code",
   "execution_count": 12,
   "metadata": {},
   "outputs": [
    {
     "data": {
      "text/plain": [
       "Text(0.5, 1.0, 'Blood Group(x14) vs Health risk(target)')"
      ]
     },
     "execution_count": 12,
     "metadata": {},
     "output_type": "execute_result"
    },
    {
     "data": {
      "image/png": "[encoded data removed]",
      "text/plain": [
       "<Figure size 640x480 with 1 Axes>"
      ]
     },
     "metadata": {},
     "output_type": "display_data"
    }
   ],
   "source": [
    "sns.countplot(data=health_train_data, x='x14', hue='target')\n",
    "plt.title(\"Blood Group(x14) vs Health risk(target)\")"
   ]
  },
  {
   "attachments": {},
   "cell_type": "markdown",
   "metadata": {},
   "source": [
    "## Data Pre-processing"
   ]
  },
  {
   "attachments": {},
   "cell_type": "markdown",
   "metadata": {},
   "source": [
    "Identifying the number of null values and imputing them"
   ]
  },
  {
   "cell_type": "code",
   "execution_count": 13,
   "metadata": {},
   "outputs": [
    {
     "data": {
      "text/plain": [
       "id         0\n",
       "x1         0\n",
       "x2         0\n",
       "x3         0\n",
       "x4         0\n",
       "x5        44\n",
       "x6         0\n",
       "x7         0\n",
       "x8        17\n",
       "x9         0\n",
       "x10       27\n",
       "x11        0\n",
       "x12        0\n",
       "x13        0\n",
       "x14        0\n",
       "x15        0\n",
       "x16        0\n",
       "x17        0\n",
       "x18        0\n",
       "x19        0\n",
       "x20        0\n",
       "x21        0\n",
       "x22        0\n",
       "x23        0\n",
       "x24        0\n",
       "target     0\n",
       "dtype: int64"
      ]
     },
     "execution_count": 13,
     "metadata": {},
     "output_type": "execute_result"
    }
   ],
   "source": [
    "# Checking the number of null values in each column\n",
    "health_train_data.isnull().sum()"
   ]
  },
  {
   "attachments": {},
   "cell_type": "markdown",
   "metadata": {},
   "source": [
    "Replacing the null values with median of the column also know as median imputation"
   ]
  },
  {
   "cell_type": "code",
   "execution_count": 14,
   "metadata": {},
   "outputs": [],
   "source": [
    "# Filling each null value found in column x5, x8, x10 with mean of those columns' values.\n",
    "\n",
    "health_train_data['x5'].fillna(health_train_data['x5'].median(), inplace=True)\n",
    "health_train_data['x8'].fillna(health_train_data['x8'].median(), inplace=True)\n",
    "health_train_data['x10'].fillna(health_train_data['x10'].median(), inplace=True)\n"
   ]
  },
  {
   "attachments": {},
   "cell_type": "markdown",
   "metadata": {},
   "source": [
    "## Outlier detection"
   ]
  },
  {
   "cell_type": "code",
   "execution_count": 15,
   "metadata": {},
   "outputs": [
    {
     "data": {
      "text/html": [
       "<div>\n",
       "<style scoped>\n",
       "    .dataframe tbody tr th:only-of-type {\n",
       "        vertical-align: middle;\n",
       "    }\n",
       "\n",
       "    .dataframe tbody tr th {\n",
       "        vertical-align: top;\n",
       "    }\n",
       "\n",
       "    .dataframe thead th {\n",
       "        text-align: right;\n",
       "    }\n",
       "</style>\n",
       "<table border=\"1\" class=\"dataframe\">\n",
       "  <thead>\n",
       "    <tr style=\"text-align: right;\">\n",
       "      <th></th>\n",
       "      <th>x1</th>\n",
       "      <th>x2</th>\n",
       "      <th>x4</th>\n",
       "      <th>x5</th>\n",
       "      <th>x6</th>\n",
       "      <th>x7</th>\n",
       "      <th>x8</th>\n",
       "      <th>x9</th>\n",
       "      <th>x10</th>\n",
       "      <th>x11</th>\n",
       "      <th>...</th>\n",
       "      <th>x15</th>\n",
       "      <th>x16</th>\n",
       "      <th>x17</th>\n",
       "      <th>x18</th>\n",
       "      <th>x19</th>\n",
       "      <th>x20</th>\n",
       "      <th>x21</th>\n",
       "      <th>x22</th>\n",
       "      <th>x23</th>\n",
       "      <th>x24</th>\n",
       "    </tr>\n",
       "  </thead>\n",
       "  <tbody>\n",
       "    <tr>\n",
       "      <th>0</th>\n",
       "      <td>1406</td>\n",
       "      <td>145.0</td>\n",
       "      <td>0.005</td>\n",
       "      <td>0.000</td>\n",
       "      <td>0.002</td>\n",
       "      <td>0.000</td>\n",
       "      <td>0.0</td>\n",
       "      <td>0.000</td>\n",
       "      <td>46.0</td>\n",
       "      <td>0.8</td>\n",
       "      <td>...</td>\n",
       "      <td>67.0</td>\n",
       "      <td>104.0</td>\n",
       "      <td>171.0</td>\n",
       "      <td>4.0</td>\n",
       "      <td>0.0</td>\n",
       "      <td>155.0</td>\n",
       "      <td>153.0</td>\n",
       "      <td>154.0</td>\n",
       "      <td>4.0</td>\n",
       "      <td>1.0</td>\n",
       "    </tr>\n",
       "    <tr>\n",
       "      <th>1</th>\n",
       "      <td>258</td>\n",
       "      <td>127.0</td>\n",
       "      <td>0.012</td>\n",
       "      <td>0.000</td>\n",
       "      <td>0.008</td>\n",
       "      <td>0.004</td>\n",
       "      <td>0.0</td>\n",
       "      <td>0.000</td>\n",
       "      <td>13.0</td>\n",
       "      <td>3.8</td>\n",
       "      <td>...</td>\n",
       "      <td>138.0</td>\n",
       "      <td>53.0</td>\n",
       "      <td>191.0</td>\n",
       "      <td>12.0</td>\n",
       "      <td>1.0</td>\n",
       "      <td>133.0</td>\n",
       "      <td>126.0</td>\n",
       "      <td>131.0</td>\n",
       "      <td>41.0</td>\n",
       "      <td>0.0</td>\n",
       "    </tr>\n",
       "    <tr>\n",
       "      <th>2</th>\n",
       "      <td>479</td>\n",
       "      <td>145.0</td>\n",
       "      <td>0.000</td>\n",
       "      <td>0.000</td>\n",
       "      <td>0.000</td>\n",
       "      <td>0.002</td>\n",
       "      <td>0.0</td>\n",
       "      <td>0.000</td>\n",
       "      <td>57.0</td>\n",
       "      <td>0.5</td>\n",
       "      <td>...</td>\n",
       "      <td>46.0</td>\n",
       "      <td>111.0</td>\n",
       "      <td>157.0</td>\n",
       "      <td>1.0</td>\n",
       "      <td>1.0</td>\n",
       "      <td>150.0</td>\n",
       "      <td>146.0</td>\n",
       "      <td>149.0</td>\n",
       "      <td>6.0</td>\n",
       "      <td>1.0</td>\n",
       "    </tr>\n",
       "    <tr>\n",
       "      <th>3</th>\n",
       "      <td>906</td>\n",
       "      <td>146.0</td>\n",
       "      <td>0.004</td>\n",
       "      <td>0.000</td>\n",
       "      <td>0.005</td>\n",
       "      <td>0.003</td>\n",
       "      <td>0.0</td>\n",
       "      <td>0.000</td>\n",
       "      <td>29.0</td>\n",
       "      <td>1.2</td>\n",
       "      <td>...</td>\n",
       "      <td>62.0</td>\n",
       "      <td>107.0</td>\n",
       "      <td>169.0</td>\n",
       "      <td>2.0</td>\n",
       "      <td>2.0</td>\n",
       "      <td>150.0</td>\n",
       "      <td>147.0</td>\n",
       "      <td>149.0</td>\n",
       "      <td>7.0</td>\n",
       "      <td>0.0</td>\n",
       "    </tr>\n",
       "    <tr>\n",
       "      <th>4</th>\n",
       "      <td>1921</td>\n",
       "      <td>140.0</td>\n",
       "      <td>0.002</td>\n",
       "      <td>0.003</td>\n",
       "      <td>0.006</td>\n",
       "      <td>0.006</td>\n",
       "      <td>0.0</td>\n",
       "      <td>0.000</td>\n",
       "      <td>62.0</td>\n",
       "      <td>1.6</td>\n",
       "      <td>...</td>\n",
       "      <td>153.0</td>\n",
       "      <td>75.0</td>\n",
       "      <td>228.0</td>\n",
       "      <td>9.0</td>\n",
       "      <td>0.0</td>\n",
       "      <td>142.0</td>\n",
       "      <td>118.0</td>\n",
       "      <td>142.0</td>\n",
       "      <td>20.0</td>\n",
       "      <td>0.0</td>\n",
       "    </tr>\n",
       "    <tr>\n",
       "      <th>...</th>\n",
       "      <td>...</td>\n",
       "      <td>...</td>\n",
       "      <td>...</td>\n",
       "      <td>...</td>\n",
       "      <td>...</td>\n",
       "      <td>...</td>\n",
       "      <td>...</td>\n",
       "      <td>...</td>\n",
       "      <td>...</td>\n",
       "      <td>...</td>\n",
       "      <td>...</td>\n",
       "      <td>...</td>\n",
       "      <td>...</td>\n",
       "      <td>...</td>\n",
       "      <td>...</td>\n",
       "      <td>...</td>\n",
       "      <td>...</td>\n",
       "      <td>...</td>\n",
       "      <td>...</td>\n",
       "      <td>...</td>\n",
       "      <td>...</td>\n",
       "    </tr>\n",
       "    <tr>\n",
       "      <th>1579</th>\n",
       "      <td>2077</td>\n",
       "      <td>130.0</td>\n",
       "      <td>0.005</td>\n",
       "      <td>0.001</td>\n",
       "      <td>0.001</td>\n",
       "      <td>0.000</td>\n",
       "      <td>0.0</td>\n",
       "      <td>0.000</td>\n",
       "      <td>72.0</td>\n",
       "      <td>0.9</td>\n",
       "      <td>...</td>\n",
       "      <td>31.0</td>\n",
       "      <td>127.0</td>\n",
       "      <td>158.0</td>\n",
       "      <td>2.0</td>\n",
       "      <td>0.0</td>\n",
       "      <td>139.0</td>\n",
       "      <td>139.0</td>\n",
       "      <td>140.0</td>\n",
       "      <td>3.0</td>\n",
       "      <td>0.0</td>\n",
       "    </tr>\n",
       "    <tr>\n",
       "      <th>1580</th>\n",
       "      <td>664</td>\n",
       "      <td>138.0</td>\n",
       "      <td>0.000</td>\n",
       "      <td>0.003</td>\n",
       "      <td>0.003</td>\n",
       "      <td>0.000</td>\n",
       "      <td>0.0</td>\n",
       "      <td>0.002</td>\n",
       "      <td>60.0</td>\n",
       "      <td>1.0</td>\n",
       "      <td>...</td>\n",
       "      <td>118.0</td>\n",
       "      <td>69.0</td>\n",
       "      <td>187.0</td>\n",
       "      <td>10.0</td>\n",
       "      <td>1.0</td>\n",
       "      <td>142.0</td>\n",
       "      <td>130.0</td>\n",
       "      <td>140.0</td>\n",
       "      <td>61.0</td>\n",
       "      <td>0.0</td>\n",
       "    </tr>\n",
       "    <tr>\n",
       "      <th>1581</th>\n",
       "      <td>1431</td>\n",
       "      <td>144.0</td>\n",
       "      <td>0.000</td>\n",
       "      <td>0.000</td>\n",
       "      <td>0.006</td>\n",
       "      <td>0.000</td>\n",
       "      <td>0.0</td>\n",
       "      <td>0.000</td>\n",
       "      <td>45.0</td>\n",
       "      <td>0.7</td>\n",
       "      <td>...</td>\n",
       "      <td>30.0</td>\n",
       "      <td>139.0</td>\n",
       "      <td>169.0</td>\n",
       "      <td>2.0</td>\n",
       "      <td>0.0</td>\n",
       "      <td>157.0</td>\n",
       "      <td>155.0</td>\n",
       "      <td>157.0</td>\n",
       "      <td>2.0</td>\n",
       "      <td>0.0</td>\n",
       "    </tr>\n",
       "    <tr>\n",
       "      <th>1582</th>\n",
       "      <td>630</td>\n",
       "      <td>134.0</td>\n",
       "      <td>0.017</td>\n",
       "      <td>0.002</td>\n",
       "      <td>0.004</td>\n",
       "      <td>0.000</td>\n",
       "      <td>0.0</td>\n",
       "      <td>0.000</td>\n",
       "      <td>48.0</td>\n",
       "      <td>2.2</td>\n",
       "      <td>...</td>\n",
       "      <td>120.0</td>\n",
       "      <td>50.0</td>\n",
       "      <td>170.0</td>\n",
       "      <td>5.0</td>\n",
       "      <td>0.0</td>\n",
       "      <td>160.0</td>\n",
       "      <td>150.0</td>\n",
       "      <td>155.0</td>\n",
       "      <td>28.0</td>\n",
       "      <td>1.0</td>\n",
       "    </tr>\n",
       "    <tr>\n",
       "      <th>1583</th>\n",
       "      <td>436</td>\n",
       "      <td>151.0</td>\n",
       "      <td>0.000</td>\n",
       "      <td>0.000</td>\n",
       "      <td>0.006</td>\n",
       "      <td>0.006</td>\n",
       "      <td>0.0</td>\n",
       "      <td>0.000</td>\n",
       "      <td>64.0</td>\n",
       "      <td>1.1</td>\n",
       "      <td>...</td>\n",
       "      <td>150.0</td>\n",
       "      <td>50.0</td>\n",
       "      <td>200.0</td>\n",
       "      <td>11.0</td>\n",
       "      <td>2.0</td>\n",
       "      <td>156.0</td>\n",
       "      <td>150.0</td>\n",
       "      <td>156.0</td>\n",
       "      <td>38.0</td>\n",
       "      <td>1.0</td>\n",
       "    </tr>\n",
       "  </tbody>\n",
       "</table>\n",
       "<p>1584 rows × 22 columns</p>\n",
       "</div>"
      ],
      "text/plain": [
       "        x1     x2     x4     x5     x6     x7   x8     x9   x10  x11  ...  \\\n",
       "0     1406  145.0  0.005  0.000  0.002  0.000  0.0  0.000  46.0  0.8  ...   \n",
       "1      258  127.0  0.012  0.000  0.008  0.004  0.0  0.000  13.0  3.8  ...   \n",
       "2      479  145.0  0.000  0.000  0.000  0.002  0.0  0.000  57.0  0.5  ...   \n",
       "3      906  146.0  0.004  0.000  0.005  0.003  0.0  0.000  29.0  1.2  ...   \n",
       "4     1921  140.0  0.002  0.003  0.006  0.006  0.0  0.000  62.0  1.6  ...   \n",
       "...    ...    ...    ...    ...    ...    ...  ...    ...   ...  ...  ...   \n",
       "1579  2077  130.0  0.005  0.001  0.001  0.000  0.0  0.000  72.0  0.9  ...   \n",
       "1580   664  138.0  0.000  0.003  0.003  0.000  0.0  0.002  60.0  1.0  ...   \n",
       "1581  1431  144.0  0.000  0.000  0.006  0.000  0.0  0.000  45.0  0.7  ...   \n",
       "1582   630  134.0  0.017  0.002  0.004  0.000  0.0  0.000  48.0  2.2  ...   \n",
       "1583   436  151.0  0.000  0.000  0.006  0.006  0.0  0.000  64.0  1.1  ...   \n",
       "\n",
       "        x15    x16    x17   x18  x19    x20    x21    x22   x23  x24  \n",
       "0      67.0  104.0  171.0   4.0  0.0  155.0  153.0  154.0   4.0  1.0  \n",
       "1     138.0   53.0  191.0  12.0  1.0  133.0  126.0  131.0  41.0  0.0  \n",
       "2      46.0  111.0  157.0   1.0  1.0  150.0  146.0  149.0   6.0  1.0  \n",
       "3      62.0  107.0  169.0   2.0  2.0  150.0  147.0  149.0   7.0  0.0  \n",
       "4     153.0   75.0  228.0   9.0  0.0  142.0  118.0  142.0  20.0  0.0  \n",
       "...     ...    ...    ...   ...  ...    ...    ...    ...   ...  ...  \n",
       "1579   31.0  127.0  158.0   2.0  0.0  139.0  139.0  140.0   3.0  0.0  \n",
       "1580  118.0   69.0  187.0  10.0  1.0  142.0  130.0  140.0  61.0  0.0  \n",
       "1581   30.0  139.0  169.0   2.0  0.0  157.0  155.0  157.0   2.0  0.0  \n",
       "1582  120.0   50.0  170.0   5.0  0.0  160.0  150.0  155.0  28.0  1.0  \n",
       "1583  150.0   50.0  200.0  11.0  2.0  156.0  150.0  156.0  38.0  1.0  \n",
       "\n",
       "[1584 rows x 22 columns]"
      ]
     },
     "execution_count": 15,
     "metadata": {},
     "output_type": "execute_result"
    }
   ],
   "source": [
    "# getting the values from continuous/numeric columns\n",
    "numerical_data = health_train_data[numerical_columns]\n",
    "numerical_data"
   ]
  },
  {
   "attachments": {},
   "cell_type": "markdown",
   "metadata": {},
   "source": [
    "Creating a box plot to see if any of the columns have outliers"
   ]
  },
  {
   "cell_type": "code",
   "execution_count": 16,
   "metadata": {},
   "outputs": [
    {
     "data": {
      "image/png": "[encoded data removed]",
      "text/plain": [
       "<Figure size 800x600 with 1 Axes>"
      ]
     },
     "metadata": {},
     "output_type": "display_data"
    }
   ],
   "source": [
    "plt.figure(figsize=(8,6))\n",
    "sns.boxplot(data=numerical_data)\n",
    "plt.show()"
   ]
  },
  {
   "attachments": {},
   "cell_type": "markdown",
   "metadata": {},
   "source": [
    "#### Unsupervised Algorithms for Outlier Detection"
   ]
  },
  {
   "cell_type": "code",
   "execution_count": 17,
   "metadata": {},
   "outputs": [],
   "source": [
    "# Getting imports of algorithm\n",
    "from sklearn.cluster import DBSCAN\n",
    "from sklearn.ensemble import IsolationForest\n",
    "from sklearn.svm import OneClassSVM\n"
   ]
  },
  {
   "attachments": {},
   "cell_type": "markdown",
   "metadata": {},
   "source": [
    "Identifying outliers using **DBSCAN** algorithm"
   ]
  },
  {
   "cell_type": "code",
   "execution_count": 18,
   "metadata": {},
   "outputs": [
    {
     "name": "stdout",
     "output_type": "stream",
     "text": [
      "number_of_outliers = 1225\n"
     ]
    }
   ],
   "source": [
    "dbscan_clf = DBSCAN(min_samples=3, eps=10)\n",
    "dbscan_prediction = dbscan_clf.fit_predict(numerical_data)\n",
    "\n",
    "# counting the number of outliers\n",
    "number_of_outliers = list(dbscan_prediction).count(-1)\n",
    "print(f\"{number_of_outliers = }\")"
   ]
  },
  {
   "attachments": {},
   "cell_type": "markdown",
   "metadata": {},
   "source": [
    "Getting the `Silhouette Score` of DBSCAN prediction"
   ]
  },
  {
   "cell_type": "code",
   "execution_count": 19,
   "metadata": {},
   "outputs": [
    {
     "data": {
      "text/plain": [
       "-0.5299509554574818"
      ]
     },
     "execution_count": 19,
     "metadata": {},
     "output_type": "execute_result"
    }
   ],
   "source": [
    "from sklearn import metrics\n",
    "\n",
    "# getting the silhouette score \n",
    "metrics.silhouette_score(numerical_data, dbscan_prediction)"
   ]
  },
  {
   "attachments": {},
   "cell_type": "markdown",
   "metadata": {},
   "source": [
    "#### Supervised Algorithms for Outlier Detection"
   ]
  },
  {
   "attachments": {},
   "cell_type": "markdown",
   "metadata": {},
   "source": [
    "Identifying outlier using **IsolationForest** algorithm"
   ]
  },
  {
   "cell_type": "code",
   "execution_count": 20,
   "metadata": {},
   "outputs": [
    {
     "name": "stdout",
     "output_type": "stream",
     "text": [
      "Number of outliers: 173\n"
     ]
    }
   ],
   "source": [
    "from sklearn.ensemble import IsolationForest\n",
    "\n",
    "isolationF_clf = IsolationForest(random_state=1)\n",
    "isolationF_prediction = isolationF_clf.fit_predict(numerical_data)\n",
    "\n",
    "IF_outliers_count = 0\n",
    "\n",
    "for prediction in isolationF_prediction:\n",
    "    if prediction == -1:\n",
    "        IF_outliers_count += 1\n",
    "\n",
    "print(f\"Number of outliers: {IF_outliers_count}\")"
   ]
  },
  {
   "attachments": {},
   "cell_type": "markdown",
   "metadata": {},
   "source": [
    "Getting the `Silhouette Score` of IsolationForest prediction"
   ]
  },
  {
   "cell_type": "code",
   "execution_count": 21,
   "metadata": {},
   "outputs": [
    {
     "data": {
      "text/plain": [
       "0.11445642788960263"
      ]
     },
     "execution_count": 21,
     "metadata": {},
     "output_type": "execute_result"
    }
   ],
   "source": [
    "metrics.silhouette_score(numerical_data, isolationF_prediction)"
   ]
  },
  {
   "attachments": {},
   "cell_type": "markdown",
   "metadata": {},
   "source": [
    "Identifying outlier using **OneClassSVM** algorithm"
   ]
  },
  {
   "cell_type": "code",
   "execution_count": 22,
   "metadata": {},
   "outputs": [
    {
     "name": "stdout",
     "output_type": "stream",
     "text": [
      "Number of outliers: 792\n"
     ]
    }
   ],
   "source": [
    "# Code reference https://scikit-learn.org/stable/modules/generated/sklearn.svm.OneClassSVM.html\n",
    "from sklearn.svm import OneClassSVM\n",
    "\n",
    "oneClassSVM_clf = OneClassSVM()\n",
    "oneClassSVM_prediction = oneClassSVM_clf.fit_predict(numerical_data)\n",
    "\n",
    "oneClassSVM_outlier_count = 0\n",
    "\n",
    "for prediction in oneClassSVM_prediction:\n",
    "    if prediction == -1:\n",
    "        oneClassSVM_outlier_count += 1\n",
    "\n",
    "print(f\"Number of outliers: {oneClassSVM_outlier_count}\") "
   ]
  },
  {
   "attachments": {},
   "cell_type": "markdown",
   "metadata": {},
   "source": [
    "Getting the `Silhouette Score` of OneClassSVM prediction"
   ]
  },
  {
   "cell_type": "code",
   "execution_count": 23,
   "metadata": {},
   "outputs": [
    {
     "data": {
      "text/plain": [
       "0.21054684737275545"
      ]
     },
     "execution_count": 23,
     "metadata": {},
     "output_type": "execute_result"
    }
   ],
   "source": [
    "metrics.silhouette_score(numerical_data, oneClassSVM_prediction)"
   ]
  },
  {
   "attachments": {},
   "cell_type": "markdown",
   "metadata": {},
   "source": [
    "Encoding the labels of target"
   ]
  },
  {
   "cell_type": "code",
   "execution_count": 24,
   "metadata": {},
   "outputs": [
    {
     "data": {
      "text/plain": [
       "array([1, 1, 1, ..., 2, 1, 2])"
      ]
     },
     "execution_count": 24,
     "metadata": {},
     "output_type": "execute_result"
    }
   ],
   "source": [
    "from sklearn.preprocessing import LabelEncoder\n",
    "\n",
    "# assigning the encoded labels to a new variable\n",
    "y_encoded = LabelEncoder().fit_transform(y)\n",
    "y_encoded"
   ]
  },
  {
   "attachments": {},
   "cell_type": "markdown",
   "metadata": {},
   "source": [
    "Getting the accuracy score of outlier detection algorithms"
   ]
  },
  {
   "cell_type": "code",
   "execution_count": 25,
   "metadata": {},
   "outputs": [
    {
     "data": {
      "text/plain": [
       "[0.0031565656565656565, 0.7272727272727273, 0.4255050505050505]"
      ]
     },
     "execution_count": 25,
     "metadata": {},
     "output_type": "execute_result"
    }
   ],
   "source": [
    "from sklearn.metrics import accuracy_score\n",
    "\n",
    "dbscan_fit = dbscan_clf.fit(numerical_data)\n",
    "isolationF_fit = isolationF_clf.fit(numerical_data)\n",
    "oneClassSVM_fit = oneClassSVM_clf.fit(numerical_data)\n",
    "\n",
    "outlier_predictions = [dbscan_prediction, isolationF_prediction, oneClassSVM_prediction]\n",
    "\n",
    "acc_scores = [accuracy_score(prediction, y_encoded) for prediction in outlier_predictions]\n",
    "\n",
    "acc_scores\n"
   ]
  },
  {
   "attachments": {},
   "cell_type": "markdown",
   "metadata": {},
   "source": [
    "Since accuracy score of `Isolation Forest` algorithm is higher than others, we are using it here to remove outliers"
   ]
  },
  {
   "cell_type": "code",
   "execution_count": 26,
   "metadata": {},
   "outputs": [
    {
     "name": "stdout",
     "output_type": "stream",
     "text": [
      "Original shape of X.shape =(1584, 24)\n",
      "Original shape of y.shape =(1584,)\n",
      "New shape of X2.shape =(1411, 24)\n",
      "New shape of y2.shape =(1411,)\n"
     ]
    }
   ],
   "source": [
    "mask = isolationF_prediction != -1\n",
    "\n",
    "print(f\"Original shape of {X.shape =}\")\n",
    "print(f\"Original shape of {y.shape =}\")\n",
    "\n",
    "X2 = X[mask]\n",
    "y2 = y[mask]\n",
    "\n",
    "print(f\"New shape of {X2.shape =}\")\n",
    "print(f\"New shape of {y2.shape =}\")"
   ]
  },
  {
   "attachments": {},
   "cell_type": "markdown",
   "metadata": {},
   "source": [
    "### Balancing data"
   ]
  },
  {
   "attachments": {},
   "cell_type": "markdown",
   "metadata": {},
   "source": [
    "Splitting the data into train and test"
   ]
  },
  {
   "cell_type": "code",
   "execution_count": 27,
   "metadata": {},
   "outputs": [
    {
     "data": {
      "text/html": [
       "<div>\n",
       "<style scoped>\n",
       "    .dataframe tbody tr th:only-of-type {\n",
       "        vertical-align: middle;\n",
       "    }\n",
       "\n",
       "    .dataframe tbody tr th {\n",
       "        vertical-align: top;\n",
       "    }\n",
       "\n",
       "    .dataframe thead th {\n",
       "        text-align: right;\n",
       "    }\n",
       "</style>\n",
       "<table border=\"1\" class=\"dataframe\">\n",
       "  <thead>\n",
       "    <tr style=\"text-align: right;\">\n",
       "      <th></th>\n",
       "      <th>x1</th>\n",
       "      <th>x2</th>\n",
       "      <th>x3</th>\n",
       "      <th>x4</th>\n",
       "      <th>x5</th>\n",
       "      <th>x6</th>\n",
       "      <th>x7</th>\n",
       "      <th>x8</th>\n",
       "      <th>x9</th>\n",
       "      <th>x10</th>\n",
       "      <th>...</th>\n",
       "      <th>x15</th>\n",
       "      <th>x16</th>\n",
       "      <th>x17</th>\n",
       "      <th>x18</th>\n",
       "      <th>x19</th>\n",
       "      <th>x20</th>\n",
       "      <th>x21</th>\n",
       "      <th>x22</th>\n",
       "      <th>x23</th>\n",
       "      <th>x24</th>\n",
       "    </tr>\n",
       "  </thead>\n",
       "  <tbody>\n",
       "    <tr>\n",
       "      <th>535</th>\n",
       "      <td>1213</td>\n",
       "      <td>137.0</td>\n",
       "      <td>F</td>\n",
       "      <td>0.001</td>\n",
       "      <td>0.000</td>\n",
       "      <td>0.006</td>\n",
       "      <td>0.000</td>\n",
       "      <td>0.0</td>\n",
       "      <td>0.000</td>\n",
       "      <td>63.0</td>\n",
       "      <td>...</td>\n",
       "      <td>22.0</td>\n",
       "      <td>133.0</td>\n",
       "      <td>155.0</td>\n",
       "      <td>2.0</td>\n",
       "      <td>0.0</td>\n",
       "      <td>142.0</td>\n",
       "      <td>141.0</td>\n",
       "      <td>142.0</td>\n",
       "      <td>0.0</td>\n",
       "      <td>0.0</td>\n",
       "    </tr>\n",
       "    <tr>\n",
       "      <th>182</th>\n",
       "      <td>1324</td>\n",
       "      <td>128.0</td>\n",
       "      <td>M</td>\n",
       "      <td>0.001</td>\n",
       "      <td>0.011</td>\n",
       "      <td>0.005</td>\n",
       "      <td>0.004</td>\n",
       "      <td>0.0</td>\n",
       "      <td>0.001</td>\n",
       "      <td>22.0</td>\n",
       "      <td>...</td>\n",
       "      <td>125.0</td>\n",
       "      <td>53.0</td>\n",
       "      <td>178.0</td>\n",
       "      <td>7.0</td>\n",
       "      <td>0.0</td>\n",
       "      <td>143.0</td>\n",
       "      <td>123.0</td>\n",
       "      <td>130.0</td>\n",
       "      <td>80.0</td>\n",
       "      <td>0.0</td>\n",
       "    </tr>\n",
       "    <tr>\n",
       "      <th>246</th>\n",
       "      <td>1573</td>\n",
       "      <td>132.0</td>\n",
       "      <td>M</td>\n",
       "      <td>0.001</td>\n",
       "      <td>0.000</td>\n",
       "      <td>0.007</td>\n",
       "      <td>0.004</td>\n",
       "      <td>0.0</td>\n",
       "      <td>0.000</td>\n",
       "      <td>28.0</td>\n",
       "      <td>...</td>\n",
       "      <td>92.0</td>\n",
       "      <td>68.0</td>\n",
       "      <td>160.0</td>\n",
       "      <td>6.0</td>\n",
       "      <td>3.0</td>\n",
       "      <td>136.0</td>\n",
       "      <td>132.0</td>\n",
       "      <td>136.0</td>\n",
       "      <td>13.0</td>\n",
       "      <td>1.0</td>\n",
       "    </tr>\n",
       "    <tr>\n",
       "      <th>1377</th>\n",
       "      <td>1557</td>\n",
       "      <td>143.0</td>\n",
       "      <td>F</td>\n",
       "      <td>0.006</td>\n",
       "      <td>0.000</td>\n",
       "      <td>0.008</td>\n",
       "      <td>0.002</td>\n",
       "      <td>0.0</td>\n",
       "      <td>0.000</td>\n",
       "      <td>28.0</td>\n",
       "      <td>...</td>\n",
       "      <td>80.0</td>\n",
       "      <td>102.0</td>\n",
       "      <td>182.0</td>\n",
       "      <td>3.0</td>\n",
       "      <td>0.0</td>\n",
       "      <td>155.0</td>\n",
       "      <td>152.0</td>\n",
       "      <td>154.0</td>\n",
       "      <td>23.0</td>\n",
       "      <td>0.0</td>\n",
       "    </tr>\n",
       "    <tr>\n",
       "      <th>374</th>\n",
       "      <td>550</td>\n",
       "      <td>141.0</td>\n",
       "      <td>F</td>\n",
       "      <td>0.000</td>\n",
       "      <td>NaN</td>\n",
       "      <td>0.004</td>\n",
       "      <td>0.000</td>\n",
       "      <td>0.0</td>\n",
       "      <td>0.000</td>\n",
       "      <td>60.0</td>\n",
       "      <td>...</td>\n",
       "      <td>25.0</td>\n",
       "      <td>128.0</td>\n",
       "      <td>153.0</td>\n",
       "      <td>1.0</td>\n",
       "      <td>0.0</td>\n",
       "      <td>146.0</td>\n",
       "      <td>144.0</td>\n",
       "      <td>146.0</td>\n",
       "      <td>1.0</td>\n",
       "      <td>1.0</td>\n",
       "    </tr>\n",
       "    <tr>\n",
       "      <th>...</th>\n",
       "      <td>...</td>\n",
       "      <td>...</td>\n",
       "      <td>...</td>\n",
       "      <td>...</td>\n",
       "      <td>...</td>\n",
       "      <td>...</td>\n",
       "      <td>...</td>\n",
       "      <td>...</td>\n",
       "      <td>...</td>\n",
       "      <td>...</td>\n",
       "      <td>...</td>\n",
       "      <td>...</td>\n",
       "      <td>...</td>\n",
       "      <td>...</td>\n",
       "      <td>...</td>\n",
       "      <td>...</td>\n",
       "      <td>...</td>\n",
       "      <td>...</td>\n",
       "      <td>...</td>\n",
       "      <td>...</td>\n",
       "      <td>...</td>\n",
       "    </tr>\n",
       "    <tr>\n",
       "      <th>1145</th>\n",
       "      <td>107</td>\n",
       "      <td>125.0</td>\n",
       "      <td>M</td>\n",
       "      <td>0.007</td>\n",
       "      <td>0.004</td>\n",
       "      <td>0.006</td>\n",
       "      <td>0.002</td>\n",
       "      <td>0.0</td>\n",
       "      <td>0.000</td>\n",
       "      <td>22.0</td>\n",
       "      <td>...</td>\n",
       "      <td>105.0</td>\n",
       "      <td>73.0</td>\n",
       "      <td>178.0</td>\n",
       "      <td>8.0</td>\n",
       "      <td>0.0</td>\n",
       "      <td>126.0</td>\n",
       "      <td>126.0</td>\n",
       "      <td>128.0</td>\n",
       "      <td>11.0</td>\n",
       "      <td>0.0</td>\n",
       "    </tr>\n",
       "    <tr>\n",
       "      <th>184</th>\n",
       "      <td>1408</td>\n",
       "      <td>145.0</td>\n",
       "      <td>F</td>\n",
       "      <td>0.005</td>\n",
       "      <td>0.000</td>\n",
       "      <td>0.004</td>\n",
       "      <td>0.000</td>\n",
       "      <td>0.0</td>\n",
       "      <td>0.000</td>\n",
       "      <td>51.0</td>\n",
       "      <td>...</td>\n",
       "      <td>67.0</td>\n",
       "      <td>104.0</td>\n",
       "      <td>171.0</td>\n",
       "      <td>5.0</td>\n",
       "      <td>0.0</td>\n",
       "      <td>149.0</td>\n",
       "      <td>153.0</td>\n",
       "      <td>154.0</td>\n",
       "      <td>5.0</td>\n",
       "      <td>1.0</td>\n",
       "    </tr>\n",
       "    <tr>\n",
       "      <th>8</th>\n",
       "      <td>1734</td>\n",
       "      <td>134.0</td>\n",
       "      <td>F</td>\n",
       "      <td>0.008</td>\n",
       "      <td>0.001</td>\n",
       "      <td>0.007</td>\n",
       "      <td>0.004</td>\n",
       "      <td>0.0</td>\n",
       "      <td>0.000</td>\n",
       "      <td>59.0</td>\n",
       "      <td>...</td>\n",
       "      <td>109.0</td>\n",
       "      <td>80.0</td>\n",
       "      <td>189.0</td>\n",
       "      <td>6.0</td>\n",
       "      <td>0.0</td>\n",
       "      <td>150.0</td>\n",
       "      <td>146.0</td>\n",
       "      <td>150.0</td>\n",
       "      <td>33.0</td>\n",
       "      <td>0.0</td>\n",
       "    </tr>\n",
       "    <tr>\n",
       "      <th>243</th>\n",
       "      <td>2123</td>\n",
       "      <td>140.0</td>\n",
       "      <td>F</td>\n",
       "      <td>0.001</td>\n",
       "      <td>0.000</td>\n",
       "      <td>0.007</td>\n",
       "      <td>0.000</td>\n",
       "      <td>0.0</td>\n",
       "      <td>0.000</td>\n",
       "      <td>79.0</td>\n",
       "      <td>...</td>\n",
       "      <td>67.0</td>\n",
       "      <td>103.0</td>\n",
       "      <td>170.0</td>\n",
       "      <td>5.0</td>\n",
       "      <td>0.0</td>\n",
       "      <td>153.0</td>\n",
       "      <td>148.0</td>\n",
       "      <td>152.0</td>\n",
       "      <td>4.0</td>\n",
       "      <td>1.0</td>\n",
       "    </tr>\n",
       "    <tr>\n",
       "      <th>1516</th>\n",
       "      <td>1288</td>\n",
       "      <td>115.0</td>\n",
       "      <td>M</td>\n",
       "      <td>0.005</td>\n",
       "      <td>0.000</td>\n",
       "      <td>0.009</td>\n",
       "      <td>0.002</td>\n",
       "      <td>0.0</td>\n",
       "      <td>0.001</td>\n",
       "      <td>17.0</td>\n",
       "      <td>...</td>\n",
       "      <td>89.0</td>\n",
       "      <td>80.0</td>\n",
       "      <td>169.0</td>\n",
       "      <td>3.0</td>\n",
       "      <td>1.0</td>\n",
       "      <td>121.0</td>\n",
       "      <td>115.0</td>\n",
       "      <td>119.0</td>\n",
       "      <td>25.0</td>\n",
       "      <td>0.0</td>\n",
       "    </tr>\n",
       "  </tbody>\n",
       "</table>\n",
       "<p>1128 rows × 24 columns</p>\n",
       "</div>"
      ],
      "text/plain": [
       "        x1     x2 x3     x4     x5     x6     x7   x8     x9   x10  ...  \\\n",
       "535   1213  137.0  F  0.001  0.000  0.006  0.000  0.0  0.000  63.0  ...   \n",
       "182   1324  128.0  M  0.001  0.011  0.005  0.004  0.0  0.001  22.0  ...   \n",
       "246   1573  132.0  M  0.001  0.000  0.007  0.004  0.0  0.000  28.0  ...   \n",
       "1377  1557  143.0  F  0.006  0.000  0.008  0.002  0.0  0.000  28.0  ...   \n",
       "374    550  141.0  F  0.000    NaN  0.004  0.000  0.0  0.000  60.0  ...   \n",
       "...    ...    ... ..    ...    ...    ...    ...  ...    ...   ...  ...   \n",
       "1145   107  125.0  M  0.007  0.004  0.006  0.002  0.0  0.000  22.0  ...   \n",
       "184   1408  145.0  F  0.005  0.000  0.004  0.000  0.0  0.000  51.0  ...   \n",
       "8     1734  134.0  F  0.008  0.001  0.007  0.004  0.0  0.000  59.0  ...   \n",
       "243   2123  140.0  F  0.001  0.000  0.007  0.000  0.0  0.000  79.0  ...   \n",
       "1516  1288  115.0  M  0.005  0.000  0.009  0.002  0.0  0.001  17.0  ...   \n",
       "\n",
       "        x15    x16    x17  x18  x19    x20    x21    x22   x23  x24  \n",
       "535    22.0  133.0  155.0  2.0  0.0  142.0  141.0  142.0   0.0  0.0  \n",
       "182   125.0   53.0  178.0  7.0  0.0  143.0  123.0  130.0  80.0  0.0  \n",
       "246    92.0   68.0  160.0  6.0  3.0  136.0  132.0  136.0  13.0  1.0  \n",
       "1377   80.0  102.0  182.0  3.0  0.0  155.0  152.0  154.0  23.0  0.0  \n",
       "374    25.0  128.0  153.0  1.0  0.0  146.0  144.0  146.0   1.0  1.0  \n",
       "...     ...    ...    ...  ...  ...    ...    ...    ...   ...  ...  \n",
       "1145  105.0   73.0  178.0  8.0  0.0  126.0  126.0  128.0  11.0  0.0  \n",
       "184    67.0  104.0  171.0  5.0  0.0  149.0  153.0  154.0   5.0  1.0  \n",
       "8     109.0   80.0  189.0  6.0  0.0  150.0  146.0  150.0  33.0  0.0  \n",
       "243    67.0  103.0  170.0  5.0  0.0  153.0  148.0  152.0   4.0  1.0  \n",
       "1516   89.0   80.0  169.0  3.0  1.0  121.0  115.0  119.0  25.0  0.0  \n",
       "\n",
       "[1128 rows x 24 columns]"
      ]
     },
     "execution_count": 27,
     "metadata": {},
     "output_type": "execute_result"
    }
   ],
   "source": [
    "from sklearn.model_selection import train_test_split\n",
    "\n",
    "X_train, X_test, y_train, y_test = train_test_split(X2, y2, test_size=0.2, random_state=40)\n",
    "\n",
    "X_train"
   ]
  },
  {
   "attachments": {},
   "cell_type": "markdown",
   "metadata": {},
   "source": [
    "Getting the count of values of different target values"
   ]
  },
  {
   "cell_type": "code",
   "execution_count": 28,
   "metadata": {},
   "outputs": [
    {
     "data": {
      "text/plain": [
       "target       \n",
       "Low risk         921\n",
       "Moderate risk    162\n",
       "High risk         45\n",
       "dtype: int64"
      ]
     },
     "execution_count": 28,
     "metadata": {},
     "output_type": "execute_result"
    }
   ],
   "source": [
    "pd.DataFrame(y_train).value_counts()"
   ]
  },
  {
   "attachments": {},
   "cell_type": "markdown",
   "metadata": {},
   "source": [
    "Balancing the train data to obtain equal number of samples"
   ]
  },
  {
   "cell_type": "code",
   "execution_count": 29,
   "metadata": {},
   "outputs": [
    {
     "data": {
      "text/html": [
       "<div>\n",
       "<style scoped>\n",
       "    .dataframe tbody tr th:only-of-type {\n",
       "        vertical-align: middle;\n",
       "    }\n",
       "\n",
       "    .dataframe tbody tr th {\n",
       "        vertical-align: top;\n",
       "    }\n",
       "\n",
       "    .dataframe thead th {\n",
       "        text-align: right;\n",
       "    }\n",
       "</style>\n",
       "<table border=\"1\" class=\"dataframe\">\n",
       "  <thead>\n",
       "    <tr style=\"text-align: right;\">\n",
       "      <th></th>\n",
       "      <th>x1</th>\n",
       "      <th>x2</th>\n",
       "      <th>x3</th>\n",
       "      <th>x4</th>\n",
       "      <th>x5</th>\n",
       "      <th>x6</th>\n",
       "      <th>x7</th>\n",
       "      <th>x8</th>\n",
       "      <th>x9</th>\n",
       "      <th>x10</th>\n",
       "      <th>...</th>\n",
       "      <th>x16</th>\n",
       "      <th>x17</th>\n",
       "      <th>x18</th>\n",
       "      <th>x19</th>\n",
       "      <th>x20</th>\n",
       "      <th>x21</th>\n",
       "      <th>x22</th>\n",
       "      <th>x23</th>\n",
       "      <th>x24</th>\n",
       "      <th>target</th>\n",
       "    </tr>\n",
       "  </thead>\n",
       "  <tbody>\n",
       "    <tr>\n",
       "      <th>535</th>\n",
       "      <td>1213</td>\n",
       "      <td>137.0</td>\n",
       "      <td>F</td>\n",
       "      <td>0.001</td>\n",
       "      <td>0.000</td>\n",
       "      <td>0.006</td>\n",
       "      <td>0.000</td>\n",
       "      <td>0.0</td>\n",
       "      <td>0.000</td>\n",
       "      <td>63.0</td>\n",
       "      <td>...</td>\n",
       "      <td>133.0</td>\n",
       "      <td>155.0</td>\n",
       "      <td>2.0</td>\n",
       "      <td>0.0</td>\n",
       "      <td>142.0</td>\n",
       "      <td>141.0</td>\n",
       "      <td>142.0</td>\n",
       "      <td>0.0</td>\n",
       "      <td>0.0</td>\n",
       "      <td>Moderate risk</td>\n",
       "    </tr>\n",
       "    <tr>\n",
       "      <th>182</th>\n",
       "      <td>1324</td>\n",
       "      <td>128.0</td>\n",
       "      <td>M</td>\n",
       "      <td>0.001</td>\n",
       "      <td>0.011</td>\n",
       "      <td>0.005</td>\n",
       "      <td>0.004</td>\n",
       "      <td>0.0</td>\n",
       "      <td>0.001</td>\n",
       "      <td>22.0</td>\n",
       "      <td>...</td>\n",
       "      <td>53.0</td>\n",
       "      <td>178.0</td>\n",
       "      <td>7.0</td>\n",
       "      <td>0.0</td>\n",
       "      <td>143.0</td>\n",
       "      <td>123.0</td>\n",
       "      <td>130.0</td>\n",
       "      <td>80.0</td>\n",
       "      <td>0.0</td>\n",
       "      <td>Low risk</td>\n",
       "    </tr>\n",
       "    <tr>\n",
       "      <th>246</th>\n",
       "      <td>1573</td>\n",
       "      <td>132.0</td>\n",
       "      <td>M</td>\n",
       "      <td>0.001</td>\n",
       "      <td>0.000</td>\n",
       "      <td>0.007</td>\n",
       "      <td>0.004</td>\n",
       "      <td>0.0</td>\n",
       "      <td>0.000</td>\n",
       "      <td>28.0</td>\n",
       "      <td>...</td>\n",
       "      <td>68.0</td>\n",
       "      <td>160.0</td>\n",
       "      <td>6.0</td>\n",
       "      <td>3.0</td>\n",
       "      <td>136.0</td>\n",
       "      <td>132.0</td>\n",
       "      <td>136.0</td>\n",
       "      <td>13.0</td>\n",
       "      <td>1.0</td>\n",
       "      <td>Low risk</td>\n",
       "    </tr>\n",
       "    <tr>\n",
       "      <th>1377</th>\n",
       "      <td>1557</td>\n",
       "      <td>143.0</td>\n",
       "      <td>F</td>\n",
       "      <td>0.006</td>\n",
       "      <td>0.000</td>\n",
       "      <td>0.008</td>\n",
       "      <td>0.002</td>\n",
       "      <td>0.0</td>\n",
       "      <td>0.000</td>\n",
       "      <td>28.0</td>\n",
       "      <td>...</td>\n",
       "      <td>102.0</td>\n",
       "      <td>182.0</td>\n",
       "      <td>3.0</td>\n",
       "      <td>0.0</td>\n",
       "      <td>155.0</td>\n",
       "      <td>152.0</td>\n",
       "      <td>154.0</td>\n",
       "      <td>23.0</td>\n",
       "      <td>0.0</td>\n",
       "      <td>Low risk</td>\n",
       "    </tr>\n",
       "    <tr>\n",
       "      <th>374</th>\n",
       "      <td>550</td>\n",
       "      <td>141.0</td>\n",
       "      <td>F</td>\n",
       "      <td>0.000</td>\n",
       "      <td>NaN</td>\n",
       "      <td>0.004</td>\n",
       "      <td>0.000</td>\n",
       "      <td>0.0</td>\n",
       "      <td>0.000</td>\n",
       "      <td>60.0</td>\n",
       "      <td>...</td>\n",
       "      <td>128.0</td>\n",
       "      <td>153.0</td>\n",
       "      <td>1.0</td>\n",
       "      <td>0.0</td>\n",
       "      <td>146.0</td>\n",
       "      <td>144.0</td>\n",
       "      <td>146.0</td>\n",
       "      <td>1.0</td>\n",
       "      <td>1.0</td>\n",
       "      <td>Moderate risk</td>\n",
       "    </tr>\n",
       "    <tr>\n",
       "      <th>...</th>\n",
       "      <td>...</td>\n",
       "      <td>...</td>\n",
       "      <td>...</td>\n",
       "      <td>...</td>\n",
       "      <td>...</td>\n",
       "      <td>...</td>\n",
       "      <td>...</td>\n",
       "      <td>...</td>\n",
       "      <td>...</td>\n",
       "      <td>...</td>\n",
       "      <td>...</td>\n",
       "      <td>...</td>\n",
       "      <td>...</td>\n",
       "      <td>...</td>\n",
       "      <td>...</td>\n",
       "      <td>...</td>\n",
       "      <td>...</td>\n",
       "      <td>...</td>\n",
       "      <td>...</td>\n",
       "      <td>...</td>\n",
       "      <td>...</td>\n",
       "    </tr>\n",
       "    <tr>\n",
       "      <th>1145</th>\n",
       "      <td>107</td>\n",
       "      <td>125.0</td>\n",
       "      <td>M</td>\n",
       "      <td>0.007</td>\n",
       "      <td>0.004</td>\n",
       "      <td>0.006</td>\n",
       "      <td>0.002</td>\n",
       "      <td>0.0</td>\n",
       "      <td>0.000</td>\n",
       "      <td>22.0</td>\n",
       "      <td>...</td>\n",
       "      <td>73.0</td>\n",
       "      <td>178.0</td>\n",
       "      <td>8.0</td>\n",
       "      <td>0.0</td>\n",
       "      <td>126.0</td>\n",
       "      <td>126.0</td>\n",
       "      <td>128.0</td>\n",
       "      <td>11.0</td>\n",
       "      <td>0.0</td>\n",
       "      <td>Low risk</td>\n",
       "    </tr>\n",
       "    <tr>\n",
       "      <th>184</th>\n",
       "      <td>1408</td>\n",
       "      <td>145.0</td>\n",
       "      <td>F</td>\n",
       "      <td>0.005</td>\n",
       "      <td>0.000</td>\n",
       "      <td>0.004</td>\n",
       "      <td>0.000</td>\n",
       "      <td>0.0</td>\n",
       "      <td>0.000</td>\n",
       "      <td>51.0</td>\n",
       "      <td>...</td>\n",
       "      <td>104.0</td>\n",
       "      <td>171.0</td>\n",
       "      <td>5.0</td>\n",
       "      <td>0.0</td>\n",
       "      <td>149.0</td>\n",
       "      <td>153.0</td>\n",
       "      <td>154.0</td>\n",
       "      <td>5.0</td>\n",
       "      <td>1.0</td>\n",
       "      <td>Low risk</td>\n",
       "    </tr>\n",
       "    <tr>\n",
       "      <th>8</th>\n",
       "      <td>1734</td>\n",
       "      <td>134.0</td>\n",
       "      <td>F</td>\n",
       "      <td>0.008</td>\n",
       "      <td>0.001</td>\n",
       "      <td>0.007</td>\n",
       "      <td>0.004</td>\n",
       "      <td>0.0</td>\n",
       "      <td>0.000</td>\n",
       "      <td>59.0</td>\n",
       "      <td>...</td>\n",
       "      <td>80.0</td>\n",
       "      <td>189.0</td>\n",
       "      <td>6.0</td>\n",
       "      <td>0.0</td>\n",
       "      <td>150.0</td>\n",
       "      <td>146.0</td>\n",
       "      <td>150.0</td>\n",
       "      <td>33.0</td>\n",
       "      <td>0.0</td>\n",
       "      <td>Low risk</td>\n",
       "    </tr>\n",
       "    <tr>\n",
       "      <th>243</th>\n",
       "      <td>2123</td>\n",
       "      <td>140.0</td>\n",
       "      <td>F</td>\n",
       "      <td>0.001</td>\n",
       "      <td>0.000</td>\n",
       "      <td>0.007</td>\n",
       "      <td>0.000</td>\n",
       "      <td>0.0</td>\n",
       "      <td>0.000</td>\n",
       "      <td>79.0</td>\n",
       "      <td>...</td>\n",
       "      <td>103.0</td>\n",
       "      <td>170.0</td>\n",
       "      <td>5.0</td>\n",
       "      <td>0.0</td>\n",
       "      <td>153.0</td>\n",
       "      <td>148.0</td>\n",
       "      <td>152.0</td>\n",
       "      <td>4.0</td>\n",
       "      <td>1.0</td>\n",
       "      <td>Moderate risk</td>\n",
       "    </tr>\n",
       "    <tr>\n",
       "      <th>1516</th>\n",
       "      <td>1288</td>\n",
       "      <td>115.0</td>\n",
       "      <td>M</td>\n",
       "      <td>0.005</td>\n",
       "      <td>0.000</td>\n",
       "      <td>0.009</td>\n",
       "      <td>0.002</td>\n",
       "      <td>0.0</td>\n",
       "      <td>0.001</td>\n",
       "      <td>17.0</td>\n",
       "      <td>...</td>\n",
       "      <td>80.0</td>\n",
       "      <td>169.0</td>\n",
       "      <td>3.0</td>\n",
       "      <td>1.0</td>\n",
       "      <td>121.0</td>\n",
       "      <td>115.0</td>\n",
       "      <td>119.0</td>\n",
       "      <td>25.0</td>\n",
       "      <td>0.0</td>\n",
       "      <td>Low risk</td>\n",
       "    </tr>\n",
       "  </tbody>\n",
       "</table>\n",
       "<p>1128 rows × 25 columns</p>\n",
       "</div>"
      ],
      "text/plain": [
       "        x1     x2 x3     x4     x5     x6     x7   x8     x9   x10  ...  \\\n",
       "535   1213  137.0  F  0.001  0.000  0.006  0.000  0.0  0.000  63.0  ...   \n",
       "182   1324  128.0  M  0.001  0.011  0.005  0.004  0.0  0.001  22.0  ...   \n",
       "246   1573  132.0  M  0.001  0.000  0.007  0.004  0.0  0.000  28.0  ...   \n",
       "1377  1557  143.0  F  0.006  0.000  0.008  0.002  0.0  0.000  28.0  ...   \n",
       "374    550  141.0  F  0.000    NaN  0.004  0.000  0.0  0.000  60.0  ...   \n",
       "...    ...    ... ..    ...    ...    ...    ...  ...    ...   ...  ...   \n",
       "1145   107  125.0  M  0.007  0.004  0.006  0.002  0.0  0.000  22.0  ...   \n",
       "184   1408  145.0  F  0.005  0.000  0.004  0.000  0.0  0.000  51.0  ...   \n",
       "8     1734  134.0  F  0.008  0.001  0.007  0.004  0.0  0.000  59.0  ...   \n",
       "243   2123  140.0  F  0.001  0.000  0.007  0.000  0.0  0.000  79.0  ...   \n",
       "1516  1288  115.0  M  0.005  0.000  0.009  0.002  0.0  0.001  17.0  ...   \n",
       "\n",
       "        x16    x17  x18  x19    x20    x21    x22   x23  x24         target  \n",
       "535   133.0  155.0  2.0  0.0  142.0  141.0  142.0   0.0  0.0  Moderate risk  \n",
       "182    53.0  178.0  7.0  0.0  143.0  123.0  130.0  80.0  0.0       Low risk  \n",
       "246    68.0  160.0  6.0  3.0  136.0  132.0  136.0  13.0  1.0       Low risk  \n",
       "1377  102.0  182.0  3.0  0.0  155.0  152.0  154.0  23.0  0.0       Low risk  \n",
       "374   128.0  153.0  1.0  0.0  146.0  144.0  146.0   1.0  1.0  Moderate risk  \n",
       "...     ...    ...  ...  ...    ...    ...    ...   ...  ...            ...  \n",
       "1145   73.0  178.0  8.0  0.0  126.0  126.0  128.0  11.0  0.0       Low risk  \n",
       "184   104.0  171.0  5.0  0.0  149.0  153.0  154.0   5.0  1.0       Low risk  \n",
       "8      80.0  189.0  6.0  0.0  150.0  146.0  150.0  33.0  0.0       Low risk  \n",
       "243   103.0  170.0  5.0  0.0  153.0  148.0  152.0   4.0  1.0  Moderate risk  \n",
       "1516   80.0  169.0  3.0  1.0  121.0  115.0  119.0  25.0  0.0       Low risk  \n",
       "\n",
       "[1128 rows x 25 columns]"
      ]
     },
     "execution_count": 29,
     "metadata": {},
     "output_type": "execute_result"
    }
   ],
   "source": [
    "from sklearn.utils import resample\n",
    "\n",
    "resample_data = X_train.copy()\n",
    "resample_data['target'] = y_train.values\n",
    "\n",
    "resample_data"
   ]
  },
  {
   "attachments": {},
   "cell_type": "markdown",
   "metadata": {},
   "source": [
    "Seperating into low, moderate and high risk"
   ]
  },
  {
   "cell_type": "code",
   "execution_count": 30,
   "metadata": {},
   "outputs": [
    {
     "data": {
      "text/plain": [
       "Low risk         921\n",
       "Moderate risk    921\n",
       "High risk        921\n",
       "Name: target, dtype: int64"
      ]
     },
     "execution_count": 30,
     "metadata": {},
     "output_type": "execute_result"
    }
   ],
   "source": [
    "low_risk = resample_data[resample_data['target'] == 'Low risk']\n",
    "moderate_risk = resample_data[resample_data['target'] == 'Moderate risk']\n",
    "high_risk = resample_data[resample_data['target'] == 'High risk']\n",
    "\n",
    "# upsampling the data\n",
    "moderate_risk_upsampled = resample(moderate_risk, replace=True, n_samples=len(low_risk), random_state=40) \n",
    "high_risk_upsampled = resample(high_risk, replace=True, n_samples=len(low_risk), random_state=40) \n",
    "\n",
    "upsampled_data = pd.concat([low_risk, moderate_risk_upsampled, high_risk_upsampled])\n",
    "\n",
    "upsampled_data['target'].value_counts()"
   ]
  },
  {
   "attachments": {},
   "cell_type": "markdown",
   "metadata": {},
   "source": [
    "Using a stripplot to understand the distribution of upsampled data."
   ]
  },
  {
   "cell_type": "code",
   "execution_count": 31,
   "metadata": {},
   "outputs": [
    {
     "data": {
      "text/plain": [
       "<function seaborn.utils.despine(fig=None, ax=None, top=True, right=True, left=False, bottom=False, offset=None, trim=False)>"
      ]
     },
     "execution_count": 31,
     "metadata": {},
     "output_type": "execute_result"
    },
    {
     "data": {
      "image/png": "[encoded data removed]",
      "text/plain": [
       "<Figure size 640x480 with 1 Axes>"
      ]
     },
     "metadata": {},
     "output_type": "display_data"
    }
   ],
   "source": [
    "sns.stripplot(\n",
    "    x=health_train_data['target'],\n",
    "    y=health_train_data['x17'],\n",
    "    data=health_train_data,\n",
    "    jitter=0.3\n",
    ")\n",
    "plt.title(\"Stripplot of regular data with no preprocessing\")\n",
    "sns.despine"
   ]
  },
  {
   "cell_type": "code",
   "execution_count": 32,
   "metadata": {},
   "outputs": [
    {
     "data": {
      "text/plain": [
       "<function seaborn.utils.despine(fig=None, ax=None, top=True, right=True, left=False, bottom=False, offset=None, trim=False)>"
      ]
     },
     "execution_count": 32,
     "metadata": {},
     "output_type": "execute_result"
    },
    {
     "data": {
      "image/png": "[encoded data removed]",
      "text/plain": [
       "<Figure size 640x480 with 1 Axes>"
      ]
     },
     "metadata": {},
     "output_type": "display_data"
    }
   ],
   "source": [
    "sns.stripplot(\n",
    "    x=upsampled_data['target'],\n",
    "    y=upsampled_data['x17'],\n",
    "    data=upsampled_data,\n",
    "    jitter=0.3\n",
    ")\n",
    "plt.title(\"Stripplot of upsampled data\")\n",
    "sns.despine"
   ]
  },
  {
   "attachments": {},
   "cell_type": "markdown",
   "metadata": {},
   "source": [
    "Downsampling the data"
   ]
  },
  {
   "cell_type": "code",
   "execution_count": 33,
   "metadata": {},
   "outputs": [
    {
     "data": {
      "text/plain": [
       "Low risk         45\n",
       "Moderate risk    45\n",
       "High risk        45\n",
       "Name: target, dtype: int64"
      ]
     },
     "execution_count": 33,
     "metadata": {},
     "output_type": "execute_result"
    }
   ],
   "source": [
    "low_risk_downsampled = resample(low_risk, replace=True, n_samples=len(high_risk), random_state=40)\n",
    "moderate_risk_downsampled = resample(moderate_risk, replace=True, n_samples=len(high_risk), random_state=40)\n",
    "\n",
    "downsampled_data = pd.concat([low_risk_downsampled, moderate_risk_downsampled, high_risk])\n",
    "\n",
    "downsampled_data['target'].value_counts()"
   ]
  },
  {
   "cell_type": "code",
   "execution_count": 34,
   "metadata": {},
   "outputs": [
    {
     "data": {
      "text/plain": [
       "<function seaborn.utils.despine(fig=None, ax=None, top=True, right=True, left=False, bottom=False, offset=None, trim=False)>"
      ]
     },
     "execution_count": 34,
     "metadata": {},
     "output_type": "execute_result"
    },
    {
     "data": {
      "image/png": "[encoded data removed]",
      "text/plain": [
       "<Figure size 640x480 with 1 Axes>"
      ]
     },
     "metadata": {},
     "output_type": "display_data"
    }
   ],
   "source": [
    "sns.stripplot(\n",
    "    x=downsampled_data['target'],\n",
    "    y=downsampled_data['x17'],\n",
    "    data=downsampled_data,\n",
    "    jitter=0.3\n",
    ")\n",
    "plt.title(\"Stripplot of downsampled data\")\n",
    "sns.despine"
   ]
  },
  {
   "attachments": {},
   "cell_type": "markdown",
   "metadata": {},
   "source": [
    "Checking for null values"
   ]
  },
  {
   "cell_type": "code",
   "execution_count": 35,
   "metadata": {},
   "outputs": [
    {
     "data": {
      "text/plain": [
       "x1       0\n",
       "x2       0\n",
       "x3       0\n",
       "x4       0\n",
       "x5     125\n",
       "x6       0\n",
       "x7       0\n",
       "x8      28\n",
       "x9       0\n",
       "x10     21\n",
       "x11      0\n",
       "x12      0\n",
       "x13      0\n",
       "x14      0\n",
       "x15      0\n",
       "x16      0\n",
       "x17      0\n",
       "x18      0\n",
       "x19      0\n",
       "x20      0\n",
       "x21      0\n",
       "x22      0\n",
       "x23      0\n",
       "x24      0\n",
       "dtype: int64"
      ]
     },
     "execution_count": 35,
     "metadata": {},
     "output_type": "execute_result"
    }
   ],
   "source": [
    "X_upsampled = upsampled_data[[column for column in upsampled_data.columns if column not in ('target', 'id')]]\n",
    "y_upsampled = upsampled_data['target']\n",
    "\n",
    "X_upsampled.isnull().sum()"
   ]
  },
  {
   "cell_type": "code",
   "execution_count": 36,
   "metadata": {},
   "outputs": [
    {
     "name": "stderr",
     "output_type": "stream",
     "text": [
      "C:\\Users\\ebinp\\AppData\\Local\\Temp\\ipykernel_13480\\1878731899.py:3: SettingWithCopyWarning: \n",
      "A value is trying to be set on a copy of a slice from a DataFrame\n",
      "\n",
      "See the caveats in the documentation: https://pandas.pydata.org/pandas-docs/stable/user_guide/indexing.html#returning-a-view-versus-a-copy\n",
      "  X_upsampled['x5'].fillna(X_upsampled['x5'].median(), inplace=True)\n",
      "C:\\Users\\ebinp\\AppData\\Local\\Temp\\ipykernel_13480\\1878731899.py:4: SettingWithCopyWarning: \n",
      "A value is trying to be set on a copy of a slice from a DataFrame\n",
      "\n",
      "See the caveats in the documentation: https://pandas.pydata.org/pandas-docs/stable/user_guide/indexing.html#returning-a-view-versus-a-copy\n",
      "  X_upsampled['x8'].fillna(X_upsampled['x8'].median(), inplace=True)\n",
      "C:\\Users\\ebinp\\AppData\\Local\\Temp\\ipykernel_13480\\1878731899.py:5: SettingWithCopyWarning: \n",
      "A value is trying to be set on a copy of a slice from a DataFrame\n",
      "\n",
      "See the caveats in the documentation: https://pandas.pydata.org/pandas-docs/stable/user_guide/indexing.html#returning-a-view-versus-a-copy\n",
      "  X_upsampled['x10'].fillna(X_upsampled['x10'].median(), inplace=True)\n"
     ]
    },
    {
     "data": {
      "text/plain": [
       "x1     0\n",
       "x2     0\n",
       "x3     0\n",
       "x4     0\n",
       "x5     0\n",
       "x6     0\n",
       "x7     0\n",
       "x8     0\n",
       "x9     0\n",
       "x10    0\n",
       "x11    0\n",
       "x12    0\n",
       "x13    0\n",
       "x14    0\n",
       "x15    0\n",
       "x16    0\n",
       "x17    0\n",
       "x18    0\n",
       "x19    0\n",
       "x20    0\n",
       "x21    0\n",
       "x22    0\n",
       "x23    0\n",
       "x24    0\n",
       "dtype: int64"
      ]
     },
     "execution_count": 36,
     "metadata": {},
     "output_type": "execute_result"
    }
   ],
   "source": [
    "# Filling each null value found in column x5, x8, x10 with mean of those columns' values.\n",
    "\n",
    "X_upsampled['x5'].fillna(X_upsampled['x5'].median(), inplace=True)\n",
    "X_upsampled['x8'].fillna(X_upsampled['x8'].median(), inplace=True)\n",
    "X_upsampled['x10'].fillna(X_upsampled['x10'].median(), inplace=True)\n",
    "\n",
    "X_upsampled.isnull().sum()"
   ]
  },
  {
   "attachments": {},
   "cell_type": "markdown",
   "metadata": {},
   "source": [
    "Encoding and Splitting the upsampled data"
   ]
  },
  {
   "cell_type": "code",
   "execution_count": 37,
   "metadata": {},
   "outputs": [
    {
     "name": "stderr",
     "output_type": "stream",
     "text": [
      "C:\\Users\\ebinp\\AppData\\Local\\Temp\\ipykernel_13480\\2121158549.py:10: SettingWithCopyWarning: \n",
      "A value is trying to be set on a copy of a slice from a DataFrame.\n",
      "Try using .loc[row_indexer,col_indexer] = value instead\n",
      "\n",
      "See the caveats in the documentation: https://pandas.pydata.org/pandas-docs/stable/user_guide/indexing.html#returning-a-view-versus-a-copy\n",
      "  X_upsampled['x3'] = label_enc.fit_transform(X_upsampled['x3'])\n"
     ]
    },
    {
     "data": {
      "text/html": [
       "<div>\n",
       "<style scoped>\n",
       "    .dataframe tbody tr th:only-of-type {\n",
       "        vertical-align: middle;\n",
       "    }\n",
       "\n",
       "    .dataframe tbody tr th {\n",
       "        vertical-align: top;\n",
       "    }\n",
       "\n",
       "    .dataframe thead th {\n",
       "        text-align: right;\n",
       "    }\n",
       "</style>\n",
       "<table border=\"1\" class=\"dataframe\">\n",
       "  <thead>\n",
       "    <tr style=\"text-align: right;\">\n",
       "      <th></th>\n",
       "      <th>x1</th>\n",
       "      <th>x2</th>\n",
       "      <th>x3</th>\n",
       "      <th>x4</th>\n",
       "      <th>x5</th>\n",
       "      <th>x6</th>\n",
       "      <th>x7</th>\n",
       "      <th>x8</th>\n",
       "      <th>x9</th>\n",
       "      <th>x10</th>\n",
       "      <th>...</th>\n",
       "      <th>x23</th>\n",
       "      <th>x24</th>\n",
       "      <th>x14_A+</th>\n",
       "      <th>x14_A-</th>\n",
       "      <th>x14_AB+</th>\n",
       "      <th>x14_AB-</th>\n",
       "      <th>x14_B+</th>\n",
       "      <th>x14_B-</th>\n",
       "      <th>x14_O+</th>\n",
       "      <th>x14_O-</th>\n",
       "    </tr>\n",
       "  </thead>\n",
       "  <tbody>\n",
       "    <tr>\n",
       "      <th>160</th>\n",
       "      <td>448</td>\n",
       "      <td>135.0</td>\n",
       "      <td>0</td>\n",
       "      <td>0.004</td>\n",
       "      <td>0.003</td>\n",
       "      <td>0.000</td>\n",
       "      <td>0.000</td>\n",
       "      <td>0.0</td>\n",
       "      <td>0.0</td>\n",
       "      <td>59.0</td>\n",
       "      <td>...</td>\n",
       "      <td>2.0</td>\n",
       "      <td>1.0</td>\n",
       "      <td>0.0</td>\n",
       "      <td>0.0</td>\n",
       "      <td>0.0</td>\n",
       "      <td>0.0</td>\n",
       "      <td>1.0</td>\n",
       "      <td>0.0</td>\n",
       "      <td>0.0</td>\n",
       "      <td>0.0</td>\n",
       "    </tr>\n",
       "    <tr>\n",
       "      <th>1849</th>\n",
       "      <td>334</td>\n",
       "      <td>144.0</td>\n",
       "      <td>0</td>\n",
       "      <td>0.000</td>\n",
       "      <td>0.011</td>\n",
       "      <td>0.000</td>\n",
       "      <td>0.000</td>\n",
       "      <td>0.0</td>\n",
       "      <td>0.0</td>\n",
       "      <td>79.0</td>\n",
       "      <td>...</td>\n",
       "      <td>1.0</td>\n",
       "      <td>1.0</td>\n",
       "      <td>0.0</td>\n",
       "      <td>0.0</td>\n",
       "      <td>0.0</td>\n",
       "      <td>0.0</td>\n",
       "      <td>1.0</td>\n",
       "      <td>0.0</td>\n",
       "      <td>0.0</td>\n",
       "      <td>0.0</td>\n",
       "    </tr>\n",
       "    <tr>\n",
       "      <th>251</th>\n",
       "      <td>73</td>\n",
       "      <td>140.0</td>\n",
       "      <td>0</td>\n",
       "      <td>0.008</td>\n",
       "      <td>0.004</td>\n",
       "      <td>0.004</td>\n",
       "      <td>0.000</td>\n",
       "      <td>0.0</td>\n",
       "      <td>0.0</td>\n",
       "      <td>63.0</td>\n",
       "      <td>...</td>\n",
       "      <td>18.0</td>\n",
       "      <td>1.0</td>\n",
       "      <td>0.0</td>\n",
       "      <td>0.0</td>\n",
       "      <td>0.0</td>\n",
       "      <td>0.0</td>\n",
       "      <td>1.0</td>\n",
       "      <td>0.0</td>\n",
       "      <td>0.0</td>\n",
       "      <td>0.0</td>\n",
       "    </tr>\n",
       "    <tr>\n",
       "      <th>1177</th>\n",
       "      <td>1547</td>\n",
       "      <td>149.0</td>\n",
       "      <td>0</td>\n",
       "      <td>0.000</td>\n",
       "      <td>0.000</td>\n",
       "      <td>0.005</td>\n",
       "      <td>0.000</td>\n",
       "      <td>0.0</td>\n",
       "      <td>0.0</td>\n",
       "      <td>63.0</td>\n",
       "      <td>...</td>\n",
       "      <td>0.0</td>\n",
       "      <td>1.0</td>\n",
       "      <td>0.0</td>\n",
       "      <td>0.0</td>\n",
       "      <td>1.0</td>\n",
       "      <td>0.0</td>\n",
       "      <td>0.0</td>\n",
       "      <td>0.0</td>\n",
       "      <td>0.0</td>\n",
       "      <td>0.0</td>\n",
       "    </tr>\n",
       "    <tr>\n",
       "      <th>320</th>\n",
       "      <td>924</td>\n",
       "      <td>122.0</td>\n",
       "      <td>1</td>\n",
       "      <td>0.005</td>\n",
       "      <td>0.000</td>\n",
       "      <td>0.004</td>\n",
       "      <td>0.003</td>\n",
       "      <td>0.0</td>\n",
       "      <td>0.0</td>\n",
       "      <td>31.0</td>\n",
       "      <td>...</td>\n",
       "      <td>12.0</td>\n",
       "      <td>1.0</td>\n",
       "      <td>0.0</td>\n",
       "      <td>0.0</td>\n",
       "      <td>0.0</td>\n",
       "      <td>0.0</td>\n",
       "      <td>0.0</td>\n",
       "      <td>0.0</td>\n",
       "      <td>1.0</td>\n",
       "      <td>0.0</td>\n",
       "    </tr>\n",
       "    <tr>\n",
       "      <th>...</th>\n",
       "      <td>...</td>\n",
       "      <td>...</td>\n",
       "      <td>...</td>\n",
       "      <td>...</td>\n",
       "      <td>...</td>\n",
       "      <td>...</td>\n",
       "      <td>...</td>\n",
       "      <td>...</td>\n",
       "      <td>...</td>\n",
       "      <td>...</td>\n",
       "      <td>...</td>\n",
       "      <td>...</td>\n",
       "      <td>...</td>\n",
       "      <td>...</td>\n",
       "      <td>...</td>\n",
       "      <td>...</td>\n",
       "      <td>...</td>\n",
       "      <td>...</td>\n",
       "      <td>...</td>\n",
       "      <td>...</td>\n",
       "      <td>...</td>\n",
       "    </tr>\n",
       "    <tr>\n",
       "      <th>1863</th>\n",
       "      <td>468</td>\n",
       "      <td>144.0</td>\n",
       "      <td>0</td>\n",
       "      <td>0.000</td>\n",
       "      <td>0.002</td>\n",
       "      <td>0.002</td>\n",
       "      <td>0.000</td>\n",
       "      <td>0.0</td>\n",
       "      <td>0.0</td>\n",
       "      <td>84.0</td>\n",
       "      <td>...</td>\n",
       "      <td>0.0</td>\n",
       "      <td>-1.0</td>\n",
       "      <td>0.0</td>\n",
       "      <td>0.0</td>\n",
       "      <td>0.0</td>\n",
       "      <td>0.0</td>\n",
       "      <td>0.0</td>\n",
       "      <td>0.0</td>\n",
       "      <td>0.0</td>\n",
       "      <td>1.0</td>\n",
       "    </tr>\n",
       "    <tr>\n",
       "      <th>1330</th>\n",
       "      <td>534</td>\n",
       "      <td>137.0</td>\n",
       "      <td>0</td>\n",
       "      <td>0.000</td>\n",
       "      <td>0.000</td>\n",
       "      <td>0.000</td>\n",
       "      <td>0.000</td>\n",
       "      <td>0.0</td>\n",
       "      <td>0.0</td>\n",
       "      <td>63.0</td>\n",
       "      <td>...</td>\n",
       "      <td>1.0</td>\n",
       "      <td>1.0</td>\n",
       "      <td>0.0</td>\n",
       "      <td>0.0</td>\n",
       "      <td>0.0</td>\n",
       "      <td>0.0</td>\n",
       "      <td>1.0</td>\n",
       "      <td>0.0</td>\n",
       "      <td>0.0</td>\n",
       "      <td>0.0</td>\n",
       "    </tr>\n",
       "    <tr>\n",
       "      <th>2213</th>\n",
       "      <td>403</td>\n",
       "      <td>151.0</td>\n",
       "      <td>0</td>\n",
       "      <td>0.000</td>\n",
       "      <td>0.000</td>\n",
       "      <td>0.000</td>\n",
       "      <td>0.000</td>\n",
       "      <td>0.0</td>\n",
       "      <td>0.0</td>\n",
       "      <td>47.0</td>\n",
       "      <td>...</td>\n",
       "      <td>0.0</td>\n",
       "      <td>0.0</td>\n",
       "      <td>0.0</td>\n",
       "      <td>0.0</td>\n",
       "      <td>0.0</td>\n",
       "      <td>1.0</td>\n",
       "      <td>0.0</td>\n",
       "      <td>0.0</td>\n",
       "      <td>0.0</td>\n",
       "      <td>0.0</td>\n",
       "    </tr>\n",
       "    <tr>\n",
       "      <th>2055</th>\n",
       "      <td>474</td>\n",
       "      <td>150.0</td>\n",
       "      <td>0</td>\n",
       "      <td>0.000</td>\n",
       "      <td>0.001</td>\n",
       "      <td>0.000</td>\n",
       "      <td>0.000</td>\n",
       "      <td>0.0</td>\n",
       "      <td>0.0</td>\n",
       "      <td>84.0</td>\n",
       "      <td>...</td>\n",
       "      <td>1.0</td>\n",
       "      <td>1.0</td>\n",
       "      <td>0.0</td>\n",
       "      <td>0.0</td>\n",
       "      <td>0.0</td>\n",
       "      <td>0.0</td>\n",
       "      <td>0.0</td>\n",
       "      <td>0.0</td>\n",
       "      <td>0.0</td>\n",
       "      <td>1.0</td>\n",
       "    </tr>\n",
       "    <tr>\n",
       "      <th>2267</th>\n",
       "      <td>750</td>\n",
       "      <td>134.0</td>\n",
       "      <td>0</td>\n",
       "      <td>0.000</td>\n",
       "      <td>0.000</td>\n",
       "      <td>0.000</td>\n",
       "      <td>0.000</td>\n",
       "      <td>0.0</td>\n",
       "      <td>0.0</td>\n",
       "      <td>83.0</td>\n",
       "      <td>...</td>\n",
       "      <td>0.0</td>\n",
       "      <td>0.0</td>\n",
       "      <td>0.0</td>\n",
       "      <td>0.0</td>\n",
       "      <td>0.0</td>\n",
       "      <td>0.0</td>\n",
       "      <td>0.0</td>\n",
       "      <td>0.0</td>\n",
       "      <td>0.0</td>\n",
       "      <td>1.0</td>\n",
       "    </tr>\n",
       "  </tbody>\n",
       "</table>\n",
       "<p>2210 rows × 31 columns</p>\n",
       "</div>"
      ],
      "text/plain": [
       "        x1     x2  x3     x4     x5     x6     x7   x8   x9   x10  ...   x23  \\\n",
       "160    448  135.0   0  0.004  0.003  0.000  0.000  0.0  0.0  59.0  ...   2.0   \n",
       "1849   334  144.0   0  0.000  0.011  0.000  0.000  0.0  0.0  79.0  ...   1.0   \n",
       "251     73  140.0   0  0.008  0.004  0.004  0.000  0.0  0.0  63.0  ...  18.0   \n",
       "1177  1547  149.0   0  0.000  0.000  0.005  0.000  0.0  0.0  63.0  ...   0.0   \n",
       "320    924  122.0   1  0.005  0.000  0.004  0.003  0.0  0.0  31.0  ...  12.0   \n",
       "...    ...    ...  ..    ...    ...    ...    ...  ...  ...   ...  ...   ...   \n",
       "1863   468  144.0   0  0.000  0.002  0.002  0.000  0.0  0.0  84.0  ...   0.0   \n",
       "1330   534  137.0   0  0.000  0.000  0.000  0.000  0.0  0.0  63.0  ...   1.0   \n",
       "2213   403  151.0   0  0.000  0.000  0.000  0.000  0.0  0.0  47.0  ...   0.0   \n",
       "2055   474  150.0   0  0.000  0.001  0.000  0.000  0.0  0.0  84.0  ...   1.0   \n",
       "2267   750  134.0   0  0.000  0.000  0.000  0.000  0.0  0.0  83.0  ...   0.0   \n",
       "\n",
       "      x24  x14_A+  x14_A-  x14_AB+  x14_AB-  x14_B+  x14_B-  x14_O+  x14_O-  \n",
       "160   1.0     0.0     0.0      0.0      0.0     1.0     0.0     0.0     0.0  \n",
       "1849  1.0     0.0     0.0      0.0      0.0     1.0     0.0     0.0     0.0  \n",
       "251   1.0     0.0     0.0      0.0      0.0     1.0     0.0     0.0     0.0  \n",
       "1177  1.0     0.0     0.0      1.0      0.0     0.0     0.0     0.0     0.0  \n",
       "320   1.0     0.0     0.0      0.0      0.0     0.0     0.0     1.0     0.0  \n",
       "...   ...     ...     ...      ...      ...     ...     ...     ...     ...  \n",
       "1863 -1.0     0.0     0.0      0.0      0.0     0.0     0.0     0.0     1.0  \n",
       "1330  1.0     0.0     0.0      0.0      0.0     1.0     0.0     0.0     0.0  \n",
       "2213  0.0     0.0     0.0      0.0      1.0     0.0     0.0     0.0     0.0  \n",
       "2055  1.0     0.0     0.0      0.0      0.0     0.0     0.0     0.0     1.0  \n",
       "2267  0.0     0.0     0.0      0.0      0.0     0.0     0.0     0.0     1.0  \n",
       "\n",
       "[2210 rows x 31 columns]"
      ]
     },
     "execution_count": 37,
     "metadata": {},
     "output_type": "execute_result"
    }
   ],
   "source": [
    "from sklearn.preprocessing import OneHotEncoder\n",
    "\n",
    "\n",
    "# Label encoding upsampled data\n",
    "label_encoder_target = LabelEncoder()\n",
    "y_upsampled = label_encoder_target.fit_transform(y_upsampled)\n",
    "\n",
    "label_enc = LabelEncoder()\n",
    "\n",
    "X_upsampled['x3'] = label_enc.fit_transform(X_upsampled['x3'])\n",
    "X_upsampled\n",
    "\n",
    "# instance of OneHotEncoder\n",
    "enc = OneHotEncoder(handle_unknown='ignore')\n",
    "\n",
    "# passing column x13 and getting upsampled train encoded data\n",
    "trainUS_enc = pd.DataFrame(enc.fit_transform(X_upsampled[['x14']]).toarray())\n",
    "\n",
    "trainUS_enc.columns = enc.get_feature_names_out(['x14'])\n",
    "\n",
    "# resettig the index to avoid InvalidIndexError\n",
    "X_upsampled.reset_index(drop=True, inplace=True)\n",
    "trainUS_enc.reset_index(drop=True, inplace=True)\n",
    "X_upsampled = pd.concat([X_upsampled, trainUS_enc], axis=1)\n",
    "\n",
    "\n",
    "X_upsampled.drop('x14', axis=1, inplace=True)\n",
    "\n",
    "\n",
    "# splitting the data\n",
    "X_upsampled_train, X_upsampled_test, y_upsampled_train, y_upsampled_test = train_test_split(X_upsampled, y_upsampled, test_size=0.2, random_state=40)\n",
    "\n",
    "X_upsampled_train"
   ]
  },
  {
   "attachments": {},
   "cell_type": "markdown",
   "metadata": {},
   "source": [
    "Identifying categorical colums"
   ]
  },
  {
   "cell_type": "code",
   "execution_count": 38,
   "metadata": {},
   "outputs": [
    {
     "name": "stdout",
     "output_type": "stream",
     "text": [
      "<class 'pandas.core.frame.DataFrame'>\n",
      "Int64Index: 2210 entries, 160 to 2267\n",
      "Data columns (total 31 columns):\n",
      " #   Column   Non-Null Count  Dtype  \n",
      "---  ------   --------------  -----  \n",
      " 0   x1       2210 non-null   int64  \n",
      " 1   x2       2210 non-null   float64\n",
      " 2   x3       2210 non-null   int32  \n",
      " 3   x4       2210 non-null   float64\n",
      " 4   x5       2210 non-null   float64\n",
      " 5   x6       2210 non-null   float64\n",
      " 6   x7       2210 non-null   float64\n",
      " 7   x8       2210 non-null   float64\n",
      " 8   x9       2210 non-null   float64\n",
      " 9   x10      2210 non-null   float64\n",
      " 10  x11      2210 non-null   float64\n",
      " 11  x12      2210 non-null   float64\n",
      " 12  x13      2210 non-null   float64\n",
      " 13  x15      2210 non-null   float64\n",
      " 14  x16      2210 non-null   float64\n",
      " 15  x17      2210 non-null   float64\n",
      " 16  x18      2210 non-null   float64\n",
      " 17  x19      2210 non-null   float64\n",
      " 18  x20      2210 non-null   float64\n",
      " 19  x21      2210 non-null   float64\n",
      " 20  x22      2210 non-null   float64\n",
      " 21  x23      2210 non-null   float64\n",
      " 22  x24      2210 non-null   float64\n",
      " 23  x14_A+   2210 non-null   float64\n",
      " 24  x14_A-   2210 non-null   float64\n",
      " 25  x14_AB+  2210 non-null   float64\n",
      " 26  x14_AB-  2210 non-null   float64\n",
      " 27  x14_B+   2210 non-null   float64\n",
      " 28  x14_B-   2210 non-null   float64\n",
      " 29  x14_O+   2210 non-null   float64\n",
      " 30  x14_O-   2210 non-null   float64\n",
      "dtypes: float64(29), int32(1), int64(1)\n",
      "memory usage: 543.9 KB\n"
     ]
    }
   ],
   "source": [
    "X_upsampled_train.info()"
   ]
  },
  {
   "attachments": {},
   "cell_type": "markdown",
   "metadata": {},
   "source": [
    "## Supervised Model Training and Evaluation"
   ]
  },
  {
   "attachments": {},
   "cell_type": "markdown",
   "metadata": {},
   "source": [
    "### Training Classifiers"
   ]
  },
  {
   "attachments": {},
   "cell_type": "markdown",
   "metadata": {},
   "source": [
    "**Classifier - 1 LinearSVC**"
   ]
  },
  {
   "cell_type": "code",
   "execution_count": 39,
   "metadata": {},
   "outputs": [
    {
     "name": "stderr",
     "output_type": "stream",
     "text": [
      "c:\\Users\\ebinp\\my_files\\pg\\data_mining\\assignment\\assignment_2\\venv\\lib\\site-packages\\sklearn\\svm\\_base.py:1244: ConvergenceWarning: Liblinear failed to converge, increase the number of iterations.\n",
      "  warnings.warn(\n"
     ]
    },
    {
     "data": {
      "text/html": [
       "<style>#sk-container-id-1 {color: black;background-color: white;}#sk-container-id-1 pre{padding: 0;}#sk-container-id-1 div.sk-toggleable {background-color: white;}#sk-container-id-1 label.sk-toggleable__label {cursor: pointer;display: block;width: 100%;margin-bottom: 0;padding: 0.3em;box-sizing: border-box;text-align: center;}#sk-container-id-1 label.sk-toggleable__label-arrow:before {content: \"▸\";float: left;margin-right: 0.25em;color: #696969;}#sk-container-id-1 label.sk-toggleable__label-arrow:hover:before {color: black;}#sk-container-id-1 div.sk-estimator:hover label.sk-toggleable__label-arrow:before {color: black;}#sk-container-id-1 div.sk-toggleable__content {max-height: 0;max-width: 0;overflow: hidden;text-align: left;background-color: #f0f8ff;}#sk-container-id-1 div.sk-toggleable__content pre {margin: 0.2em;color: black;border-radius: 0.25em;background-color: #f0f8ff;}#sk-container-id-1 input.sk-toggleable__control:checked~div.sk-toggleable__content {max-height: 200px;max-width: 100%;overflow: auto;}#sk-container-id-1 input.sk-toggleable__control:checked~label.sk-toggleable__label-arrow:before {content: \"▾\";}#sk-container-id-1 div.sk-estimator input.sk-toggleable__control:checked~label.sk-toggleable__label {background-color: #d4ebff;}#sk-container-id-1 div.sk-label input.sk-toggleable__control:checked~label.sk-toggleable__label {background-color: #d4ebff;}#sk-container-id-1 input.sk-hidden--visually {border: 0;clip: rect(1px 1px 1px 1px);clip: rect(1px, 1px, 1px, 1px);height: 1px;margin: -1px;overflow: hidden;padding: 0;position: absolute;width: 1px;}#sk-container-id-1 div.sk-estimator {font-family: monospace;background-color: #f0f8ff;border: 1px dotted black;border-radius: 0.25em;box-sizing: border-box;margin-bottom: 0.5em;}#sk-container-id-1 div.sk-estimator:hover {background-color: #d4ebff;}#sk-container-id-1 div.sk-parallel-item::after {content: \"\";width: 100%;border-bottom: 1px solid gray;flex-grow: 1;}#sk-container-id-1 div.sk-label:hover label.sk-toggleable__label {background-color: #d4ebff;}#sk-container-id-1 div.sk-serial::before {content: \"\";position: absolute;border-left: 1px solid gray;box-sizing: border-box;top: 0;bottom: 0;left: 50%;z-index: 0;}#sk-container-id-1 div.sk-serial {display: flex;flex-direction: column;align-items: center;background-color: white;padding-right: 0.2em;padding-left: 0.2em;position: relative;}#sk-container-id-1 div.sk-item {position: relative;z-index: 1;}#sk-container-id-1 div.sk-parallel {display: flex;align-items: stretch;justify-content: center;background-color: white;position: relative;}#sk-container-id-1 div.sk-item::before, #sk-container-id-1 div.sk-parallel-item::before {content: \"\";position: absolute;border-left: 1px solid gray;box-sizing: border-box;top: 0;bottom: 0;left: 50%;z-index: -1;}#sk-container-id-1 div.sk-parallel-item {display: flex;flex-direction: column;z-index: 1;position: relative;background-color: white;}#sk-container-id-1 div.sk-parallel-item:first-child::after {align-self: flex-end;width: 50%;}#sk-container-id-1 div.sk-parallel-item:last-child::after {align-self: flex-start;width: 50%;}#sk-container-id-1 div.sk-parallel-item:only-child::after {width: 0;}#sk-container-id-1 div.sk-dashed-wrapped {border: 1px dashed gray;margin: 0 0.4em 0.5em 0.4em;box-sizing: border-box;padding-bottom: 0.4em;background-color: white;}#sk-container-id-1 div.sk-label label {font-family: monospace;font-weight: bold;display: inline-block;line-height: 1.2em;}#sk-container-id-1 div.sk-label-container {text-align: center;}#sk-container-id-1 div.sk-container {/* jupyter's `normalize.less` sets `[hidden] { display: none; }` but bootstrap.min.css set `[hidden] { display: none !important; }` so we also need the `!important` here to be able to override the default hidden behavior on the sphinx rendered scikit-learn.org. See: https://github.com/scikit-learn/scikit-learn/issues/21755 */display: inline-block !important;position: relative;}#sk-container-id-1 div.sk-text-repr-fallback {display: none;}</style><div id=\"sk-container-id-1\" class=\"sk-top-container\"><div class=\"sk-text-repr-fallback\"><pre>LinearSVC()</pre><b>In a Jupyter environment, please rerun this cell to show the HTML representation or trust the notebook. <br />On GitHub, the HTML representation is unable to render, please try loading this page with nbviewer.org.</b></div><div class=\"sk-container\" hidden><div class=\"sk-item\"><div class=\"sk-estimator sk-toggleable\"><input class=\"sk-toggleable__control sk-hidden--visually\" id=\"sk-estimator-id-1\" type=\"checkbox\" checked><label for=\"sk-estimator-id-1\" class=\"sk-toggleable__label sk-toggleable__label-arrow\">LinearSVC</label><div class=\"sk-toggleable__content\"><pre>LinearSVC()</pre></div></div></div></div></div>"
      ],
      "text/plain": [
       "LinearSVC()"
      ]
     },
     "execution_count": 39,
     "metadata": {},
     "output_type": "execute_result"
    }
   ],
   "source": [
    "from sklearn.svm import LinearSVC\n",
    "\n",
    "svc = LinearSVC()\n",
    "svc.fit(X_upsampled_train, y_upsampled_train)"
   ]
  },
  {
   "attachments": {},
   "cell_type": "markdown",
   "metadata": {},
   "source": [
    "**Classifier - 2 GaussianNB**"
   ]
  },
  {
   "cell_type": "code",
   "execution_count": 40,
   "metadata": {},
   "outputs": [
    {
     "data": {
      "text/html": [
       "<style>#sk-container-id-2 {color: black;background-color: white;}#sk-container-id-2 pre{padding: 0;}#sk-container-id-2 div.sk-toggleable {background-color: white;}#sk-container-id-2 label.sk-toggleable__label {cursor: pointer;display: block;width: 100%;margin-bottom: 0;padding: 0.3em;box-sizing: border-box;text-align: center;}#sk-container-id-2 label.sk-toggleable__label-arrow:before {content: \"▸\";float: left;margin-right: 0.25em;color: #696969;}#sk-container-id-2 label.sk-toggleable__label-arrow:hover:before {color: black;}#sk-container-id-2 div.sk-estimator:hover label.sk-toggleable__label-arrow:before {color: black;}#sk-container-id-2 div.sk-toggleable__content {max-height: 0;max-width: 0;overflow: hidden;text-align: left;background-color: #f0f8ff;}#sk-container-id-2 div.sk-toggleable__content pre {margin: 0.2em;color: black;border-radius: 0.25em;background-color: #f0f8ff;}#sk-container-id-2 input.sk-toggleable__control:checked~div.sk-toggleable__content {max-height: 200px;max-width: 100%;overflow: auto;}#sk-container-id-2 input.sk-toggleable__control:checked~label.sk-toggleable__label-arrow:before {content: \"▾\";}#sk-container-id-2 div.sk-estimator input.sk-toggleable__control:checked~label.sk-toggleable__label {background-color: #d4ebff;}#sk-container-id-2 div.sk-label input.sk-toggleable__control:checked~label.sk-toggleable__label {background-color: #d4ebff;}#sk-container-id-2 input.sk-hidden--visually {border: 0;clip: rect(1px 1px 1px 1px);clip: rect(1px, 1px, 1px, 1px);height: 1px;margin: -1px;overflow: hidden;padding: 0;position: absolute;width: 1px;}#sk-container-id-2 div.sk-estimator {font-family: monospace;background-color: #f0f8ff;border: 1px dotted black;border-radius: 0.25em;box-sizing: border-box;margin-bottom: 0.5em;}#sk-container-id-2 div.sk-estimator:hover {background-color: #d4ebff;}#sk-container-id-2 div.sk-parallel-item::after {content: \"\";width: 100%;border-bottom: 1px solid gray;flex-grow: 1;}#sk-container-id-2 div.sk-label:hover label.sk-toggleable__label {background-color: #d4ebff;}#sk-container-id-2 div.sk-serial::before {content: \"\";position: absolute;border-left: 1px solid gray;box-sizing: border-box;top: 0;bottom: 0;left: 50%;z-index: 0;}#sk-container-id-2 div.sk-serial {display: flex;flex-direction: column;align-items: center;background-color: white;padding-right: 0.2em;padding-left: 0.2em;position: relative;}#sk-container-id-2 div.sk-item {position: relative;z-index: 1;}#sk-container-id-2 div.sk-parallel {display: flex;align-items: stretch;justify-content: center;background-color: white;position: relative;}#sk-container-id-2 div.sk-item::before, #sk-container-id-2 div.sk-parallel-item::before {content: \"\";position: absolute;border-left: 1px solid gray;box-sizing: border-box;top: 0;bottom: 0;left: 50%;z-index: -1;}#sk-container-id-2 div.sk-parallel-item {display: flex;flex-direction: column;z-index: 1;position: relative;background-color: white;}#sk-container-id-2 div.sk-parallel-item:first-child::after {align-self: flex-end;width: 50%;}#sk-container-id-2 div.sk-parallel-item:last-child::after {align-self: flex-start;width: 50%;}#sk-container-id-2 div.sk-parallel-item:only-child::after {width: 0;}#sk-container-id-2 div.sk-dashed-wrapped {border: 1px dashed gray;margin: 0 0.4em 0.5em 0.4em;box-sizing: border-box;padding-bottom: 0.4em;background-color: white;}#sk-container-id-2 div.sk-label label {font-family: monospace;font-weight: bold;display: inline-block;line-height: 1.2em;}#sk-container-id-2 div.sk-label-container {text-align: center;}#sk-container-id-2 div.sk-container {/* jupyter's `normalize.less` sets `[hidden] { display: none; }` but bootstrap.min.css set `[hidden] { display: none !important; }` so we also need the `!important` here to be able to override the default hidden behavior on the sphinx rendered scikit-learn.org. See: https://github.com/scikit-learn/scikit-learn/issues/21755 */display: inline-block !important;position: relative;}#sk-container-id-2 div.sk-text-repr-fallback {display: none;}</style><div id=\"sk-container-id-2\" class=\"sk-top-container\"><div class=\"sk-text-repr-fallback\"><pre>GaussianNB()</pre><b>In a Jupyter environment, please rerun this cell to show the HTML representation or trust the notebook. <br />On GitHub, the HTML representation is unable to render, please try loading this page with nbviewer.org.</b></div><div class=\"sk-container\" hidden><div class=\"sk-item\"><div class=\"sk-estimator sk-toggleable\"><input class=\"sk-toggleable__control sk-hidden--visually\" id=\"sk-estimator-id-2\" type=\"checkbox\" checked><label for=\"sk-estimator-id-2\" class=\"sk-toggleable__label sk-toggleable__label-arrow\">GaussianNB</label><div class=\"sk-toggleable__content\"><pre>GaussianNB()</pre></div></div></div></div></div>"
      ],
      "text/plain": [
       "GaussianNB()"
      ]
     },
     "execution_count": 40,
     "metadata": {},
     "output_type": "execute_result"
    }
   ],
   "source": [
    "from sklearn.naive_bayes import GaussianNB\n",
    "\n",
    "naive_bayes = GaussianNB()\n",
    "\n",
    "naive_bayes.fit(X_upsampled_train, y_upsampled_train)"
   ]
  },
  {
   "attachments": {},
   "cell_type": "markdown",
   "metadata": {},
   "source": [
    "**Classifier - 3 SGDClassifier**"
   ]
  },
  {
   "cell_type": "code",
   "execution_count": 41,
   "metadata": {},
   "outputs": [
    {
     "data": {
      "text/html": [
       "<style>#sk-container-id-3 {color: black;background-color: white;}#sk-container-id-3 pre{padding: 0;}#sk-container-id-3 div.sk-toggleable {background-color: white;}#sk-container-id-3 label.sk-toggleable__label {cursor: pointer;display: block;width: 100%;margin-bottom: 0;padding: 0.3em;box-sizing: border-box;text-align: center;}#sk-container-id-3 label.sk-toggleable__label-arrow:before {content: \"▸\";float: left;margin-right: 0.25em;color: #696969;}#sk-container-id-3 label.sk-toggleable__label-arrow:hover:before {color: black;}#sk-container-id-3 div.sk-estimator:hover label.sk-toggleable__label-arrow:before {color: black;}#sk-container-id-3 div.sk-toggleable__content {max-height: 0;max-width: 0;overflow: hidden;text-align: left;background-color: #f0f8ff;}#sk-container-id-3 div.sk-toggleable__content pre {margin: 0.2em;color: black;border-radius: 0.25em;background-color: #f0f8ff;}#sk-container-id-3 input.sk-toggleable__control:checked~div.sk-toggleable__content {max-height: 200px;max-width: 100%;overflow: auto;}#sk-container-id-3 input.sk-toggleable__control:checked~label.sk-toggleable__label-arrow:before {content: \"▾\";}#sk-container-id-3 div.sk-estimator input.sk-toggleable__control:checked~label.sk-toggleable__label {background-color: #d4ebff;}#sk-container-id-3 div.sk-label input.sk-toggleable__control:checked~label.sk-toggleable__label {background-color: #d4ebff;}#sk-container-id-3 input.sk-hidden--visually {border: 0;clip: rect(1px 1px 1px 1px);clip: rect(1px, 1px, 1px, 1px);height: 1px;margin: -1px;overflow: hidden;padding: 0;position: absolute;width: 1px;}#sk-container-id-3 div.sk-estimator {font-family: monospace;background-color: #f0f8ff;border: 1px dotted black;border-radius: 0.25em;box-sizing: border-box;margin-bottom: 0.5em;}#sk-container-id-3 div.sk-estimator:hover {background-color: #d4ebff;}#sk-container-id-3 div.sk-parallel-item::after {content: \"\";width: 100%;border-bottom: 1px solid gray;flex-grow: 1;}#sk-container-id-3 div.sk-label:hover label.sk-toggleable__label {background-color: #d4ebff;}#sk-container-id-3 div.sk-serial::before {content: \"\";position: absolute;border-left: 1px solid gray;box-sizing: border-box;top: 0;bottom: 0;left: 50%;z-index: 0;}#sk-container-id-3 div.sk-serial {display: flex;flex-direction: column;align-items: center;background-color: white;padding-right: 0.2em;padding-left: 0.2em;position: relative;}#sk-container-id-3 div.sk-item {position: relative;z-index: 1;}#sk-container-id-3 div.sk-parallel {display: flex;align-items: stretch;justify-content: center;background-color: white;position: relative;}#sk-container-id-3 div.sk-item::before, #sk-container-id-3 div.sk-parallel-item::before {content: \"\";position: absolute;border-left: 1px solid gray;box-sizing: border-box;top: 0;bottom: 0;left: 50%;z-index: -1;}#sk-container-id-3 div.sk-parallel-item {display: flex;flex-direction: column;z-index: 1;position: relative;background-color: white;}#sk-container-id-3 div.sk-parallel-item:first-child::after {align-self: flex-end;width: 50%;}#sk-container-id-3 div.sk-parallel-item:last-child::after {align-self: flex-start;width: 50%;}#sk-container-id-3 div.sk-parallel-item:only-child::after {width: 0;}#sk-container-id-3 div.sk-dashed-wrapped {border: 1px dashed gray;margin: 0 0.4em 0.5em 0.4em;box-sizing: border-box;padding-bottom: 0.4em;background-color: white;}#sk-container-id-3 div.sk-label label {font-family: monospace;font-weight: bold;display: inline-block;line-height: 1.2em;}#sk-container-id-3 div.sk-label-container {text-align: center;}#sk-container-id-3 div.sk-container {/* jupyter's `normalize.less` sets `[hidden] { display: none; }` but bootstrap.min.css set `[hidden] { display: none !important; }` so we also need the `!important` here to be able to override the default hidden behavior on the sphinx rendered scikit-learn.org. See: https://github.com/scikit-learn/scikit-learn/issues/21755 */display: inline-block !important;position: relative;}#sk-container-id-3 div.sk-text-repr-fallback {display: none;}</style><div id=\"sk-container-id-3\" class=\"sk-top-container\"><div class=\"sk-text-repr-fallback\"><pre>SGDClassifier()</pre><b>In a Jupyter environment, please rerun this cell to show the HTML representation or trust the notebook. <br />On GitHub, the HTML representation is unable to render, please try loading this page with nbviewer.org.</b></div><div class=\"sk-container\" hidden><div class=\"sk-item\"><div class=\"sk-estimator sk-toggleable\"><input class=\"sk-toggleable__control sk-hidden--visually\" id=\"sk-estimator-id-3\" type=\"checkbox\" checked><label for=\"sk-estimator-id-3\" class=\"sk-toggleable__label sk-toggleable__label-arrow\">SGDClassifier</label><div class=\"sk-toggleable__content\"><pre>SGDClassifier()</pre></div></div></div></div></div>"
      ],
      "text/plain": [
       "SGDClassifier()"
      ]
     },
     "execution_count": 41,
     "metadata": {},
     "output_type": "execute_result"
    }
   ],
   "source": [
    "from sklearn.linear_model import SGDClassifier\n",
    "\n",
    "sgd = SGDClassifier()\n",
    "sgd.fit(X_upsampled_train, y_upsampled_train)"
   ]
  },
  {
   "attachments": {},
   "cell_type": "markdown",
   "metadata": {},
   "source": [
    "**Classifier - 4 LogisticRegression**"
   ]
  },
  {
   "cell_type": "code",
   "execution_count": 42,
   "metadata": {},
   "outputs": [
    {
     "name": "stderr",
     "output_type": "stream",
     "text": [
      "c:\\Users\\ebinp\\my_files\\pg\\data_mining\\assignment\\assignment_2\\venv\\lib\\site-packages\\sklearn\\linear_model\\_logistic.py:458: ConvergenceWarning: lbfgs failed to converge (status=1):\n",
      "STOP: TOTAL NO. of ITERATIONS REACHED LIMIT.\n",
      "\n",
      "Increase the number of iterations (max_iter) or scale the data as shown in:\n",
      "    https://scikit-learn.org/stable/modules/preprocessing.html\n",
      "Please also refer to the documentation for alternative solver options:\n",
      "    https://scikit-learn.org/stable/modules/linear_model.html#logistic-regression\n",
      "  n_iter_i = _check_optimize_result(\n"
     ]
    },
    {
     "data": {
      "text/html": [
       "<style>#sk-container-id-4 {color: black;background-color: white;}#sk-container-id-4 pre{padding: 0;}#sk-container-id-4 div.sk-toggleable {background-color: white;}#sk-container-id-4 label.sk-toggleable__label {cursor: pointer;display: block;width: 100%;margin-bottom: 0;padding: 0.3em;box-sizing: border-box;text-align: center;}#sk-container-id-4 label.sk-toggleable__label-arrow:before {content: \"▸\";float: left;margin-right: 0.25em;color: #696969;}#sk-container-id-4 label.sk-toggleable__label-arrow:hover:before {color: black;}#sk-container-id-4 div.sk-estimator:hover label.sk-toggleable__label-arrow:before {color: black;}#sk-container-id-4 div.sk-toggleable__content {max-height: 0;max-width: 0;overflow: hidden;text-align: left;background-color: #f0f8ff;}#sk-container-id-4 div.sk-toggleable__content pre {margin: 0.2em;color: black;border-radius: 0.25em;background-color: #f0f8ff;}#sk-container-id-4 input.sk-toggleable__control:checked~div.sk-toggleable__content {max-height: 200px;max-width: 100%;overflow: auto;}#sk-container-id-4 input.sk-toggleable__control:checked~label.sk-toggleable__label-arrow:before {content: \"▾\";}#sk-container-id-4 div.sk-estimator input.sk-toggleable__control:checked~label.sk-toggleable__label {background-color: #d4ebff;}#sk-container-id-4 div.sk-label input.sk-toggleable__control:checked~label.sk-toggleable__label {background-color: #d4ebff;}#sk-container-id-4 input.sk-hidden--visually {border: 0;clip: rect(1px 1px 1px 1px);clip: rect(1px, 1px, 1px, 1px);height: 1px;margin: -1px;overflow: hidden;padding: 0;position: absolute;width: 1px;}#sk-container-id-4 div.sk-estimator {font-family: monospace;background-color: #f0f8ff;border: 1px dotted black;border-radius: 0.25em;box-sizing: border-box;margin-bottom: 0.5em;}#sk-container-id-4 div.sk-estimator:hover {background-color: #d4ebff;}#sk-container-id-4 div.sk-parallel-item::after {content: \"\";width: 100%;border-bottom: 1px solid gray;flex-grow: 1;}#sk-container-id-4 div.sk-label:hover label.sk-toggleable__label {background-color: #d4ebff;}#sk-container-id-4 div.sk-serial::before {content: \"\";position: absolute;border-left: 1px solid gray;box-sizing: border-box;top: 0;bottom: 0;left: 50%;z-index: 0;}#sk-container-id-4 div.sk-serial {display: flex;flex-direction: column;align-items: center;background-color: white;padding-right: 0.2em;padding-left: 0.2em;position: relative;}#sk-container-id-4 div.sk-item {position: relative;z-index: 1;}#sk-container-id-4 div.sk-parallel {display: flex;align-items: stretch;justify-content: center;background-color: white;position: relative;}#sk-container-id-4 div.sk-item::before, #sk-container-id-4 div.sk-parallel-item::before {content: \"\";position: absolute;border-left: 1px solid gray;box-sizing: border-box;top: 0;bottom: 0;left: 50%;z-index: -1;}#sk-container-id-4 div.sk-parallel-item {display: flex;flex-direction: column;z-index: 1;position: relative;background-color: white;}#sk-container-id-4 div.sk-parallel-item:first-child::after {align-self: flex-end;width: 50%;}#sk-container-id-4 div.sk-parallel-item:last-child::after {align-self: flex-start;width: 50%;}#sk-container-id-4 div.sk-parallel-item:only-child::after {width: 0;}#sk-container-id-4 div.sk-dashed-wrapped {border: 1px dashed gray;margin: 0 0.4em 0.5em 0.4em;box-sizing: border-box;padding-bottom: 0.4em;background-color: white;}#sk-container-id-4 div.sk-label label {font-family: monospace;font-weight: bold;display: inline-block;line-height: 1.2em;}#sk-container-id-4 div.sk-label-container {text-align: center;}#sk-container-id-4 div.sk-container {/* jupyter's `normalize.less` sets `[hidden] { display: none; }` but bootstrap.min.css set `[hidden] { display: none !important; }` so we also need the `!important` here to be able to override the default hidden behavior on the sphinx rendered scikit-learn.org. See: https://github.com/scikit-learn/scikit-learn/issues/21755 */display: inline-block !important;position: relative;}#sk-container-id-4 div.sk-text-repr-fallback {display: none;}</style><div id=\"sk-container-id-4\" class=\"sk-top-container\"><div class=\"sk-text-repr-fallback\"><pre>LogisticRegression()</pre><b>In a Jupyter environment, please rerun this cell to show the HTML representation or trust the notebook. <br />On GitHub, the HTML representation is unable to render, please try loading this page with nbviewer.org.</b></div><div class=\"sk-container\" hidden><div class=\"sk-item\"><div class=\"sk-estimator sk-toggleable\"><input class=\"sk-toggleable__control sk-hidden--visually\" id=\"sk-estimator-id-4\" type=\"checkbox\" checked><label for=\"sk-estimator-id-4\" class=\"sk-toggleable__label sk-toggleable__label-arrow\">LogisticRegression</label><div class=\"sk-toggleable__content\"><pre>LogisticRegression()</pre></div></div></div></div></div>"
      ],
      "text/plain": [
       "LogisticRegression()"
      ]
     },
     "execution_count": 42,
     "metadata": {},
     "output_type": "execute_result"
    }
   ],
   "source": [
    "from sklearn.linear_model import LogisticRegression\n",
    "\n",
    "lr = LogisticRegression()\n",
    "lr.fit(X_upsampled_train, y_upsampled_train)"
   ]
  },
  {
   "attachments": {},
   "cell_type": "markdown",
   "metadata": {},
   "source": [
    "**Classifier - 5 RandomForestClassifier**"
   ]
  },
  {
   "cell_type": "code",
   "execution_count": 43,
   "metadata": {},
   "outputs": [
    {
     "data": {
      "text/html": [
       "<style>#sk-container-id-5 {color: black;background-color: white;}#sk-container-id-5 pre{padding: 0;}#sk-container-id-5 div.sk-toggleable {background-color: white;}#sk-container-id-5 label.sk-toggleable__label {cursor: pointer;display: block;width: 100%;margin-bottom: 0;padding: 0.3em;box-sizing: border-box;text-align: center;}#sk-container-id-5 label.sk-toggleable__label-arrow:before {content: \"▸\";float: left;margin-right: 0.25em;color: #696969;}#sk-container-id-5 label.sk-toggleable__label-arrow:hover:before {color: black;}#sk-container-id-5 div.sk-estimator:hover label.sk-toggleable__label-arrow:before {color: black;}#sk-container-id-5 div.sk-toggleable__content {max-height: 0;max-width: 0;overflow: hidden;text-align: left;background-color: #f0f8ff;}#sk-container-id-5 div.sk-toggleable__content pre {margin: 0.2em;color: black;border-radius: 0.25em;background-color: #f0f8ff;}#sk-container-id-5 input.sk-toggleable__control:checked~div.sk-toggleable__content {max-height: 200px;max-width: 100%;overflow: auto;}#sk-container-id-5 input.sk-toggleable__control:checked~label.sk-toggleable__label-arrow:before {content: \"▾\";}#sk-container-id-5 div.sk-estimator input.sk-toggleable__control:checked~label.sk-toggleable__label {background-color: #d4ebff;}#sk-container-id-5 div.sk-label input.sk-toggleable__control:checked~label.sk-toggleable__label {background-color: #d4ebff;}#sk-container-id-5 input.sk-hidden--visually {border: 0;clip: rect(1px 1px 1px 1px);clip: rect(1px, 1px, 1px, 1px);height: 1px;margin: -1px;overflow: hidden;padding: 0;position: absolute;width: 1px;}#sk-container-id-5 div.sk-estimator {font-family: monospace;background-color: #f0f8ff;border: 1px dotted black;border-radius: 0.25em;box-sizing: border-box;margin-bottom: 0.5em;}#sk-container-id-5 div.sk-estimator:hover {background-color: #d4ebff;}#sk-container-id-5 div.sk-parallel-item::after {content: \"\";width: 100%;border-bottom: 1px solid gray;flex-grow: 1;}#sk-container-id-5 div.sk-label:hover label.sk-toggleable__label {background-color: #d4ebff;}#sk-container-id-5 div.sk-serial::before {content: \"\";position: absolute;border-left: 1px solid gray;box-sizing: border-box;top: 0;bottom: 0;left: 50%;z-index: 0;}#sk-container-id-5 div.sk-serial {display: flex;flex-direction: column;align-items: center;background-color: white;padding-right: 0.2em;padding-left: 0.2em;position: relative;}#sk-container-id-5 div.sk-item {position: relative;z-index: 1;}#sk-container-id-5 div.sk-parallel {display: flex;align-items: stretch;justify-content: center;background-color: white;position: relative;}#sk-container-id-5 div.sk-item::before, #sk-container-id-5 div.sk-parallel-item::before {content: \"\";position: absolute;border-left: 1px solid gray;box-sizing: border-box;top: 0;bottom: 0;left: 50%;z-index: -1;}#sk-container-id-5 div.sk-parallel-item {display: flex;flex-direction: column;z-index: 1;position: relative;background-color: white;}#sk-container-id-5 div.sk-parallel-item:first-child::after {align-self: flex-end;width: 50%;}#sk-container-id-5 div.sk-parallel-item:last-child::after {align-self: flex-start;width: 50%;}#sk-container-id-5 div.sk-parallel-item:only-child::after {width: 0;}#sk-container-id-5 div.sk-dashed-wrapped {border: 1px dashed gray;margin: 0 0.4em 0.5em 0.4em;box-sizing: border-box;padding-bottom: 0.4em;background-color: white;}#sk-container-id-5 div.sk-label label {font-family: monospace;font-weight: bold;display: inline-block;line-height: 1.2em;}#sk-container-id-5 div.sk-label-container {text-align: center;}#sk-container-id-5 div.sk-container {/* jupyter's `normalize.less` sets `[hidden] { display: none; }` but bootstrap.min.css set `[hidden] { display: none !important; }` so we also need the `!important` here to be able to override the default hidden behavior on the sphinx rendered scikit-learn.org. See: https://github.com/scikit-learn/scikit-learn/issues/21755 */display: inline-block !important;position: relative;}#sk-container-id-5 div.sk-text-repr-fallback {display: none;}</style><div id=\"sk-container-id-5\" class=\"sk-top-container\"><div class=\"sk-text-repr-fallback\"><pre>RandomForestClassifier()</pre><b>In a Jupyter environment, please rerun this cell to show the HTML representation or trust the notebook. <br />On GitHub, the HTML representation is unable to render, please try loading this page with nbviewer.org.</b></div><div class=\"sk-container\" hidden><div class=\"sk-item\"><div class=\"sk-estimator sk-toggleable\"><input class=\"sk-toggleable__control sk-hidden--visually\" id=\"sk-estimator-id-5\" type=\"checkbox\" checked><label for=\"sk-estimator-id-5\" class=\"sk-toggleable__label sk-toggleable__label-arrow\">RandomForestClassifier</label><div class=\"sk-toggleable__content\"><pre>RandomForestClassifier()</pre></div></div></div></div></div>"
      ],
      "text/plain": [
       "RandomForestClassifier()"
      ]
     },
     "execution_count": 43,
     "metadata": {},
     "output_type": "execute_result"
    }
   ],
   "source": [
    "from sklearn.ensemble import RandomForestClassifier\n",
    "\n",
    "rfc = RandomForestClassifier()\n",
    "\n",
    "rfc.fit(X_upsampled_train, y_upsampled_train)"
   ]
  },
  {
   "attachments": {},
   "cell_type": "markdown",
   "metadata": {},
   "source": [
    "### Comparing the performance of classifiers"
   ]
  },
  {
   "attachments": {},
   "cell_type": "markdown",
   "metadata": {},
   "source": [
    "**Accuracy Scores**"
   ]
  },
  {
   "cell_type": "code",
   "execution_count": 44,
   "metadata": {},
   "outputs": [
    {
     "name": "stdout",
     "output_type": "stream",
     "text": [
      "accuracy_scores = [0.5605786618444847, 0.6690777576853526, 0.6925858951175407, 0.7811934900542495, 0.9981916817359855]\n",
      "Classifier with highest accuracy RandomForestClassifier()\n"
     ]
    }
   ],
   "source": [
    "classifiers = [svc, naive_bayes, sgd, lr, rfc]\n",
    "\n",
    "accuracy_scores = [accuracy_score(classifier.predict(X_upsampled_test), y_upsampled_test) for classifier in classifiers]\n",
    "\n",
    "# getting the index of classifier with highest accuracy score\n",
    "index = np.argmax(accuracy_scores)\n",
    "\n",
    "print(f\"{accuracy_scores = }\")\n",
    "print(f\"Classifier with highest accuracy {classifiers[index]}\")"
   ]
  },
  {
   "attachments": {},
   "cell_type": "markdown",
   "metadata": {},
   "source": [
    "**F1 Score** "
   ]
  },
  {
   "cell_type": "code",
   "execution_count": 45,
   "metadata": {},
   "outputs": [
    {
     "name": "stdout",
     "output_type": "stream",
     "text": [
      "f1_scores = [0.5354333948670398, 0.664849076207087, 0.6528633331615119, 0.7793978738848006, 0.9981916069734732]\n",
      "Classifier with highest f1 score RandomForestClassifier()\n"
     ]
    }
   ],
   "source": [
    "from sklearn.metrics import f1_score\n",
    "\n",
    "f1_scores = [f1_score(y_upsampled_test, classifier.predict(X_upsampled_test), average='weighted') for classifier in classifiers]\n",
    "\n",
    "# getting the index of classifier with highest accuracy score\n",
    "index = np.argmax(f1_scores)\n",
    "\n",
    "print(f\"{f1_scores = }\")\n",
    "print(f\"Classifier with highest f1 score {classifiers[index]}\")"
   ]
  },
  {
   "attachments": {},
   "cell_type": "markdown",
   "metadata": {},
   "source": [
    "**Precision Score**"
   ]
  },
  {
   "cell_type": "code",
   "execution_count": 46,
   "metadata": {},
   "outputs": [
    {
     "name": "stdout",
     "output_type": "stream",
     "text": [
      "precision_scores = [0.7387096868354722, 0.6852789670910923, 0.735131471247693, 0.7787705736584125, 0.9982010029641507]\n",
      "Classifier with highest f1 score RandomForestClassifier()\n"
     ]
    }
   ],
   "source": [
    "from sklearn.metrics import precision_score\n",
    "\n",
    "precision_scores = [precision_score(y_upsampled_test, classifier.predict(X_upsampled_test), average='weighted')for classifier in classifiers]\n",
    "\n",
    "index = np.argmax(precision_scores)\n",
    "\n",
    "print(f\"{precision_scores = }\")\n",
    "print(f\"Classifier with highest f1 score {classifiers[index]}\")"
   ]
  },
  {
   "attachments": {},
   "cell_type": "markdown",
   "metadata": {},
   "source": [
    "**Recall Score**"
   ]
  },
  {
   "cell_type": "code",
   "execution_count": 47,
   "metadata": {},
   "outputs": [
    {
     "name": "stdout",
     "output_type": "stream",
     "text": [
      "recall_scores = [0.5605786618444847, 0.6690777576853526, 0.6925858951175407, 0.7811934900542495, 0.9981916817359855]\n",
      "Classifier with highest f1 score RandomForestClassifier()\n"
     ]
    }
   ],
   "source": [
    "from sklearn.metrics import recall_score\n",
    "\n",
    "recall_scores = [recall_score(y_upsampled_test, classifier.predict(X_upsampled_test), average='weighted')for classifier in classifiers]\n",
    "\n",
    "index = np.argmax(recall_scores)\n",
    "\n",
    "print(f\"{recall_scores = }\")\n",
    "print(f\"Classifier with highest f1 score {classifiers[index]}\")"
   ]
  },
  {
   "attachments": {},
   "cell_type": "markdown",
   "metadata": {},
   "source": [
    "Based on the scores of Accuracy, F1, Precision, and Recall RandomForestClassifier is the better classifier in this scenario"
   ]
  },
  {
   "attachments": {},
   "cell_type": "markdown",
   "metadata": {},
   "source": [
    "## Prediction"
   ]
  },
  {
   "cell_type": "code",
   "execution_count": 48,
   "metadata": {},
   "outputs": [
    {
     "data": {
      "text/html": [
       "<div>\n",
       "<style scoped>\n",
       "    .dataframe tbody tr th:only-of-type {\n",
       "        vertical-align: middle;\n",
       "    }\n",
       "\n",
       "    .dataframe tbody tr th {\n",
       "        vertical-align: top;\n",
       "    }\n",
       "\n",
       "    .dataframe thead th {\n",
       "        text-align: right;\n",
       "    }\n",
       "</style>\n",
       "<table border=\"1\" class=\"dataframe\">\n",
       "  <thead>\n",
       "    <tr style=\"text-align: right;\">\n",
       "      <th></th>\n",
       "      <th>id</th>\n",
       "      <th>x1</th>\n",
       "      <th>x2</th>\n",
       "      <th>x3</th>\n",
       "      <th>x4</th>\n",
       "      <th>x5</th>\n",
       "      <th>x6</th>\n",
       "      <th>x7</th>\n",
       "      <th>x8</th>\n",
       "      <th>x9</th>\n",
       "      <th>...</th>\n",
       "      <th>x15</th>\n",
       "      <th>x16</th>\n",
       "      <th>x17</th>\n",
       "      <th>x18</th>\n",
       "      <th>x19</th>\n",
       "      <th>x20</th>\n",
       "      <th>x21</th>\n",
       "      <th>x22</th>\n",
       "      <th>x23</th>\n",
       "      <th>x24</th>\n",
       "    </tr>\n",
       "  </thead>\n",
       "  <tbody>\n",
       "    <tr>\n",
       "      <th>0</th>\n",
       "      <td>PA3001</td>\n",
       "      <td>767</td>\n",
       "      <td>135</td>\n",
       "      <td>F</td>\n",
       "      <td>0.000</td>\n",
       "      <td>0.0</td>\n",
       "      <td>0.000</td>\n",
       "      <td>0.0</td>\n",
       "      <td>0.0</td>\n",
       "      <td>0.0</td>\n",
       "      <td>...</td>\n",
       "      <td>76</td>\n",
       "      <td>67</td>\n",
       "      <td>143</td>\n",
       "      <td>2</td>\n",
       "      <td>0</td>\n",
       "      <td>137</td>\n",
       "      <td>136</td>\n",
       "      <td>138</td>\n",
       "      <td>0</td>\n",
       "      <td>1</td>\n",
       "    </tr>\n",
       "    <tr>\n",
       "      <th>1</th>\n",
       "      <td>PA3002</td>\n",
       "      <td>1592</td>\n",
       "      <td>134</td>\n",
       "      <td>F</td>\n",
       "      <td>0.000</td>\n",
       "      <td>0.0</td>\n",
       "      <td>0.010</td>\n",
       "      <td>0.0</td>\n",
       "      <td>0.0</td>\n",
       "      <td>0.0</td>\n",
       "      <td>...</td>\n",
       "      <td>74</td>\n",
       "      <td>89</td>\n",
       "      <td>163</td>\n",
       "      <td>7</td>\n",
       "      <td>1</td>\n",
       "      <td>138</td>\n",
       "      <td>134</td>\n",
       "      <td>138</td>\n",
       "      <td>13</td>\n",
       "      <td>0</td>\n",
       "    </tr>\n",
       "    <tr>\n",
       "      <th>2</th>\n",
       "      <td>PA3003</td>\n",
       "      <td>1115</td>\n",
       "      <td>122</td>\n",
       "      <td>M</td>\n",
       "      <td>0.000</td>\n",
       "      <td>0.0</td>\n",
       "      <td>0.000</td>\n",
       "      <td>0.0</td>\n",
       "      <td>0.0</td>\n",
       "      <td>0.0</td>\n",
       "      <td>...</td>\n",
       "      <td>39</td>\n",
       "      <td>103</td>\n",
       "      <td>142</td>\n",
       "      <td>1</td>\n",
       "      <td>0</td>\n",
       "      <td>120</td>\n",
       "      <td>120</td>\n",
       "      <td>122</td>\n",
       "      <td>3</td>\n",
       "      <td>0</td>\n",
       "    </tr>\n",
       "    <tr>\n",
       "      <th>3</th>\n",
       "      <td>PA3004</td>\n",
       "      <td>299</td>\n",
       "      <td>148</td>\n",
       "      <td>F</td>\n",
       "      <td>0.000</td>\n",
       "      <td>NaN</td>\n",
       "      <td>0.000</td>\n",
       "      <td>0.0</td>\n",
       "      <td>0.0</td>\n",
       "      <td>0.0</td>\n",
       "      <td>...</td>\n",
       "      <td>14</td>\n",
       "      <td>139</td>\n",
       "      <td>153</td>\n",
       "      <td>1</td>\n",
       "      <td>0</td>\n",
       "      <td>150</td>\n",
       "      <td>148</td>\n",
       "      <td>150</td>\n",
       "      <td>0</td>\n",
       "      <td>1</td>\n",
       "    </tr>\n",
       "    <tr>\n",
       "      <th>4</th>\n",
       "      <td>PA3005</td>\n",
       "      <td>1194</td>\n",
       "      <td>133</td>\n",
       "      <td>M</td>\n",
       "      <td>0.003</td>\n",
       "      <td>0.0</td>\n",
       "      <td>0.005</td>\n",
       "      <td>0.0</td>\n",
       "      <td>0.0</td>\n",
       "      <td>0.0</td>\n",
       "      <td>...</td>\n",
       "      <td>58</td>\n",
       "      <td>113</td>\n",
       "      <td>171</td>\n",
       "      <td>5</td>\n",
       "      <td>1</td>\n",
       "      <td>150</td>\n",
       "      <td>147</td>\n",
       "      <td>149</td>\n",
       "      <td>5</td>\n",
       "      <td>0</td>\n",
       "    </tr>\n",
       "  </tbody>\n",
       "</table>\n",
       "<p>5 rows × 25 columns</p>\n",
       "</div>"
      ],
      "text/plain": [
       "       id    x1   x2 x3     x4   x5     x6   x7   x8   x9  ...  x15  x16  x17  \\\n",
       "0  PA3001   767  135  F  0.000  0.0  0.000  0.0  0.0  0.0  ...   76   67  143   \n",
       "1  PA3002  1592  134  F  0.000  0.0  0.010  0.0  0.0  0.0  ...   74   89  163   \n",
       "2  PA3003  1115  122  M  0.000  0.0  0.000  0.0  0.0  0.0  ...   39  103  142   \n",
       "3  PA3004   299  148  F  0.000  NaN  0.000  0.0  0.0  0.0  ...   14  139  153   \n",
       "4  PA3005  1194  133  M  0.003  0.0  0.005  0.0  0.0  0.0  ...   58  113  171   \n",
       "\n",
       "   x18 x19  x20  x21  x22  x23  x24  \n",
       "0    2   0  137  136  138    0    1  \n",
       "1    7   1  138  134  138   13    0  \n",
       "2    1   0  120  120  122    3    0  \n",
       "3    1   0  150  148  150    0    1  \n",
       "4    5   1  150  147  149    5    0  \n",
       "\n",
       "[5 rows x 25 columns]"
      ]
     },
     "execution_count": 48,
     "metadata": {},
     "output_type": "execute_result"
    }
   ],
   "source": [
    "# importing the test data\n",
    "health_test_data = pd.read_csv(\"health_test.csv\")\n",
    "health_test_data.head()"
   ]
  },
  {
   "attachments": {},
   "cell_type": "markdown",
   "metadata": {},
   "source": [
    "Getting to know which columns are categorical in test data"
   ]
  },
  {
   "cell_type": "code",
   "execution_count": 49,
   "metadata": {},
   "outputs": [
    {
     "name": "stdout",
     "output_type": "stream",
     "text": [
      "<class 'pandas.core.frame.DataFrame'>\n",
      "RangeIndex: 528 entries, 0 to 527\n",
      "Data columns (total 25 columns):\n",
      " #   Column  Non-Null Count  Dtype  \n",
      "---  ------  --------------  -----  \n",
      " 0   id      528 non-null    object \n",
      " 1   x1      528 non-null    int64  \n",
      " 2   x2      528 non-null    int64  \n",
      " 3   x3      528 non-null    object \n",
      " 4   x4      528 non-null    float64\n",
      " 5   x5      515 non-null    float64\n",
      " 6   x6      528 non-null    float64\n",
      " 7   x7      528 non-null    float64\n",
      " 8   x8      522 non-null    float64\n",
      " 9   x9      528 non-null    float64\n",
      " 10  x10     517 non-null    float64\n",
      " 11  x11     528 non-null    float64\n",
      " 12  x12     528 non-null    int64  \n",
      " 13  x13     528 non-null    float64\n",
      " 14  x14     528 non-null    object \n",
      " 15  x15     528 non-null    int64  \n",
      " 16  x16     528 non-null    int64  \n",
      " 17  x17     528 non-null    int64  \n",
      " 18  x18     528 non-null    int64  \n",
      " 19  x19     528 non-null    int64  \n",
      " 20  x20     528 non-null    int64  \n",
      " 21  x21     528 non-null    int64  \n",
      " 22  x22     528 non-null    int64  \n",
      " 23  x23     528 non-null    int64  \n",
      " 24  x24     528 non-null    int64  \n",
      "dtypes: float64(9), int64(13), object(3)\n",
      "memory usage: 103.2+ KB\n"
     ]
    }
   ],
   "source": [
    "health_test_data.info()"
   ]
  },
  {
   "attachments": {},
   "cell_type": "markdown",
   "metadata": {},
   "source": [
    "Encoding the categorical columns in test data"
   ]
  },
  {
   "cell_type": "code",
   "execution_count": 50,
   "metadata": {},
   "outputs": [],
   "source": [
    "health_test_data['x3'] = label_enc.fit_transform(health_test_data['x3'])\n",
    "health_test_data\n",
    "\n",
    "# instance of OneHotEncoder\n",
    "testData_encoder = OneHotEncoder()\n",
    "\n",
    "# passing column x13 and getting upsampled train encoded data\n",
    "test_data_encoded = pd.DataFrame(testData_encoder.fit_transform(health_test_data[['x14']]).toarray())\n",
    "\n",
    "test_data_encoded.columns = testData_encoder.get_feature_names_out(['x14'])\n",
    "\n",
    "# resettig the index to avoid InvalidIndexError\n",
    "health_test_data.reset_index(drop=True, inplace=True)\n",
    "test_data_encoded.reset_index(drop=True, inplace=True)\n",
    "health_test_data = pd.concat([health_test_data, test_data_encoded], axis=1)\n",
    "\n",
    "# Dropping columns that are not needed\n",
    "health_test_data.drop('x14', axis=1, inplace=True)\n",
    "health_test_data.drop('id', axis=1, inplace=True)"
   ]
  },
  {
   "cell_type": "code",
   "execution_count": 51,
   "metadata": {},
   "outputs": [
    {
     "data": {
      "text/plain": [
       "x1          0\n",
       "x2          0\n",
       "x3          0\n",
       "x4          0\n",
       "x5         13\n",
       "x6          0\n",
       "x7          0\n",
       "x8          6\n",
       "x9          0\n",
       "x10        11\n",
       "x11         0\n",
       "x12         0\n",
       "x13         0\n",
       "x15         0\n",
       "x16         0\n",
       "x17         0\n",
       "x18         0\n",
       "x19         0\n",
       "x20         0\n",
       "x21         0\n",
       "x22         0\n",
       "x23         0\n",
       "x24         0\n",
       "x14_A+      0\n",
       "x14_A-      0\n",
       "x14_AB+     0\n",
       "x14_AB-     0\n",
       "x14_B+      0\n",
       "x14_B-      0\n",
       "x14_O+      0\n",
       "x14_O-      0\n",
       "dtype: int64"
      ]
     },
     "execution_count": 51,
     "metadata": {},
     "output_type": "execute_result"
    }
   ],
   "source": [
    "# Checking if null/NaN values are present in the data\n",
    "health_test_data.isnull().sum()"
   ]
  },
  {
   "attachments": {},
   "cell_type": "markdown",
   "metadata": {},
   "source": [
    "Imputing the null values with median value of the column"
   ]
  },
  {
   "cell_type": "code",
   "execution_count": 52,
   "metadata": {},
   "outputs": [
    {
     "data": {
      "text/plain": [
       "x1         0\n",
       "x2         0\n",
       "x3         0\n",
       "x4         0\n",
       "x5         0\n",
       "x6         0\n",
       "x7         0\n",
       "x8         0\n",
       "x9         0\n",
       "x10        0\n",
       "x11        0\n",
       "x12        0\n",
       "x13        0\n",
       "x15        0\n",
       "x16        0\n",
       "x17        0\n",
       "x18        0\n",
       "x19        0\n",
       "x20        0\n",
       "x21        0\n",
       "x22        0\n",
       "x23        0\n",
       "x24        0\n",
       "x14_A+     0\n",
       "x14_A-     0\n",
       "x14_AB+    0\n",
       "x14_AB-    0\n",
       "x14_B+     0\n",
       "x14_B-     0\n",
       "x14_O+     0\n",
       "x14_O-     0\n",
       "dtype: int64"
      ]
     },
     "execution_count": 52,
     "metadata": {},
     "output_type": "execute_result"
    }
   ],
   "source": [
    "health_test_data['x5'].fillna(health_test_data['x5'].median(), inplace=True)\n",
    "health_test_data['x10'].fillna(health_test_data['x10'].median(), inplace=True)\n",
    "health_test_data['x8'].fillna(health_test_data['x8'].median(), inplace=True)\n",
    "health_test_data.isnull().sum()"
   ]
  },
  {
   "cell_type": "code",
   "execution_count": 53,
   "metadata": {},
   "outputs": [
    {
     "data": {
      "text/plain": [
       "x1         0\n",
       "x2         0\n",
       "x3         0\n",
       "x4         0\n",
       "x5         0\n",
       "x6         0\n",
       "x7         0\n",
       "x8         0\n",
       "x9         0\n",
       "x10        0\n",
       "x11        0\n",
       "x12        0\n",
       "x13        0\n",
       "x15        0\n",
       "x16        0\n",
       "x17        0\n",
       "x18        0\n",
       "x19        0\n",
       "x20        0\n",
       "x21        0\n",
       "x22        0\n",
       "x23        0\n",
       "x24        0\n",
       "x14_A+     0\n",
       "x14_A-     0\n",
       "x14_AB+    0\n",
       "x14_AB-    0\n",
       "x14_B+     0\n",
       "x14_B-     0\n",
       "x14_O+     0\n",
       "x14_O-     0\n",
       "dtype: int64"
      ]
     },
     "execution_count": 53,
     "metadata": {},
     "output_type": "execute_result"
    }
   ],
   "source": [
    "health_test_data_imputed = health_test_data.fillna(health_test_data.median())\n",
    "health_test_data_imputed.isnull().sum()"
   ]
  },
  {
   "cell_type": "code",
   "execution_count": 54,
   "metadata": {},
   "outputs": [
    {
     "data": {
      "text/plain": [
       "array([2, 1, 1, 2, 1, 1, 1, 1, 0, 1, 1, 1, 1, 1, 1, 2, 1, 2, 1, 1, 2, 1,\n",
       "       1, 1, 1, 2, 1, 0, 1, 1, 1, 1, 1, 1, 1, 1, 1, 1, 1, 1, 1, 1, 1, 1,\n",
       "       2, 1, 1, 1, 1, 1, 1, 1, 1, 1, 2, 1, 1, 2, 1, 1, 1, 1, 1, 1, 1, 1,\n",
       "       1, 1, 1, 1, 1, 2, 1, 1, 1, 1, 1, 2, 1, 1, 1, 1, 1, 1, 2, 1, 1, 1,\n",
       "       1, 1, 1, 2, 1, 1, 2, 1, 1, 1, 0, 1, 2, 2, 1, 1, 1, 2, 1, 1, 1, 1,\n",
       "       1, 1, 1, 1, 1, 1, 1, 0, 1, 1, 1, 1, 1, 1, 0, 1, 1, 1, 1, 0, 1, 1,\n",
       "       0, 1, 1, 1, 1, 1, 1, 1, 1, 1, 1, 1, 2, 1, 1, 1, 1, 1, 1, 1, 1, 1,\n",
       "       0, 2, 1, 1, 1, 1, 1, 1, 1, 0, 1, 1, 1, 1, 1, 1, 1, 1, 1, 1, 1, 1,\n",
       "       2, 1, 2, 1, 1, 2, 1, 1, 1, 1, 0, 1, 2, 1, 1, 0, 1, 1, 1, 2, 1, 1,\n",
       "       2, 2, 1, 1, 1, 1, 1, 2, 1, 0, 2, 1, 1, 1, 1, 1, 1, 1, 1, 1, 1, 1,\n",
       "       2, 1, 1, 1, 1, 1, 1, 1, 2, 1, 1, 1, 1, 1, 1, 1, 1, 1, 1, 1, 1, 1,\n",
       "       2, 1, 1, 0, 1, 1, 1, 1, 1, 1, 1, 1, 1, 0, 1, 1, 1, 1, 1, 1, 1, 2,\n",
       "       1, 1, 1, 1, 1, 1, 1, 1, 2, 1, 2, 1, 1, 2, 1, 1, 1, 1, 1, 2, 1, 1,\n",
       "       1, 1, 1, 1, 2, 1, 2, 2, 1, 1, 0, 1, 2, 0, 1, 1, 1, 1, 1, 1, 1, 1,\n",
       "       1, 1, 1, 1, 1, 2, 1, 1, 1, 1, 1, 1, 1, 1, 1, 1, 1, 1, 1, 1, 1, 1,\n",
       "       1, 1, 1, 1, 1, 1, 2, 2, 1, 1, 2, 1, 1, 1, 1, 1, 1, 1, 1, 1, 1, 2,\n",
       "       1, 1, 1, 0, 1, 1, 1, 1, 1, 1, 1, 1, 1, 1, 1, 1, 1, 1, 1, 1, 1, 1,\n",
       "       1, 2, 1, 1, 2, 1, 1, 1, 1, 1, 1, 1, 1, 1, 2, 1, 1, 2, 1, 1, 2, 1,\n",
       "       1, 1, 1, 1, 1, 1, 2, 1, 0, 1, 1, 1, 0, 1, 1, 1, 1, 1, 1, 1, 1, 2,\n",
       "       1, 1, 1, 1, 1, 1, 1, 2, 1, 1, 1, 1, 1, 1, 1, 2, 1, 1, 1, 1, 2, 0,\n",
       "       1, 1, 1, 1, 0, 1, 1, 1, 1, 1, 1, 1, 1, 1, 1, 2, 2, 2, 1, 2, 1, 1,\n",
       "       1, 1, 1, 1, 1, 1, 2, 1, 1, 0, 1, 2, 2, 1, 1, 1, 1, 1, 1, 1, 0, 1,\n",
       "       1, 1, 1, 1, 1, 1, 1, 1, 0, 1, 1, 1, 1, 1, 1, 1, 1, 1, 1, 1, 1, 1,\n",
       "       0, 2, 1, 1, 0, 1, 2, 1, 1, 2, 2, 1, 1, 1, 1, 1, 1, 1, 0, 1, 1, 1])"
      ]
     },
     "execution_count": 54,
     "metadata": {},
     "output_type": "execute_result"
    }
   ],
   "source": [
    "y_predictions = rfc.predict(health_test_data)\n",
    "y_predictions"
   ]
  },
  {
   "cell_type": "code",
   "execution_count": 55,
   "metadata": {},
   "outputs": [
    {
     "data": {
      "text/plain": [
       "array(['Moderate risk', 'Low risk', 'Low risk', 'Moderate risk',\n",
       "       'Low risk', 'Low risk', 'Low risk', 'Low risk', 'High risk',\n",
       "       'Low risk', 'Low risk', 'Low risk', 'Low risk', 'Low risk',\n",
       "       'Low risk', 'Moderate risk', 'Low risk', 'Moderate risk',\n",
       "       'Low risk', 'Low risk', 'Moderate risk', 'Low risk', 'Low risk',\n",
       "       'Low risk', 'Low risk', 'Moderate risk', 'Low risk', 'High risk',\n",
       "       'Low risk', 'Low risk', 'Low risk', 'Low risk', 'Low risk',\n",
       "       'Low risk', 'Low risk', 'Low risk', 'Low risk', 'Low risk',\n",
       "       'Low risk', 'Low risk', 'Low risk', 'Low risk', 'Low risk',\n",
       "       'Low risk', 'Moderate risk', 'Low risk', 'Low risk', 'Low risk',\n",
       "       'Low risk', 'Low risk', 'Low risk', 'Low risk', 'Low risk',\n",
       "       'Low risk', 'Moderate risk', 'Low risk', 'Low risk',\n",
       "       'Moderate risk', 'Low risk', 'Low risk', 'Low risk', 'Low risk',\n",
       "       'Low risk', 'Low risk', 'Low risk', 'Low risk', 'Low risk',\n",
       "       'Low risk', 'Low risk', 'Low risk', 'Low risk', 'Moderate risk',\n",
       "       'Low risk', 'Low risk', 'Low risk', 'Low risk', 'Low risk',\n",
       "       'Moderate risk', 'Low risk', 'Low risk', 'Low risk', 'Low risk',\n",
       "       'Low risk', 'Low risk', 'Moderate risk', 'Low risk', 'Low risk',\n",
       "       'Low risk', 'Low risk', 'Low risk', 'Low risk', 'Moderate risk',\n",
       "       'Low risk', 'Low risk', 'Moderate risk', 'Low risk', 'Low risk',\n",
       "       'Low risk', 'High risk', 'Low risk', 'Moderate risk',\n",
       "       'Moderate risk', 'Low risk', 'Low risk', 'Low risk',\n",
       "       'Moderate risk', 'Low risk', 'Low risk', 'Low risk', 'Low risk',\n",
       "       'Low risk', 'Low risk', 'Low risk', 'Low risk', 'Low risk',\n",
       "       'Low risk', 'Low risk', 'High risk', 'Low risk', 'Low risk',\n",
       "       'Low risk', 'Low risk', 'Low risk', 'Low risk', 'High risk',\n",
       "       'Low risk', 'Low risk', 'Low risk', 'Low risk', 'High risk',\n",
       "       'Low risk', 'Low risk', 'High risk', 'Low risk', 'Low risk',\n",
       "       'Low risk', 'Low risk', 'Low risk', 'Low risk', 'Low risk',\n",
       "       'Low risk', 'Low risk', 'Low risk', 'Low risk', 'Moderate risk',\n",
       "       'Low risk', 'Low risk', 'Low risk', 'Low risk', 'Low risk',\n",
       "       'Low risk', 'Low risk', 'Low risk', 'Low risk', 'High risk',\n",
       "       'Moderate risk', 'Low risk', 'Low risk', 'Low risk', 'Low risk',\n",
       "       'Low risk', 'Low risk', 'Low risk', 'High risk', 'Low risk',\n",
       "       'Low risk', 'Low risk', 'Low risk', 'Low risk', 'Low risk',\n",
       "       'Low risk', 'Low risk', 'Low risk', 'Low risk', 'Low risk',\n",
       "       'Low risk', 'Moderate risk', 'Low risk', 'Moderate risk',\n",
       "       'Low risk', 'Low risk', 'Moderate risk', 'Low risk', 'Low risk',\n",
       "       'Low risk', 'Low risk', 'High risk', 'Low risk', 'Moderate risk',\n",
       "       'Low risk', 'Low risk', 'High risk', 'Low risk', 'Low risk',\n",
       "       'Low risk', 'Moderate risk', 'Low risk', 'Low risk',\n",
       "       'Moderate risk', 'Moderate risk', 'Low risk', 'Low risk',\n",
       "       'Low risk', 'Low risk', 'Low risk', 'Moderate risk', 'Low risk',\n",
       "       'High risk', 'Moderate risk', 'Low risk', 'Low risk', 'Low risk',\n",
       "       'Low risk', 'Low risk', 'Low risk', 'Low risk', 'Low risk',\n",
       "       'Low risk', 'Low risk', 'Low risk', 'Moderate risk', 'Low risk',\n",
       "       'Low risk', 'Low risk', 'Low risk', 'Low risk', 'Low risk',\n",
       "       'Low risk', 'Moderate risk', 'Low risk', 'Low risk', 'Low risk',\n",
       "       'Low risk', 'Low risk', 'Low risk', 'Low risk', 'Low risk',\n",
       "       'Low risk', 'Low risk', 'Low risk', 'Low risk', 'Low risk',\n",
       "       'Moderate risk', 'Low risk', 'Low risk', 'High risk', 'Low risk',\n",
       "       'Low risk', 'Low risk', 'Low risk', 'Low risk', 'Low risk',\n",
       "       'Low risk', 'Low risk', 'Low risk', 'High risk', 'Low risk',\n",
       "       'Low risk', 'Low risk', 'Low risk', 'Low risk', 'Low risk',\n",
       "       'Low risk', 'Moderate risk', 'Low risk', 'Low risk', 'Low risk',\n",
       "       'Low risk', 'Low risk', 'Low risk', 'Low risk', 'Low risk',\n",
       "       'Moderate risk', 'Low risk', 'Moderate risk', 'Low risk',\n",
       "       'Low risk', 'Moderate risk', 'Low risk', 'Low risk', 'Low risk',\n",
       "       'Low risk', 'Low risk', 'Moderate risk', 'Low risk', 'Low risk',\n",
       "       'Low risk', 'Low risk', 'Low risk', 'Low risk', 'Moderate risk',\n",
       "       'Low risk', 'Moderate risk', 'Moderate risk', 'Low risk',\n",
       "       'Low risk', 'High risk', 'Low risk', 'Moderate risk', 'High risk',\n",
       "       'Low risk', 'Low risk', 'Low risk', 'Low risk', 'Low risk',\n",
       "       'Low risk', 'Low risk', 'Low risk', 'Low risk', 'Low risk',\n",
       "       'Low risk', 'Low risk', 'Low risk', 'Moderate risk', 'Low risk',\n",
       "       'Low risk', 'Low risk', 'Low risk', 'Low risk', 'Low risk',\n",
       "       'Low risk', 'Low risk', 'Low risk', 'Low risk', 'Low risk',\n",
       "       'Low risk', 'Low risk', 'Low risk', 'Low risk', 'Low risk',\n",
       "       'Low risk', 'Low risk', 'Low risk', 'Low risk', 'Low risk',\n",
       "       'Low risk', 'Moderate risk', 'Moderate risk', 'Low risk',\n",
       "       'Low risk', 'Moderate risk', 'Low risk', 'Low risk', 'Low risk',\n",
       "       'Low risk', 'Low risk', 'Low risk', 'Low risk', 'Low risk',\n",
       "       'Low risk', 'Low risk', 'Moderate risk', 'Low risk', 'Low risk',\n",
       "       'Low risk', 'High risk', 'Low risk', 'Low risk', 'Low risk',\n",
       "       'Low risk', 'Low risk', 'Low risk', 'Low risk', 'Low risk',\n",
       "       'Low risk', 'Low risk', 'Low risk', 'Low risk', 'Low risk',\n",
       "       'Low risk', 'Low risk', 'Low risk', 'Low risk', 'Low risk',\n",
       "       'Low risk', 'Moderate risk', 'Low risk', 'Low risk',\n",
       "       'Moderate risk', 'Low risk', 'Low risk', 'Low risk', 'Low risk',\n",
       "       'Low risk', 'Low risk', 'Low risk', 'Low risk', 'Low risk',\n",
       "       'Moderate risk', 'Low risk', 'Low risk', 'Moderate risk',\n",
       "       'Low risk', 'Low risk', 'Moderate risk', 'Low risk', 'Low risk',\n",
       "       'Low risk', 'Low risk', 'Low risk', 'Low risk', 'Low risk',\n",
       "       'Moderate risk', 'Low risk', 'High risk', 'Low risk', 'Low risk',\n",
       "       'Low risk', 'High risk', 'Low risk', 'Low risk', 'Low risk',\n",
       "       'Low risk', 'Low risk', 'Low risk', 'Low risk', 'Low risk',\n",
       "       'Moderate risk', 'Low risk', 'Low risk', 'Low risk', 'Low risk',\n",
       "       'Low risk', 'Low risk', 'Low risk', 'Moderate risk', 'Low risk',\n",
       "       'Low risk', 'Low risk', 'Low risk', 'Low risk', 'Low risk',\n",
       "       'Low risk', 'Moderate risk', 'Low risk', 'Low risk', 'Low risk',\n",
       "       'Low risk', 'Moderate risk', 'High risk', 'Low risk', 'Low risk',\n",
       "       'Low risk', 'Low risk', 'High risk', 'Low risk', 'Low risk',\n",
       "       'Low risk', 'Low risk', 'Low risk', 'Low risk', 'Low risk',\n",
       "       'Low risk', 'Low risk', 'Low risk', 'Moderate risk',\n",
       "       'Moderate risk', 'Moderate risk', 'Low risk', 'Moderate risk',\n",
       "       'Low risk', 'Low risk', 'Low risk', 'Low risk', 'Low risk',\n",
       "       'Low risk', 'Low risk', 'Low risk', 'Moderate risk', 'Low risk',\n",
       "       'Low risk', 'High risk', 'Low risk', 'Moderate risk',\n",
       "       'Moderate risk', 'Low risk', 'Low risk', 'Low risk', 'Low risk',\n",
       "       'Low risk', 'Low risk', 'Low risk', 'High risk', 'Low risk',\n",
       "       'Low risk', 'Low risk', 'Low risk', 'Low risk', 'Low risk',\n",
       "       'Low risk', 'Low risk', 'Low risk', 'High risk', 'Low risk',\n",
       "       'Low risk', 'Low risk', 'Low risk', 'Low risk', 'Low risk',\n",
       "       'Low risk', 'Low risk', 'Low risk', 'Low risk', 'Low risk',\n",
       "       'Low risk', 'Low risk', 'High risk', 'Moderate risk', 'Low risk',\n",
       "       'Low risk', 'High risk', 'Low risk', 'Moderate risk', 'Low risk',\n",
       "       'Low risk', 'Moderate risk', 'Moderate risk', 'Low risk',\n",
       "       'Low risk', 'Low risk', 'Low risk', 'Low risk', 'Low risk',\n",
       "       'Low risk', 'High risk', 'Low risk', 'Low risk', 'Low risk'],\n",
       "      dtype=object)"
      ]
     },
     "execution_count": 55,
     "metadata": {},
     "output_type": "execute_result"
    }
   ],
   "source": [
    "y_predictions = label_encoder_target.inverse_transform(y_predictions)\n",
    "y_predictions"
   ]
  },
  {
   "cell_type": "code",
   "execution_count": 56,
   "metadata": {},
   "outputs": [
    {
     "data": {
      "text/plain": [
       "528"
      ]
     },
     "execution_count": 56,
     "metadata": {},
     "output_type": "execute_result"
    }
   ],
   "source": [
    "len(y_predictions)"
   ]
  },
  {
   "cell_type": "code",
   "execution_count": 57,
   "metadata": {},
   "outputs": [
    {
     "data": {
      "text/html": [
       "<div>\n",
       "<style scoped>\n",
       "    .dataframe tbody tr th:only-of-type {\n",
       "        vertical-align: middle;\n",
       "    }\n",
       "\n",
       "    .dataframe tbody tr th {\n",
       "        vertical-align: top;\n",
       "    }\n",
       "\n",
       "    .dataframe thead th {\n",
       "        text-align: right;\n",
       "    }\n",
       "</style>\n",
       "<table border=\"1\" class=\"dataframe\">\n",
       "  <thead>\n",
       "    <tr style=\"text-align: right;\">\n",
       "      <th></th>\n",
       "      <th>id</th>\n",
       "      <th>predicted_target</th>\n",
       "    </tr>\n",
       "  </thead>\n",
       "  <tbody>\n",
       "    <tr>\n",
       "      <th>0</th>\n",
       "      <td>PA3001</td>\n",
       "      <td>NaN</td>\n",
       "    </tr>\n",
       "    <tr>\n",
       "      <th>1</th>\n",
       "      <td>PA3002</td>\n",
       "      <td>NaN</td>\n",
       "    </tr>\n",
       "    <tr>\n",
       "      <th>2</th>\n",
       "      <td>PA3003</td>\n",
       "      <td>NaN</td>\n",
       "    </tr>\n",
       "    <tr>\n",
       "      <th>3</th>\n",
       "      <td>PA3004</td>\n",
       "      <td>NaN</td>\n",
       "    </tr>\n",
       "    <tr>\n",
       "      <th>4</th>\n",
       "      <td>PA3005</td>\n",
       "      <td>NaN</td>\n",
       "    </tr>\n",
       "    <tr>\n",
       "      <th>...</th>\n",
       "      <td>...</td>\n",
       "      <td>...</td>\n",
       "    </tr>\n",
       "    <tr>\n",
       "      <th>523</th>\n",
       "      <td>PA3524</td>\n",
       "      <td>NaN</td>\n",
       "    </tr>\n",
       "    <tr>\n",
       "      <th>524</th>\n",
       "      <td>PA3525</td>\n",
       "      <td>NaN</td>\n",
       "    </tr>\n",
       "    <tr>\n",
       "      <th>525</th>\n",
       "      <td>PA3526</td>\n",
       "      <td>NaN</td>\n",
       "    </tr>\n",
       "    <tr>\n",
       "      <th>526</th>\n",
       "      <td>PA3527</td>\n",
       "      <td>NaN</td>\n",
       "    </tr>\n",
       "    <tr>\n",
       "      <th>527</th>\n",
       "      <td>PA3528</td>\n",
       "      <td>NaN</td>\n",
       "    </tr>\n",
       "  </tbody>\n",
       "</table>\n",
       "<p>528 rows × 2 columns</p>\n",
       "</div>"
      ],
      "text/plain": [
       "         id  predicted_target\n",
       "0    PA3001               NaN\n",
       "1    PA3002               NaN\n",
       "2    PA3003               NaN\n",
       "3    PA3004               NaN\n",
       "4    PA3005               NaN\n",
       "..      ...               ...\n",
       "523  PA3524               NaN\n",
       "524  PA3525               NaN\n",
       "525  PA3526               NaN\n",
       "526  PA3527               NaN\n",
       "527  PA3528               NaN\n",
       "\n",
       "[528 rows x 2 columns]"
      ]
     },
     "execution_count": 57,
     "metadata": {},
     "output_type": "execute_result"
    }
   ],
   "source": [
    "predictions_data = pd.read_csv(\"predictedTarget.csv\")\n",
    "predictions_data"
   ]
  },
  {
   "attachments": {},
   "cell_type": "markdown",
   "metadata": {},
   "source": [
    "adding the predictions data to the predicted target column"
   ]
  },
  {
   "cell_type": "code",
   "execution_count": 58,
   "metadata": {},
   "outputs": [
    {
     "data": {
      "text/html": [
       "<div>\n",
       "<style scoped>\n",
       "    .dataframe tbody tr th:only-of-type {\n",
       "        vertical-align: middle;\n",
       "    }\n",
       "\n",
       "    .dataframe tbody tr th {\n",
       "        vertical-align: top;\n",
       "    }\n",
       "\n",
       "    .dataframe thead th {\n",
       "        text-align: right;\n",
       "    }\n",
       "</style>\n",
       "<table border=\"1\" class=\"dataframe\">\n",
       "  <thead>\n",
       "    <tr style=\"text-align: right;\">\n",
       "      <th></th>\n",
       "      <th>id</th>\n",
       "      <th>predicted_target</th>\n",
       "    </tr>\n",
       "  </thead>\n",
       "  <tbody>\n",
       "    <tr>\n",
       "      <th>0</th>\n",
       "      <td>PA3001</td>\n",
       "      <td>Moderate risk</td>\n",
       "    </tr>\n",
       "    <tr>\n",
       "      <th>1</th>\n",
       "      <td>PA3002</td>\n",
       "      <td>Low risk</td>\n",
       "    </tr>\n",
       "    <tr>\n",
       "      <th>2</th>\n",
       "      <td>PA3003</td>\n",
       "      <td>Low risk</td>\n",
       "    </tr>\n",
       "    <tr>\n",
       "      <th>3</th>\n",
       "      <td>PA3004</td>\n",
       "      <td>Moderate risk</td>\n",
       "    </tr>\n",
       "    <tr>\n",
       "      <th>4</th>\n",
       "      <td>PA3005</td>\n",
       "      <td>Low risk</td>\n",
       "    </tr>\n",
       "    <tr>\n",
       "      <th>...</th>\n",
       "      <td>...</td>\n",
       "      <td>...</td>\n",
       "    </tr>\n",
       "    <tr>\n",
       "      <th>523</th>\n",
       "      <td>PA3524</td>\n",
       "      <td>Low risk</td>\n",
       "    </tr>\n",
       "    <tr>\n",
       "      <th>524</th>\n",
       "      <td>PA3525</td>\n",
       "      <td>High risk</td>\n",
       "    </tr>\n",
       "    <tr>\n",
       "      <th>525</th>\n",
       "      <td>PA3526</td>\n",
       "      <td>Low risk</td>\n",
       "    </tr>\n",
       "    <tr>\n",
       "      <th>526</th>\n",
       "      <td>PA3527</td>\n",
       "      <td>Low risk</td>\n",
       "    </tr>\n",
       "    <tr>\n",
       "      <th>527</th>\n",
       "      <td>PA3528</td>\n",
       "      <td>Low risk</td>\n",
       "    </tr>\n",
       "  </tbody>\n",
       "</table>\n",
       "<p>528 rows × 2 columns</p>\n",
       "</div>"
      ],
      "text/plain": [
       "         id predicted_target\n",
       "0    PA3001    Moderate risk\n",
       "1    PA3002         Low risk\n",
       "2    PA3003         Low risk\n",
       "3    PA3004    Moderate risk\n",
       "4    PA3005         Low risk\n",
       "..      ...              ...\n",
       "523  PA3524         Low risk\n",
       "524  PA3525        High risk\n",
       "525  PA3526         Low risk\n",
       "526  PA3527         Low risk\n",
       "527  PA3528         Low risk\n",
       "\n",
       "[528 rows x 2 columns]"
      ]
     },
     "execution_count": 58,
     "metadata": {},
     "output_type": "execute_result"
    }
   ],
   "source": [
    "predictions_data['predicted_target'] = y_predictions\n",
    "predictions_data"
   ]
  },
  {
   "attachments": {},
   "cell_type": "markdown",
   "metadata": {},
   "source": [
    "Exporting the predictions to a file"
   ]
  },
  {
   "cell_type": "code",
   "execution_count": 59,
   "metadata": {},
   "outputs": [],
   "source": [
    "predictions_data.to_csv(\"predictedTarget.csv\", index=False)"
   ]
  },
  {
   "attachments": {},
   "cell_type": "markdown",
   "metadata": {},
   "source": [
    "## Unsupervised model training"
   ]
  },
  {
   "cell_type": "code",
   "execution_count": 60,
   "metadata": {},
   "outputs": [
    {
     "name": "stdout",
     "output_type": "stream",
     "text": [
      "2    1009\n",
      "0     663\n",
      "1     538\n",
      "dtype: int64\n"
     ]
    },
    {
     "name": "stderr",
     "output_type": "stream",
     "text": [
      "c:\\Users\\ebinp\\my_files\\pg\\data_mining\\assignment\\assignment_2\\venv\\lib\\site-packages\\sklearn\\cluster\\_kmeans.py:870: FutureWarning: The default value of `n_init` will change from 10 to 'auto' in 1.4. Set the value of `n_init` explicitly to suppress the warning\n",
      "  warnings.warn(\n"
     ]
    }
   ],
   "source": [
    "from sklearn.cluster import KMeans\n",
    "\n",
    "kmeans = KMeans(n_clusters=3, random_state=40)\n",
    "kmeans.fit(X_upsampled_train)\n",
    "\n",
    "cluster_labels = kmeans.labels_\n",
    "print(pd.DataFrame(cluster_labels).value_counts())"
   ]
  },
  {
   "attachments": {},
   "cell_type": "markdown",
   "metadata": {},
   "source": [
    "Plotting a `scatterplot` of KMeans cluster"
   ]
  },
  {
   "cell_type": "code",
   "execution_count": 61,
   "metadata": {},
   "outputs": [
    {
     "data": {
      "text/plain": [
       "<AxesSubplot: xlabel='x1', ylabel='x18'>"
      ]
     },
     "execution_count": 61,
     "metadata": {},
     "output_type": "execute_result"
    },
    {
     "data": {
      "image/png": "[encoded data removed]",
      "text/plain": [
       "<Figure size 640x480 with 1 Axes>"
      ]
     },
     "metadata": {},
     "output_type": "display_data"
    }
   ],
   "source": [
    "X_upsampled_train_copy = X_upsampled_train.copy()\n",
    "X_upsampled_train_copy['cluster'] = cluster_labels\n",
    "\n",
    "sns.scatterplot(data=X_upsampled_train_copy, x='x1', y='x18', hue='cluster')"
   ]
  },
  {
   "attachments": {},
   "cell_type": "markdown",
   "metadata": {},
   "source": [
    "`Silhouette Score` of KMeans Clustering"
   ]
  },
  {
   "cell_type": "code",
   "execution_count": 62,
   "metadata": {},
   "outputs": [
    {
     "name": "stdout",
     "output_type": "stream",
     "text": [
      "Silhouette score of KMeans Clustering model: 0.5760307119255029\n"
     ]
    }
   ],
   "source": [
    "print(f\"Silhouette score of KMeans Clustering model: {metrics.silhouette_score(X_upsampled_train, kmeans.labels_)}\")"
   ]
  },
  {
   "attachments": {},
   "cell_type": "markdown",
   "metadata": {},
   "source": [
    "`t-SNE` plot for KMeans Cluster"
   ]
  },
  {
   "cell_type": "code",
   "execution_count": 63,
   "metadata": {},
   "outputs": [
    {
     "data": {
      "image/png": "[encoded data removed]",
      "text/plain": [
       "<Figure size 640x480 with 1 Axes>"
      ]
     },
     "metadata": {},
     "output_type": "display_data"
    }
   ],
   "source": [
    "from sklearn.manifold import TSNE\n",
    "\n",
    "tsne = TSNE(n_components=2, random_state=40)\n",
    "X_upsampled_tsne = tsne.fit_transform(X_upsampled_train)\n",
    "\n",
    "# data frame for plotting\n",
    "df = pd.DataFrame({'x': X_upsampled_tsne[:, 0], 'y': X_upsampled_tsne[:, 1], 'label': cluster_labels})\n",
    "sns.scatterplot(data=df, x='x', y='y', hue='label', palette='viridis')\n",
    "plt.title(\"t-SNE Plot of K-means Clustering\")\n",
    "plt.show()"
   ]
  },
  {
   "attachments": {},
   "cell_type": "markdown",
   "metadata": {},
   "source": [
    "**Agglomerative Clustering**"
   ]
  },
  {
   "cell_type": "code",
   "execution_count": 64,
   "metadata": {},
   "outputs": [
    {
     "name": "stdout",
     "output_type": "stream",
     "text": [
      "1    938\n",
      "0    720\n",
      "2    552\n",
      "dtype: int64\n"
     ]
    }
   ],
   "source": [
    "# Code Reference: https://scikit-learn.org/stable/modules/generated/sklearn.cluster.AgglomerativeClustering.html\n",
    "from sklearn.cluster import AgglomerativeClustering\n",
    "\n",
    "agglomerative_clustering = AgglomerativeClustering(n_clusters=3).fit(X_upsampled_train)\n",
    "\n",
    "agg_cluster_labels = agglomerative_clustering.labels_\n",
    "print(pd.DataFrame(agg_cluster_labels).value_counts())"
   ]
  },
  {
   "attachments": {},
   "cell_type": "markdown",
   "metadata": {},
   "source": [
    "`Scatterplot` of Agglomerative Cluster"
   ]
  },
  {
   "cell_type": "code",
   "execution_count": 65,
   "metadata": {},
   "outputs": [
    {
     "data": {
      "text/plain": [
       "<AxesSubplot: xlabel='x1', ylabel='x18'>"
      ]
     },
     "execution_count": 65,
     "metadata": {},
     "output_type": "execute_result"
    },
    {
     "data": {
      "image/png": "[encoded data removed]",
      "text/plain": [
       "<Figure size 640x480 with 1 Axes>"
      ]
     },
     "metadata": {},
     "output_type": "display_data"
    }
   ],
   "source": [
    "X_upsampled_train_copy2 = X_upsampled_train.copy()\n",
    "X_upsampled_train_copy2['cluster'] = agg_cluster_labels\n",
    "sns.scatterplot(data=X_upsampled_train_copy2, x='x1', y='x18', hue='cluster')"
   ]
  },
  {
   "attachments": {},
   "cell_type": "markdown",
   "metadata": {},
   "source": [
    "`Silhouette Score` of Agglomerative Clustering"
   ]
  },
  {
   "cell_type": "code",
   "execution_count": 66,
   "metadata": {},
   "outputs": [
    {
     "name": "stdout",
     "output_type": "stream",
     "text": [
      "Silhouette score of the AgglomerativeClustering model: 0.5237705507872319\n"
     ]
    }
   ],
   "source": [
    "print(f\"Silhouette score of the AgglomerativeClustering model: {metrics.silhouette_score(X_upsampled_train, agg_cluster_labels)}\")"
   ]
  },
  {
   "attachments": {},
   "cell_type": "markdown",
   "metadata": {},
   "source": [
    "`t-SNE` plot for Agglomerative Cluster"
   ]
  },
  {
   "cell_type": "code",
   "execution_count": 67,
   "metadata": {},
   "outputs": [
    {
     "data": {
      "image/png": "[encoded data removed]",
      "text/plain": [
       "<Figure size 640x480 with 1 Axes>"
      ]
     },
     "metadata": {},
     "output_type": "display_data"
    }
   ],
   "source": [
    "tsne_agg = TSNE(n_components=2, random_state=40)\n",
    "X_upsampled_tsne_agg = tsne_agg.fit_transform(X_upsampled_train)\n",
    "\n",
    "# data frame for plotting\n",
    "df = pd.DataFrame({'x': X_upsampled_tsne_agg[:, 0], 'y': X_upsampled_tsne_agg[:, 1], 'label': agg_cluster_labels})\n",
    "sns.scatterplot(data=df, x='x', y='y', hue='label', palette='viridis')\n",
    "plt.title(\"t-SNE Plot of Agglomerative Clustering\")\n",
    "plt.show()"
   ]
  },
  {
   "cell_type": "code",
   "execution_count": null,
   "metadata": {},
   "outputs": [],
   "source": []
  }
 ],
 "metadata": {
  "kernelspec": {
   "display_name": "Python 3 (ipykernel)",
   "language": "python",
   "name": "python3"
  },
  "language_info": {
   "codemirror_mode": {
    "name": "ipython",
    "version": 3
   },
   "file_extension": ".py",
   "mimetype": "text/x-python",
   "name": "python",
   "nbconvert_exporter": "python",
   "pygments_lexer": "ipython3",
   "version": "3.10.11"
  }
 },
 "nbformat": 4,
 "nbformat_minor": 2
}
